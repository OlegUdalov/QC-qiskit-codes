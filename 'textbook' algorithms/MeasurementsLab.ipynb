{
 "cells": [
  {
   "cell_type": "code",
   "execution_count": 1,
   "id": "a527f6e5-2b16-441d-aa1f-e7f348a24103",
   "metadata": {},
   "outputs": [
    {
     "data": {
      "text/html": [
       "<pre style=\"word-wrap: normal;white-space: pre;background: #fff0;line-height: 1.1;font-family: &quot;Courier New&quot;,Courier,monospace\">     ┌────────────┐                \n",
       "q_0: ┤ Ry(1.9106) ├─────■──────────\n",
       "     └────────────┘┌────┴────┐┌───┐\n",
       "q_1: ──────────────┤ Ry(π/2) ├┤ X ├\n",
       "                   └─────────┘└───┘\n",
       "c: 1/══════════════════════════════\n",
       "                                   </pre>"
      ],
      "text/plain": [
       "     ┌────────────┐                \n",
       "q_0: ┤ Ry(1.9106) ├─────■──────────\n",
       "     └────────────┘┌────┴────┐┌───┐\n",
       "q_1: ──────────────┤ Ry(π/2) ├┤ X ├\n",
       "                   └─────────┘└───┘\n",
       "c: 1/══════════════════════════════\n",
       "                                   "
      ]
     },
     "execution_count": 1,
     "metadata": {},
     "output_type": "execute_result"
    }
   ],
   "source": [
    "import qiskit \n",
    "from qiskit import QuantumCircuit\n",
    "from qiskit_aer import Aer\n",
    "import numpy as np\n",
    "\n",
    "qc3_prep = QuantumCircuit(2, 1) # Initialize circuit with two qubits\n",
    "# Prepare quantum state\n",
    "qc3_prep.ry(np.arccos(1/3**0.5)*2, 0)\n",
    "qc3_prep.cry(np.pi/2, 0, 1)\n",
    "qc3_prep.x(1)\n",
    "\n",
    "qc3_prep.draw(fold=-1)"
   ]
  },
  {
   "cell_type": "code",
   "execution_count": 6,
   "id": "755c41f5-e7e8-457a-b9c8-740ae17b22fb",
   "metadata": {},
   "outputs": [
    {
     "name": "stdout",
     "output_type": "stream",
     "text": [
      "psi = array([0.        +0.j, 0.57735027+0.j, 0.57735027+0.j, 0.57735027+0.j])\n"
     ]
    },
    {
     "name": "stderr",
     "output_type": "stream",
     "text": [
      "C:\\Users\\Oleg\\AppData\\Local\\Temp\\ipykernel_8508\\1529687919.py:7: DeprecationWarning: The return type of saved statevectors has been changed from a `numpy.ndarray` to a `qiskit.quantum_info.Statevector` as of qiskit-aer 0.10. Accessing numpy array attributes is deprecated and will result in an error in a future release. To continue using saved result objects as arrays you can explicitly cast them using  `np.asarray(object)`.\n",
      "  print(f'psi = {psi.round(10)!r}')\n"
     ]
    }
   ],
   "source": [
    "from qiskit import QuantumCircuit, transpile\n",
    "\n",
    "state_simulator = Aer.get_backend('statevector_simulator')\n",
    "circ = transpile(qc3_prep, state_simulator)\n",
    "result = state_simulator.run(circ).result()\n",
    "psi = result.get_statevector(qc3_prep)\n",
    "print(f'psi = {psi.round(10)!r}')"
   ]
  },
  {
   "cell_type": "code",
   "execution_count": null,
   "id": "ae891df2-e1f0-4035-88fe-ac6fb0ebd23a",
   "metadata": {},
   "outputs": [],
   "source": []
  }
 ],
 "metadata": {
  "kernelspec": {
   "display_name": "Python 3 (ipykernel)",
   "language": "python",
   "name": "python3"
  },
  "language_info": {
   "codemirror_mode": {
    "name": "ipython",
    "version": 3
   },
   "file_extension": ".py",
   "mimetype": "text/x-python",
   "name": "python",
   "nbconvert_exporter": "python",
   "pygments_lexer": "ipython3",
   "version": "3.10.2"
  }
 },
 "nbformat": 4,
 "nbformat_minor": 5
}
