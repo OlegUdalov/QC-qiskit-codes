{
 "cells": [
  {
   "cell_type": "code",
   "execution_count": 2,
   "id": "a527f6e5-2b16-441d-aa1f-e7f348a24103",
   "metadata": {},
   "outputs": [
    {
     "data": {
      "image/png": "[encoded data removed]",
      "text/plain": [
       "<Figure size 454.517x200.667 with 1 Axes>"
      ]
     },
     "execution_count": 2,
     "metadata": {},
     "output_type": "execute_result"
    }
   ],
   "source": [
    "import qiskit \n",
    "from qiskit import QuantumCircuit\n",
    "from qiskit_aer import Aer\n",
    "import numpy as np\n",
    "import math\n",
    "\n",
    "PhKB = QuantumCircuit(2) # Initialize circuit with two qubits\n",
    "# Prepare quantum state\n",
    "initial_x = [math.cos(np.pi/8), math.sin(np.pi/8)]\n",
    "PhKB.initialize(initial_x, 0)\n",
    "PhKB.x(1)\n",
    "PhKB.h(1)\n",
    "PhKB.cx(0,1)\n",
    "\n",
    "#quantum teleportation circuit\n",
    "PhKB.draw('mpl')"
   ]
  },
  {
   "cell_type": "code",
   "execution_count": 3,
   "id": "755c41f5-e7e8-457a-b9c8-740ae17b22fb",
   "metadata": {},
   "outputs": [
    {
     "name": "stdout",
     "output_type": "stream",
     "text": [
      "psi = array([ 0.65+0.j, -0.27-0.j, -0.65-0.j,  0.27+0.j])\n"
     ]
    },
    {
     "name": "stderr",
     "output_type": "stream",
     "text": [
      "C:\\Users\\Oleg\\AppData\\Local\\Temp\\ipykernel_20900\\1485581445.py:7: DeprecationWarning: The return type of saved statevectors has been changed from a `numpy.ndarray` to a `qiskit.quantum_info.Statevector` as of qiskit-aer 0.10. Accessing numpy array attributes is deprecated and will result in an error in a future release. To continue using saved result objects as arrays you can explicitly cast them using  `np.asarray(object)`.\n",
      "  print(f'psi = {psi.round(2)!r}')\n"
     ]
    }
   ],
   "source": [
    "from qiskit import QuantumCircuit, transpile\n",
    "\n",
    "state_simulator = Aer.get_backend('statevector_simulator')\n",
    "circ = transpile(PhKB, state_simulator)\n",
    "result = state_simulator.run(circ).result()\n",
    "psi = result.get_statevector(PhKB)\n",
    "print(f'psi = {psi.round(2)!r}')"
   ]
  },
  {
   "cell_type": "code",
   "execution_count": null,
   "id": "ae891df2-e1f0-4035-88fe-ac6fb0ebd23a",
   "metadata": {},
   "outputs": [],
   "source": []
  }
 ],
 "metadata": {
  "kernelspec": {
   "display_name": "Python 3 (ipykernel)",
   "language": "python",
   "name": "python3"
  },
  "language_info": {
   "codemirror_mode": {
    "name": "ipython",
    "version": 3
   },
   "file_extension": ".py",
   "mimetype": "text/x-python",
   "name": "python",
   "nbconvert_exporter": "python",
   "pygments_lexer": "ipython3",
   "version": "3.10.2"
  }
 },
 "nbformat": 4,
 "nbformat_minor": 5
}
