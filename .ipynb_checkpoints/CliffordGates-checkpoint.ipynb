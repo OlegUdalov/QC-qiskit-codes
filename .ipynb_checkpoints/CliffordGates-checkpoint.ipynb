{
 "cells": [
  {
   "cell_type": "code",
   "execution_count": 1,
   "id": "1b815e3d-a1b8-43bb-8e50-70d15b7aa40d",
   "metadata": {},
   "outputs": [
    {
     "data": {
      "image/png": "[encoded data removed]",
      "text/plain": [
       "<Figure size 370.906x200.667 with 1 Axes>"
      ]
     },
     "execution_count": 1,
     "metadata": {},
     "output_type": "execute_result"
    }
   ],
   "source": [
    "import numpy as np\n",
    "import math\n",
    "import qiskit \n",
    "from qiskit import QuantumCircuit\n",
    "from qiskit_aer import Aer\n",
    "\n",
    "initial_x = [1/math.sqrt(2), 1/math.sqrt(2)] # define initial state as |+>\n",
    "initial_0 = [1, 0] # define initial state as |0>\n",
    "initial_i = [1/math.sqrt(2), 1j/math.sqrt(2)] # define initial state as |i>\n",
    "\n",
    "\n",
    "creg1 = qiskit.ClassicalRegister(1)\n",
    "qubit = qiskit.QuantumRegister(1)\n",
    "qc21demo = qiskit.QuantumCircuit(qubit,creg1)\n",
    "qc21demo.initialize(initial_0, qubit)\n",
    "qc21demo.h(qubit[0])\n",
    "qc21demo.s(qubit[0])\n",
    "qc21demo.draw('mpl')\n",
    "\n"
   ]
  },
  {
   "cell_type": "code",
   "execution_count": 2,
   "id": "0c54805e-5f55-4641-9ae5-b9b5a63d9534",
   "metadata": {},
   "outputs": [
    {
     "name": "stdout",
     "output_type": "stream",
     "text": [
      "Statevector([0.70710678+0.j        , 0.        +0.70710678j],\n",
      "            dims=(2,))\n"
     ]
    }
   ],
   "source": [
    "from qiskit_aer import AerSimulator\n",
    "from qiskit import QuantumCircuit, transpile\n",
    "\n",
    "#simulator = AerSimulator()\n",
    "#state = execute(qc21demo, simulator).result().get_statevector()\n",
    "#circ = transpile(qc21demo, simulator)\n",
    "#result = simulator.run(circ).result()\n",
    "#sv = result.get_statevector(circ)\n",
    "\n",
    "qc21demo.remove_final_measurements()  # no measurements allowed\n",
    "from qiskit.quantum_info import Statevector\n",
    "statevector = Statevector(qc21demo)\n",
    "\n",
    "print(statevector)"
   ]
  },
  {
   "cell_type": "code",
   "execution_count": null,
   "id": "ccece7f5-62c0-43b2-a2fb-a41ccf01ac54",
   "metadata": {},
   "outputs": [],
   "source": []
  },
  {
   "cell_type": "code",
   "execution_count": null,
   "id": "64419b40-1e4e-433d-8777-49ba7b500da1",
   "metadata": {},
   "outputs": [],
   "source": []
  },
  {
   "cell_type": "code",
   "execution_count": null,
   "id": "33858ea7-0a9e-4747-9c9a-16e41496f0ea",
   "metadata": {},
   "outputs": [],
   "source": []
  }
 ],
 "metadata": {
  "kernelspec": {
   "display_name": "Python 3 (ipykernel)",
   "language": "python",
   "name": "python3"
  },
  "language_info": {
   "codemirror_mode": {
    "name": "ipython",
    "version": 3
   },
   "file_extension": ".py",
   "mimetype": "text/x-python",
   "name": "python",
   "nbconvert_exporter": "python",
   "pygments_lexer": "ipython3",
   "version": "3.10.2"
  }
 },
 "nbformat": 4,
 "nbformat_minor": 5
}
