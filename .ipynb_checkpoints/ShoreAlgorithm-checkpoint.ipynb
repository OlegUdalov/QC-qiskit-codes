{
 "cells": [
  {
   "cell_type": "markdown",
   "id": "c3fff4be-26eb-4dd5-8d3e-5a8b57ce636e",
   "metadata": {},
   "source": [
    "## This code studies the quantum Shor algorithm.\n",
    "\n",
    "### Here are some notes on the classical Shor algorithm\n",
    "1. Here is the link to the good descrition of the classical steps of the Shor algorithm:\n",
    "   https://kaustubhrakhade.medium.com/shors-factoring-algorithm-94a0796a13b1\n",
    "2. Shortly the algorithm works as follows:\n",
    "   a) Let's N is the number you need to factor\n",
    "   b) Choose some random k number, k<N\n",
    "   c) Check if they have dommon factrs using Euclid's algorithnm (see it later)\n",
    "   d) If not, then find the 'period' r, using the following approach:\n",
    "       s1. choose q=1, then find s=q*k mod N.\n",
    "       s2. if s=1 then you are done calculate number of times you go through the loop. It would be r.\n",
    "       s3. if not replace q with s and go to s1.\n",
    "       s4. perfrom steps s1 to s3 until find r.\n",
    "   e) if r is odd, chose another k and repeat the whole thing again.\n",
    "   f) if r is even, then go to repetition r/2 in d) and take s from than step.\n",
    "   g) find f1=GCD(s+1,N) and f2=GDP(s+2,N) these whould two factor of the N.\n",
    "\n",
    "3. Restrictions: 1) the algorithm does not work for N=x^y, 2) It does not work for even N, 3) does not work is N is a prime number\n",
    "\n",
    "4. If N consists of multiple fators, f1*f2!=N, f1 and f2 will constains other factors of N.\n",
    "5. Example of Euclid's algorithm\n",
    "      -    GCD(21,35):    write 35 and 21\n",
    "      -                    35-21=14\n",
    "      -                     14  and 21\n",
    "      -                             21-14=7\n",
    "      -                     14  and 7\n",
    "      -                 14-7=7\n",
    "      -                     7   and 7\n",
    "      -                     7 is the GCD\n",
    "      - if you get 1 as the result, there is no  GCD other than 1."
   ]
  },
  {
   "cell_type": "code",
   "execution_count": null,
   "id": "995bc624-da33-487d-9e9a-9afb9ff25f47",
   "metadata": {},
   "outputs": [],
   "source": []
  }
 ],
 "metadata": {
  "kernelspec": {
   "display_name": "Python 3 (ipykernel)",
   "language": "python",
   "name": "python3"
  },
  "language_info": {
   "codemirror_mode": {
    "name": "ipython",
    "version": 3
   },
   "file_extension": ".py",
   "mimetype": "text/x-python",
   "name": "python",
   "nbconvert_exporter": "python",
   "pygments_lexer": "ipython3",
   "version": "3.10.2"
  }
 },
 "nbformat": 4,
 "nbformat_minor": 5
}
