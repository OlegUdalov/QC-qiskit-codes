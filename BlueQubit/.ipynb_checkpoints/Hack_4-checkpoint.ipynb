{
 "cells": [
  {
   "cell_type": "markdown",
   "id": "ad38308a-a619-4c8f-90e8-1b8bd01620fc",
   "metadata": {},
   "source": [
    "# BlueQubit hackathon"
   ]
  },
  {
   "cell_type": "code",
   "execution_count": 2,
   "id": "69e0106a-a1c6-4d07-aed4-aae2037bc318",
   "metadata": {},
   "outputs": [],
   "source": [
    "import numpy as np\n",
    "import time\n",
    "import sys\n",
    "import math\n",
    "sys.path\n",
    "sys.path.insert(0, 'C:/Users/Oleg/Google Диск/QC/Codes/QC-qiskit-codes/Shor')\n",
    "sys.path.insert(0, 'C:/Users/Oleg/Google Диск/QC/Codes/QC-qiskit-codes/Library')\n",
    "sys.path.insert(0, 'C:/Users/Oleg/Google Диск/QC/Codes/QC-qiskit-codes')\n",
    "\n",
    "import qiskit\n",
    "from qiskit import QuantumRegister as Q_R\n",
    "from qiskit import ClassicalRegister as C_R\n",
    "from qiskit_aer import Aer\n",
    "from qiskit_aer import AerSimulator\n",
    "from qiskit import QuantumCircuit, transpile\n",
    "\n"
   ]
  },
  {
   "cell_type": "code",
   "execution_count": 419,
   "id": "d4456fa6-8624-4ef1-800a-629303e7a378",
   "metadata": {},
   "outputs": [],
   "source": [
    "import qiskit.qasm2\n",
    " \n",
    "q = qiskit.qasm2.load(\"circuit_2_42q.qasm\")"
   ]
  },
  {
   "cell_type": "code",
   "execution_count": 420,
   "id": "7e8d2caa-8a94-4bda-b278-24ed9b42e8c6",
   "metadata": {},
   "outputs": [],
   "source": [
    "#q.draw('mpl')"
   ]
  },
  {
   "cell_type": "markdown",
   "id": "0dedd0ef-5413-4348-8e87-1ab40e4aae55",
   "metadata": {},
   "source": [
    "Total number of gates: 3155\n",
    "\n",
    "Measurement order: 33 24 23 7 "
   ]
  },
  {
   "cell_type": "code",
   "execution_count": 421,
   "id": "94d710a7-0527-4c4a-9242-15901bc2b0e3",
   "metadata": {},
   "outputs": [
    {
     "name": "stdout",
     "output_type": "stream",
     "text": [
      "Total number of gates: 3155\n",
      "Number of gates with qubits in q_num: 281\n",
      "Gates positions: [5, 6, 7, 8, 9, 10, 11, 12, 13, 14, 32, 33, 34, 35, 36, 37, 38, 69, 70, 71, 72, 73, 74, 81, 82, 83, 84, 85, 86, 87, 93, 99, 100, 101, 102, 103, 104, 105, 106, 107, 108, 109, 110, 111, 130, 137, 138, 139, 140, 141, 170, 171, 172, 173, 174, 175, 176, 177, 194, 201, 202, 203, 204, 205, 206, 213, 214, 215, 216, 217, 224, 225, 226, 227, 228, 289, 290, 291, 292, 293, 294, 295, 365, 366, 367, 368, 369, 370, 868, 869, 870, 871, 872, 894, 895, 896, 897, 898, 899, 900, 1063, 1064, 1065, 1066, 1067, 1068, 1069, 1092, 1093, 1094, 1095, 1096, 1097, 1098, 1099, 1100, 1101, 1102, 1114, 1115, 1116, 1117, 1118, 1119, 1120, 1127, 1134, 1135, 1136, 1137, 1138, 1139, 1140, 1141, 1142, 1143, 1144, 1145, 1153, 1154, 1155, 1156, 1157, 1158, 1159, 1160, 1193, 1200, 1201, 1202, 1203, 1204, 1205, 1206, 1207, 1214, 1215, 1216, 1217, 1218, 1219, 1250, 1258, 1259, 1260, 1261, 1262, 1263, 1271, 1272, 1273, 1274, 1275, 1276, 1277, 1278, 1279, 1280, 1281, 1282, 1283, 1284, 1285, 1292, 1298, 1299, 1300, 1301, 1302, 1303, 1544, 1545, 1546, 1547, 1548, 1559, 1560, 1561, 1562, 1563, 1564, 1571, 1578, 1579, 1580, 1581, 1582, 1583, 1609, 1610, 1611, 1612, 1613, 1614, 1615, 1616, 1617, 1618, 1619, 1620, 1621, 1635, 1643, 1644, 1645, 1646, 1647, 1648, 1649, 1657, 1658, 1659, 1660, 1661, 1662, 1668, 1669, 1670, 1671, 1672, 1685, 1686, 1687, 1688, 1689, 1690, 1691, 1692, 1693, 1694, 1695, 1696, 2200, 2201, 2202, 2203, 2204, 2205, 2212, 2213, 2214, 2215, 2216, 2879, 2880, 2881, 2882, 2883, 2884, 2885, 2905, 2906, 2907, 2908, 2909, 3115, 3120, 3126, 3136, 3137, 3146]\n",
      "Positions of double gates : [17, 23, 30, 37, 44, 50, 58, 64, 75, 82, 93, 100, 118, 125, 131, 138, 146, 154, 161, 167, 175, 183, 201, 208, 221, 228, 234, 240]\n"
     ]
    }
   ],
   "source": [
    "#counting gates and finding the last gate nuber for a given qubit and finding the last 2-qubit gate\n",
    "q_num = [33, 24, 23, 7, 13, 2]\n",
    "gate_num, gate_count, gate_position, double_qubit_gates_number = gates_counting_func(q, q_num)"
   ]
  },
  {
   "cell_type": "code",
   "execution_count": 422,
   "id": "c14d698e-0190-4ee3-bf0f-af69009f84ce",
   "metadata": {},
   "outputs": [
    {
     "name": "stdout",
     "output_type": "stream",
     "text": [
      "Last double gate position: 1685\n",
      "Last double gate position in the list for give qubits: 240\n"
     ]
    }
   ],
   "source": [
    "last_double_gate_position = gate_position[double_qubit_gates_number[len(double_qubit_gates_number)-1]]\n",
    "print('Last double gate position: ' + str(last_double_gate_position))\n",
    "last_double_gate_poistion_for_qubit = double_qubit_gates_number[len(double_qubit_gates_number)-1]\n",
    "print('Last double gate position in the list for give qubits: ' + str(last_double_gate_poistion_for_qubit))"
   ]
  },
  {
   "cell_type": "code",
   "execution_count": 423,
   "id": "86dc10b9-e691-4ac8-9ca8-b191c07316b3",
   "metadata": {},
   "outputs": [],
   "source": [
    "#Reorder gates to make measurements earlier. Not the full circuit but part with first 6 qubits measurements\n",
    "counter = 0\n",
    "for i in range(last_double_gate_poistion_for_qubit + 1, gate_count):\n",
    "    main_circ_gate_num = gate_position[i]\n",
    "    #print(main_circ_gate_num)\n",
    "    insert_position = last_double_gate_position + 1 + counter\n",
    "    counter = counter + 1\n",
    "    #print(insert_position)\n",
    "    inst = q.data[main_circ_gate_num]\n",
    "    del q.data[main_circ_gate_num]\n",
    "    q.data.insert(insert_position, inst)"
   ]
  },
  {
   "cell_type": "code",
   "execution_count": 424,
   "id": "fbf9242d-2772-47a1-a764-f691d7931094",
   "metadata": {},
   "outputs": [],
   "source": [
    "#Saving reordered circuit\n",
    "qc_full_reordered = QuantumCircuit(42,42)\n",
    "qc_full_reordered = q"
   ]
  },
  {
   "cell_type": "code",
   "execution_count": 425,
   "id": "d892c3ea-8e84-492c-ac3c-58ab9abe3c28",
   "metadata": {},
   "outputs": [
    {
     "name": "stdout",
     "output_type": "stream",
     "text": [
      "Total number of gates: 3155\n",
      "Number of gates with qubits in q_num: 281\n",
      "Gates positions: [5, 6, 7, 8, 9, 10, 11, 12, 13, 14, 32, 33, 34, 35, 36, 37, 38, 69, 70, 71, 72, 73, 74, 81, 82, 83, 84, 85, 86, 87, 93, 99, 100, 101, 102, 103, 104, 105, 106, 107, 108, 109, 110, 111, 130, 137, 138, 139, 140, 141, 170, 171, 172, 173, 174, 175, 176, 177, 194, 201, 202, 203, 204, 205, 206, 213, 214, 215, 216, 217, 224, 225, 226, 227, 228, 289, 290, 291, 292, 293, 294, 295, 365, 366, 367, 368, 369, 370, 868, 869, 870, 871, 872, 894, 895, 896, 897, 898, 899, 900, 1063, 1064, 1065, 1066, 1067, 1068, 1069, 1092, 1093, 1094, 1095, 1096, 1097, 1098, 1099, 1100, 1101, 1102, 1114, 1115, 1116, 1117, 1118, 1119, 1120, 1127, 1134, 1135, 1136, 1137, 1138, 1139, 1140, 1141, 1142, 1143, 1144, 1145, 1153, 1154, 1155, 1156, 1157, 1158, 1159, 1160, 1193, 1200, 1201, 1202, 1203, 1204, 1205, 1206, 1207, 1214, 1215, 1216, 1217, 1218, 1219, 1250, 1258, 1259, 1260, 1261, 1262, 1263, 1271, 1272, 1273, 1274, 1275, 1276, 1277, 1278, 1279, 1280, 1281, 1282, 1283, 1284, 1285, 1292, 1298, 1299, 1300, 1301, 1302, 1303, 1544, 1545, 1546, 1547, 1548, 1559, 1560, 1561, 1562, 1563, 1564, 1571, 1578, 1579, 1580, 1581, 1582, 1583, 1609, 1610, 1611, 1612, 1613, 1614, 1615, 1616, 1617, 1618, 1619, 1620, 1621, 1635, 1643, 1644, 1645, 1646, 1647, 1648, 1649, 1657, 1658, 1659, 1660, 1661, 1662, 1668, 1669, 1670, 1671, 1672, 1685, 1686, 1687, 1688, 1689, 1690, 1691, 1692, 1693, 1694, 1695, 1696, 1697, 1698, 1699, 1700, 1701, 1702, 1703, 1704, 1705, 1706, 1707, 1708, 1709, 1710, 1711, 1712, 1713, 1714, 1715, 1716, 1717, 1718, 1719, 1720, 1721, 1722, 1723, 1724, 1725]\n",
      "Positions of double gates : [17, 23, 30, 37, 44, 50, 58, 64, 75, 82, 93, 100, 118, 125, 131, 138, 146, 154, 161, 167, 175, 183, 201, 208, 221, 228, 234, 240]\n"
     ]
    }
   ],
   "source": [
    "gate_num_reord, gate_count_reord, gate_position_reord, double_qubit_gates_number_reord = gates_counting_func(qc_full_reordered, q_num)"
   ]
  },
  {
   "cell_type": "code",
   "execution_count": 426,
   "id": "f115c405-7cc1-4d1a-a6b4-c823b1181b4f",
   "metadata": {},
   "outputs": [],
   "source": [
    "qc_1_and_2 = QuantumCircuit(42,42)\n",
    "for i in range(gate_position_reord[len(gate_position_reord)-1]+1):\n",
    "    qc_1_and_2.append(qc_full_reordered.data[i], qc_1_and_2.qubits, qc_1_and_2.clbits)\n",
    "#new_qc.draw('mpl')    "
   ]
  },
  {
   "cell_type": "code",
   "execution_count": 427,
   "id": "381ee4b4-5ba6-4a73-aec9-e0876f7d2c46",
   "metadata": {},
   "outputs": [
    {
     "name": "stdout",
     "output_type": "stream",
     "text": [
      "Total number of gates: 1726\n",
      "Number of gates with qubits in q_num: 281\n",
      "Gates positions: [5, 6, 7, 8, 9, 10, 11, 12, 13, 14, 32, 33, 34, 35, 36, 37, 38, 69, 70, 71, 72, 73, 74, 81, 82, 83, 84, 85, 86, 87, 93, 99, 100, 101, 102, 103, 104, 105, 106, 107, 108, 109, 110, 111, 130, 137, 138, 139, 140, 141, 170, 171, 172, 173, 174, 175, 176, 177, 194, 201, 202, 203, 204, 205, 206, 213, 214, 215, 216, 217, 224, 225, 226, 227, 228, 289, 290, 291, 292, 293, 294, 295, 365, 366, 367, 368, 369, 370, 868, 869, 870, 871, 872, 894, 895, 896, 897, 898, 899, 900, 1063, 1064, 1065, 1066, 1067, 1068, 1069, 1092, 1093, 1094, 1095, 1096, 1097, 1098, 1099, 1100, 1101, 1102, 1114, 1115, 1116, 1117, 1118, 1119, 1120, 1127, 1134, 1135, 1136, 1137, 1138, 1139, 1140, 1141, 1142, 1143, 1144, 1145, 1153, 1154, 1155, 1156, 1157, 1158, 1159, 1160, 1193, 1200, 1201, 1202, 1203, 1204, 1205, 1206, 1207, 1214, 1215, 1216, 1217, 1218, 1219, 1250, 1258, 1259, 1260, 1261, 1262, 1263, 1271, 1272, 1273, 1274, 1275, 1276, 1277, 1278, 1279, 1280, 1281, 1282, 1283, 1284, 1285, 1292, 1298, 1299, 1300, 1301, 1302, 1303, 1544, 1545, 1546, 1547, 1548, 1559, 1560, 1561, 1562, 1563, 1564, 1571, 1578, 1579, 1580, 1581, 1582, 1583, 1609, 1610, 1611, 1612, 1613, 1614, 1615, 1616, 1617, 1618, 1619, 1620, 1621, 1635, 1643, 1644, 1645, 1646, 1647, 1648, 1649, 1657, 1658, 1659, 1660, 1661, 1662, 1668, 1669, 1670, 1671, 1672, 1685, 1686, 1687, 1688, 1689, 1690, 1691, 1692, 1693, 1694, 1695, 1696, 1697, 1698, 1699, 1700, 1701, 1702, 1703, 1704, 1705, 1706, 1707, 1708, 1709, 1710, 1711, 1712, 1713, 1714, 1715, 1716, 1717, 1718, 1719, 1720, 1721, 1722, 1723, 1724, 1725]\n",
      "Positions of double gates : [17, 23, 30, 37, 44, 50, 58, 64, 75, 82, 93, 100, 118, 125, 131, 138, 146, 154, 161, 167, 175, 183, 201, 208, 221, 228, 234, 240]\n"
     ]
    }
   ],
   "source": [
    "gate_num_1_and_2, gate_count_1_and_2, gate_position_1_and_2, double_qubit_gates_number_1_and_2 = gates_counting_func(qc_1_and_2, q_num)"
   ]
  },
  {
   "cell_type": "code",
   "execution_count": 428,
   "id": "d6ff742b-aa81-41a7-9247-09f8187164b6",
   "metadata": {},
   "outputs": [],
   "source": [
    "qc_3 = QuantumCircuit(42,42)\n",
    "for i in range(gate_position_reord[len(gate_position_reord)-1]+1, 3155):\n",
    "    qc_3.append(qc_full_reordered.data[i], qc_3.qubits, qc_3.clbits)\n",
    "#new_qc.draw('mpl') "
   ]
  },
  {
   "cell_type": "code",
   "execution_count": 429,
   "id": "f34b63de-aa4d-44aa-a708-7be8010cf6e6",
   "metadata": {},
   "outputs": [
    {
     "name": "stdout",
     "output_type": "stream",
     "text": [
      "Total number of gates: 1429\n",
      "Number of gates with qubits in q_num: 0\n",
      "Gates positions: []\n",
      "Positions of double gates : []\n"
     ]
    },
    {
     "data": {
      "text/plain": [
       "(1429, 0, [], [])"
      ]
     },
     "execution_count": 429,
     "metadata": {},
     "output_type": "execute_result"
    }
   ],
   "source": [
    "gates_counting_func(qc_3, q_num)"
   ]
  },
  {
   "cell_type": "code",
   "execution_count": 430,
   "id": "bd719df2-f39b-41e9-a37b-3751478c1700",
   "metadata": {},
   "outputs": [
    {
     "name": "stdout",
     "output_type": "stream",
     "text": [
      "[0, 1, 2, 3, 4, 5, 6, 7, 8, 9, 10, 11, 12, 13, 14, 15, 16, 17, 18, 19, 20, 21, 22, 23, 24, 25, 26, 27, 28, 29, 30, 31, 32, 33, 34, 35, 36, 37, 38, 39, 40, 41]\n",
      "42\n"
     ]
    }
   ],
   "source": [
    "#Creating a graph of connections between measured qubits inside circuit 1+2\n",
    "V = 42\n",
    "adj = [[] for i in range(V+1)]\n",
    "for gate in qc_1_and_2.data:\n",
    "     #print('\\ngate name:', gate[0].name)\n",
    "     bb = gate[1]\n",
    "     #print('qubit(s) acted on:', bb[0]._index)\n",
    "     if len(bb) > 1:\n",
    "        #print('qubit(s) acted on:', bb[1]._index)\n",
    "        addEdge(bb[0]._index, bb[1]._index)\n",
    "\n",
    "for i in range(42):\n",
    "    addEdge(i, i)\n",
    "\n",
    "list_of_conn = []\n",
    "for q_n in range(42):\n",
    "    for u in range(q_n,q_n+1):\n",
    "        for v in range(1,42):\n",
    "            if (isReachable(u, v)):\n",
    "                #print(\"There is a path from\",u,\"to\",v)\n",
    "                list_of_conn.append(u)\n",
    "                list_of_conn.append(v)\n",
    "            else:\n",
    "                aa = 1\n",
    "                #print(\"There is no path from\",u,\"to\",v)\n",
    "list_of_conn = list(set(list_of_conn))\n",
    "print(list_of_conn)\n",
    "print(len(list_of_conn))"
   ]
  },
  {
   "cell_type": "code",
   "execution_count": 491,
   "id": "7bfe4807-b5da-4a52-b327-3596810038c7",
   "metadata": {},
   "outputs": [
    {
     "name": "stdout",
     "output_type": "stream",
     "text": [
      "Circuit 1 qubits list:[0, 1, 2, 3, 4, 6, 7, 8, 11, 12, 13, 14, 15, 16, 17, 18, 19, 20, 21, 22, 23, 24, 25, 26, 29, 33, 34, 35, 39, 41]\n",
      "Circuit 2 qubits list:[5, 9, 10, 27, 28, 30, 31, 32, 36, 37, 38, 40]\n",
      "Circuit 3 qubits list:[0, 1, 3, 4, 5, 6, 8, 9, 10, 11, 12, 14, 15, 16, 17, 18, 19, 20, 21, 22, 25, 26, 27, 28, 29, 30, 31, 32, 34, 35, 36, 37, 38, 39, 40, 41]\n",
      "Measured qubits list:[33, 24, 23, 7, 13, 2]\n"
     ]
    }
   ],
   "source": [
    "#Making lists of qubits in various circuitc\n",
    "circ_1_qubits_list = [0, 1, 2, 3, 4, 6, 7, 8, 11, 12, 13, 14, 15, 16, 17, 18, 19, 20, 21, 22, 23, 24, 25, 26, 29, 33, 34, 35, 39, 41]\n",
    "meas_qubit_list = [33, 24, 23, 7, 13, 2] \n",
    "full_list = range(42)\n",
    "circuit_2_list = []\n",
    "circuit_2_list[:] = full_list[:]\n",
    "circuit_3_list = []\n",
    "circuit_3_list[:] = full_list[:]\n",
    "for i in circ_1_qubits_list:\n",
    "    circuit_2_list.remove(i)\n",
    "print('Circuit 1 qubits list:' + str(circ_1_qubits_list))\n",
    "\n",
    "print('Circuit 2 qubits list:' + str(circuit_2_list))\n",
    "for i in meas_qubit_list:\n",
    "    circuit_3_list.remove(i)\n",
    "print('Circuit 3 qubits list:' + str(circuit_3_list))\n",
    "print('Measured qubits list:' + str(meas_qubit_list))"
   ]
  },
  {
   "cell_type": "code",
   "execution_count": 537,
   "id": "8fc42456-296b-4283-a6f9-bd5a97da311c",
   "metadata": {},
   "outputs": [],
   "source": [
    "qc_1 = QuantumCircuit(42,42)\n",
    "q_num_list = circ_1_qubits_list\n",
    "current_gate_number = 0\n",
    "for gate in qc_1_and_2.data:\n",
    "    gg = gate[0]\n",
    "    bb = gate[1]\n",
    "    if len(bb) < 2:\n",
    "        q1 = bb[0]._index\n",
    "        if q1 in q_num_list:\n",
    "            qc_1.append(qc_1_and_2.data[current_gate_number])\n",
    "            gate_position.append(current_gate_number)\n",
    "            \n",
    "    else:\n",
    "        q1 = bb[0]._index\n",
    "        q2 = bb[1]._index\n",
    "        if q1 in q_num_list or q2 in q_num_list:\n",
    "            qc_1.append(qc_1_and_2.data[current_gate_number])\n",
    "            gate_position.append(current_gate_number)\n",
    "            \n",
    "    current_gate_number = current_gate_number + 1"
   ]
  },
  {
   "cell_type": "code",
   "execution_count": 538,
   "id": "8de07c5d-1e50-4575-aab1-72d51850d4d4",
   "metadata": {},
   "outputs": [
    {
     "name": "stdout",
     "output_type": "stream",
     "text": [
      "Total number of gates: 1275\n",
      "Number of gates with qubits in q_num: 0\n",
      "Gates positions: []\n",
      "Positions of double gates : []\n"
     ]
    }
   ],
   "source": [
    "gate_num_1, gate_count_1, gate_position_1, double_qubit_gates_number_1 = gates_counting_func(qc_1, circuit_2_list)"
   ]
  },
  {
   "cell_type": "code",
   "execution_count": 539,
   "id": "22b0892e-42ee-4b02-ab22-7a00dd263a3a",
   "metadata": {},
   "outputs": [],
   "source": [
    "qc_2 = QuantumCircuit(42,42)\n",
    "q_num_list = circuit_2_list\n",
    "current_gate_number = 0\n",
    "for gate in qc_1_and_2.data:\n",
    "    gg = gate[0]\n",
    "    bb = gate[1]\n",
    "    if len(bb) < 2:\n",
    "        q1 = bb[0]._index\n",
    "        if q1 in q_num_list:\n",
    "            qc_2.append(qc_1_and_2.data[current_gate_number])\n",
    "            gate_position.append(current_gate_number)\n",
    "            \n",
    "    else:\n",
    "        q1 = bb[0]._index\n",
    "        q2 = bb[1]._index\n",
    "        if q1 in q_num_list or q2 in q_num_list:\n",
    "            qc_2.append(qc_1_and_2.data[current_gate_number])\n",
    "            gate_position.append(current_gate_number)\n",
    "            \n",
    "    current_gate_number = current_gate_number + 1"
   ]
  },
  {
   "cell_type": "code",
   "execution_count": 540,
   "id": "5e41c79e-02c5-43ee-bd67-a07c8499c66a",
   "metadata": {},
   "outputs": [
    {
     "name": "stdout",
     "output_type": "stream",
     "text": [
      "Total number of gates: 451\n",
      "Number of gates with qubits in q_num: 0\n",
      "Gates positions: []\n",
      "Positions of double gates : []\n"
     ]
    }
   ],
   "source": [
    "gate_num_2, gate_num_2, gate_position_2, double_qubit_gates_number_2 = gates_counting_func(qc_2, circ_1_qubits_list)"
   ]
  },
  {
   "cell_type": "code",
   "execution_count": 541,
   "id": "c44a6bb1-b458-4f53-b1cc-af2f18addc2f",
   "metadata": {},
   "outputs": [
    {
     "data": {
      "text/plain": [
       "<qiskit.circuit.instructionset.InstructionSet at 0x17dd2e6bfa0>"
      ]
     },
     "execution_count": 541,
     "metadata": {},
     "output_type": "execute_result"
    }
   ],
   "source": [
    "qc_2_and_3 = QuantumCircuit(42,42)\n",
    "qc_2_and_3.append(qc_2,qc_2_and_3.qubits,qc_2_and_3.clbits)\n",
    "qc_2_and_3.append(qc_3,qc_2_and_3.qubits,qc_2_and_3.clbits)"
   ]
  },
  {
   "cell_type": "code",
   "execution_count": 542,
   "id": "65f0d1f7-3c58-49e7-b07e-3f47aa84be73",
   "metadata": {},
   "outputs": [
    {
     "name": "stdout",
     "output_type": "stream",
     "text": [
      "Total number of gates: 1880\n",
      "Number of gates with qubits in q_num: 0\n",
      "Gates positions: []\n",
      "Positions of double gates : []\n"
     ]
    }
   ],
   "source": [
    "gate_num_23, gate_num_23, gate_position_23, double_qubit_gates_number_23 = gates_counting_func(qc_2_and_3.decompose(), q_num)"
   ]
  },
  {
   "cell_type": "code",
   "execution_count": 546,
   "id": "4079361e-0370-421a-9526-e45ae05eb060",
   "metadata": {},
   "outputs": [],
   "source": [
    "counter = 0\n",
    "for gate in qc_1.data:\n",
    "    if gate[0]._name == 'measure':\n",
    "        del qc_1.data[counter]\n",
    "        print(counter)\n",
    "    counter = counter + 1\n",
    "counter = 0\n",
    "for gate in qc_1.data:\n",
    "    if gate[0]._name == 'measure':\n",
    "        del qc_1.data[counter]\n",
    "        print(counter)\n",
    "    counter = counter + 1\n",
    "counter = 0\n",
    "for gate in qc_1.data:\n",
    "    if gate[0]._name == 'measure':\n",
    "        del qc_1.data[counter]\n",
    "        print(counter)\n",
    "    counter = counter + 1"
   ]
  },
  {
   "cell_type": "code",
   "execution_count": 547,
   "id": "6be6d671-4dbc-48a7-9ac1-ccacc563d934",
   "metadata": {},
   "outputs": [
    {
     "name": "stdout",
     "output_type": "stream",
     "text": [
      "Total number of gates: 1269\n",
      "Number of gates with qubits in q_num: 0\n",
      "Gates positions: []\n",
      "Positions of double gates : []\n"
     ]
    }
   ],
   "source": [
    "gate_num_1, gate_count_1, gate_position_1, double_qubit_gates_number_1 = gates_counting_func(qc_1, circuit_2_list)"
   ]
  },
  {
   "cell_type": "code",
   "execution_count": 562,
   "id": "219246d5-9acc-417e-9cb9-9e46cefd4cd9",
   "metadata": {},
   "outputs": [],
   "source": [
    "from qiskit.qasm2 import dumps\n",
    "qasm_str = dumps(qc_1)\n",
    "#print(qasm_str)\n",
    "qasm_str1 = qasm_str.replace('q[33]','q[5]')\n",
    "qasm_str2 = qasm_str1.replace('q[24]','q[9]')\n",
    "qasm_str3 = qasm_str2.replace('q[23]','q[10]')\n",
    "qasm_str4 = qasm_str3.replace('q[7]','q[27]')\n",
    "qasm_str5 = qasm_str4.replace('q[13]','q[28]')\n",
    "qasm_str6 = qasm_str5.replace('q[2]','q[30]')\n",
    "\n",
    "str_sx = '\\ngate sx q1 {U(1.57079632679, 0, 0) q1;}\\n\\n'\n",
    "index = qasm_str6.find('qreg q[42];')\n",
    "qasm_str7 = qasm_str6[:index] + str_sx + qasm_str6[index:]\n",
    "\n",
    "#print(qasm_str7)\n",
    "\n",
    "qc_1_swapped = QuantumCircuit(42,42)\n",
    "qc_1_swapped = qiskit.qasm2.loads(qasm_str7)"
   ]
  },
  {
   "cell_type": "code",
   "execution_count": 564,
   "id": "b10666c6-ae34-4391-9d3a-5faaad27cdf3",
   "metadata": {},
   "outputs": [],
   "source": [
    "#qc_1_swapped.draw('mpl')"
   ]
  },
  {
   "cell_type": "code",
   "execution_count": 588,
   "id": "faba7c65-f446-4247-a40e-9117111be4e7",
   "metadata": {},
   "outputs": [],
   "source": [
    "qc_1_2_3 = QuantumCircuit(42,42)\n",
    "qc_1_2_3.append(qc_1_swapped,qc_1_2_3.qubits,qc_1_2_3.clbits)\n",
    "qc_1_2_3.append(qc_2,qc_1_2_3.qubits,qc_1_2_3.clbits)\n",
    "qc_1_2_3.append(qc_3,qc_1_2_3.qubits,qc_1_2_3.clbits)\n",
    "qc_fin = qc_1_2_3.decompose()"
   ]
  },
  {
   "cell_type": "code",
   "execution_count": 576,
   "id": "8939007e-7e81-4c07-a6a2-e6d82ac5c431",
   "metadata": {},
   "outputs": [
    {
     "name": "stdout",
     "output_type": "stream",
     "text": [
      "Total number of gates: 3149\n",
      "Number of gates with qubits in q_num: 51\n",
      "Gates positions: [85, 86, 87, 88, 89, 198, 199, 200, 201, 202, 203, 222, 223, 224, 225, 226, 227, 228, 229, 230, 231, 232, 233, 234, 2475, 2511, 2512, 2513, 2514, 2515, 2516, 2522, 2523, 2524, 2525, 2526, 2527, 2528, 2642, 2643, 2644, 2645, 2646, 2647, 2648, 2654, 2655, 2656, 2657, 2658, 3124]\n",
      "Positions of double gates : [5, 11, 24, 30, 37, 44]\n"
     ]
    }
   ],
   "source": [
    "gate_num_1, gate_count_1, gate_position_1, double_qubit_gates_number_1 = gates_counting_func(qc_1_2_3.decompose(), [14])"
   ]
  },
  {
   "cell_type": "code",
   "execution_count": 605,
   "id": "11956c38-3d75-4ba4-a74b-3cd59f3e0ece",
   "metadata": {},
   "outputs": [
    {
     "data": {
      "text/plain": [
       "36"
      ]
     },
     "execution_count": 605,
     "metadata": {},
     "output_type": "execute_result"
    }
   ],
   "source": [
    "list_1 = []\n",
    "list_1[:] = full_list[:]\n",
    "for i in q_num:\n",
    "    list_1.remove(i)\n",
    "len(list_1)"
   ]
  },
  {
   "cell_type": "code",
   "execution_count": 625,
   "id": "ee78129a-a6e6-4bfd-875d-bbe5b019f325",
   "metadata": {},
   "outputs": [],
   "source": [
    "qasm_str8 = dumps(qc_fin)\n",
    "#print(qasm_str8)\n",
    "for i in range(42):\n",
    "    if i > 2 and i < 7:\n",
    "        strs = 'q[' + str(i) + ']'\n",
    "        strs1 = 'q[' + str(i-1) + ']'\n",
    "        qasm_str8 = qasm_str8.replace(strs,strs1)\n",
    "        strs = 'c[' + str(i) + ']'\n",
    "        strs1 = 'c[' + str(i-1) + ']'\n",
    "        qasm_str8 = qasm_str8.replace(strs,strs1)\n",
    "    if i > 7 and i < 13:\n",
    "        strs = 'q[' + str(i) + ']'\n",
    "        strs1 = 'q[' + str(i-2) + ']'\n",
    "        qasm_str8 = qasm_str8.replace(strs,strs1)\n",
    "        strs = 'c[' + str(i) + ']'\n",
    "        strs1 = 'c[' + str(i-2) + ']'\n",
    "        qasm_str8 = qasm_str8.replace(strs,strs1)\n",
    "    if i > 13 and i < 23:\n",
    "        strs = 'q[' + str(i) + ']'\n",
    "        strs1 = 'q[' + str(i-3) + ']'\n",
    "        qasm_str8 = qasm_str8.replace(strs,strs1)\n",
    "        strs = 'c[' + str(i) + ']'\n",
    "        strs1 = 'c[' + str(i-3) + ']'\n",
    "        qasm_str8 = qasm_str8.replace(strs,strs1)\n",
    "    if i == 24:\n",
    "        strs = 'q[' + str(i) + ']'\n",
    "        strs1 = 'q[' + str(i-4) + ']'\n",
    "        qasm_str8 = qasm_str8.replace(strs,strs1)\n",
    "        strs = 'c[' + str(i) + ']'\n",
    "        strs1 = 'c[' + str(i-4) + ']'\n",
    "        qasm_str8 = qasm_str8.replace(strs,strs1)\n",
    "    if i > 24 and i < 33:\n",
    "        strs = 'q[' + str(i) + ']'\n",
    "        strs1 = 'q[' + str(i-5) + ']'\n",
    "        qasm_str8 = qasm_str8.replace(strs,strs1)\n",
    "        strs = 'c[' + str(i) + ']'\n",
    "        strs1 = 'c[' + str(i-5) + ']'\n",
    "        qasm_str8 = qasm_str8.replace(strs,strs1)\n",
    "    if i > 33 and i < 42:\n",
    "        strs = 'q[' + str(i) + ']'\n",
    "        strs1 = 'q[' + str(i-6) + ']'\n",
    "        qasm_str8 = qasm_str8.replace(strs,strs1)\n",
    "        strs = 'c[' + str(i) + ']'\n",
    "        strs1 = 'c[' + str(i-6) + ']'\n",
    "        qasm_str8 = qasm_str8.replace(strs,strs1)\n",
    "qasm_str8 = qasm_str8.replace('qreg q[42];','qreg q[36];')\n",
    "qasm_str8 = qasm_str8.replace('creg c[42];','creg c[36];')\n",
    "\n",
    "str_sx = '\\ngate sx q1 {U(1.57079632679, 0, 0) q1;}\\n\\n'\n",
    "index = qasm_str8.find('qreg q[36];')\n",
    "qasm_str8 = qasm_str8[:index] + str_sx + qasm_str8[index:]\n",
    "\n",
    "#print(qasm_str8)\n",
    "qc_fin_fin = qiskit.qasm2.loads(qasm_str8)\n"
   ]
  },
  {
   "cell_type": "code",
   "execution_count": 627,
   "id": "92d425c5-0c60-462f-9935-9478d8ed4783",
   "metadata": {},
   "outputs": [],
   "source": [
    "#qc_fin_fin.draw('mpl')"
   ]
  },
  {
   "cell_type": "code",
   "execution_count": 628,
   "id": "0d4e0c5f-19a3-4043-93f6-66284b48415e",
   "metadata": {},
   "outputs": [
    {
     "name": "stderr",
     "output_type": "stream",
     "text": [
      "BQ-PYTHON-SDK - WARNING - Beta version 0.8.3b1 of BlueQubit Python SDK is being used.\n",
      "BQ-PYTHON-SDK - INFO - Submitted: Job ID: WRLV7PCddGb2Zfoe, device: gpu, run status: PENDING, created on: 2024-10-25 22:18:19 UTC, estimated runtime: 105289 ms, estimated cost: $1.41, num qubits: 36\n"
     ]
    },
    {
     "data": {
      "image/png": "[encoded data removed]",
      "text/plain": [
       "<Figure size 640x480 with 1 Axes>"
      ]
     },
     "execution_count": 628,
     "metadata": {},
     "output_type": "execute_result"
    }
   ],
   "source": [
    "import bluequbit\n",
    "from qiskit.visualization import plot_histogram\n",
    "bq = bluequbit.init(\"ifvQUoJTa445RywgR6thzt5D2dCtAezL\")\n",
    "result = bq.run(qc_fin_fin, device='gpu')\n",
    "counts = result.get_counts()\n",
    "plot_histogram(counts, title = 'results')"
   ]
  },
  {
   "cell_type": "code",
   "execution_count": null,
   "id": "0ac79001-a56c-4f46-826d-65efda2eedf0",
   "metadata": {},
   "outputs": [],
   "source": []
  },
  {
   "cell_type": "code",
   "execution_count": null,
   "id": "17cb5417-bc55-4b60-b3d6-2c8ee21533fa",
   "metadata": {},
   "outputs": [],
   "source": []
  },
  {
   "cell_type": "code",
   "execution_count": null,
   "id": "8e55886b-1aad-44ad-8ed0-740f8b57c2cd",
   "metadata": {},
   "outputs": [],
   "source": []
  },
  {
   "cell_type": "code",
   "execution_count": null,
   "id": "fd110c45-12a9-4ca6-9bc8-cad0f14ea489",
   "metadata": {},
   "outputs": [],
   "source": []
  },
  {
   "cell_type": "code",
   "execution_count": 299,
   "id": "7552681c-f4f8-48d4-a472-4a31278c68b5",
   "metadata": {},
   "outputs": [],
   "source": [
    "#counting gates and finding the last gate nuber for a given qubit and finding the last 2-qubit gate\n",
    "def gates_counting_func(qc, q_num):\n",
    "    gate_count = 0\n",
    "    gate_num = 0\n",
    "    gate_position = []\n",
    "    double_qubit_gates_number = []\n",
    "    for gate in qc.data:\n",
    "        gg = gate[0]\n",
    "        bb = gate[1]\n",
    "        if len(bb) < 2:\n",
    "            q1 = bb[0]._index\n",
    "            if q1 in q_num:\n",
    "                gate_count = gate_count + 1\n",
    "                gate_position.append(gate_num)\n",
    "        else:\n",
    "            q1 = bb[0]._index\n",
    "            q2 = bb[1]._index\n",
    "            if q1 in q_num or q2 in q_num:\n",
    "                gate_count = gate_count + 1\n",
    "                gate_position.append(gate_num)\n",
    "                double_qubit_gates_number.append(gate_count - 1)\n",
    "        gate_num = gate_num + 1\n",
    "\n",
    "    print('Total number of gates: ' + str(gate_num))\n",
    "    print('Number of gates with qubits in q_num: ' + str(gate_count))\n",
    "    print('Gates positions: ' + str(gate_position))\n",
    "    print('Positions of double gates : ' + str(double_qubit_gates_number))\n",
    "    return gate_num, gate_count, gate_position, double_qubit_gates_number"
   ]
  },
  {
   "cell_type": "code",
   "execution_count": 29,
   "id": "2d21d907-cece-4281-8005-c562086b4470",
   "metadata": {},
   "outputs": [],
   "source": [
    "def count_gates(qc: QuantumCircuit):\n",
    "    gate_count = {qubit: 0 for qubit in qc.qubits}\n",
    "    for gate in qc.data:\n",
    "        for qubit in gate.qubits:\n",
    "            gate_count[qubit] += 1\n",
    "    return gate_count\n",
    "\n",
    "def remove_unused_wires(qc: QuantumCircuit):\n",
    "    gate_count = count_gates(qc)\n",
    "    for qubit, count in gate_count.items():\n",
    "        if count == 0:\n",
    "            qc.qubits.remove(qubit)\n",
    "    return qc"
   ]
  },
  {
   "cell_type": "code",
   "execution_count": 21,
   "id": "5d7bd576-2063-4b9e-9566-0a6abaac4c87",
   "metadata": {},
   "outputs": [],
   "source": [
    "# Python3 program to check if there is exist a path between\n",
    "# two vertices of an undirected graph.\n",
    "from collections import deque\n",
    "def addEdge(v, w):\n",
    "    global adj\n",
    "    adj[v].append(w)\n",
    "    adj[w].append(v)\n",
    " \n",
    "# A BFS based function to check whether d is reachable from s.\n",
    "def isReachable(s, d):\n",
    "     \n",
    "    # Base case\n",
    "    if (s == d):\n",
    "        return True\n",
    " \n",
    "    # Mark all the vertices as not visited\n",
    "    visited = [False for i in range(V)]\n",
    " \n",
    "    # Create a queue for BFS\n",
    "    queue = deque()\n",
    " \n",
    "    # Mark the current node as visited and enqueue it\n",
    "    visited[s] = True\n",
    "    queue.append(s)\n",
    " \n",
    "    while (len(queue) > 0):\n",
    "       \n",
    "        # Dequeue a vertex from queue and print\n",
    "        s = queue.popleft()\n",
    "        # queue.pop_front()\n",
    " \n",
    "        # Get all adjacent vertices of the dequeued vertex s\n",
    "        # If a adjacent has not been visited, then mark it\n",
    "        # visited  and enqueue it\n",
    "        for i in adj[s]:\n",
    " \n",
    "            # If this adjacent node is the destination node,\n",
    "            # then return true\n",
    "            if (i == d):\n",
    "                return True\n",
    " \n",
    "            # Else, continue to do BFS\n",
    "            if (not visited[i]):\n",
    "                visited[i] = True\n",
    "                queue.append(i)\n",
    "    # If BFS is complete without visiting d\n",
    "    return False\n",
    " \n"
   ]
  }
 ],
 "metadata": {
  "kernelspec": {
   "display_name": "Python 3 (ipykernel)",
   "language": "python",
   "name": "python3"
  },
  "language_info": {
   "codemirror_mode": {
    "name": "ipython",
    "version": 3
   },
   "file_extension": ".py",
   "mimetype": "text/x-python",
   "name": "python",
   "nbconvert_exporter": "python",
   "pygments_lexer": "ipython3",
   "version": "3.12.4"
  }
 },
 "nbformat": 4,
 "nbformat_minor": 5
}
