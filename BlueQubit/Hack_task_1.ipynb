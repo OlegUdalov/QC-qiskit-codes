{
 "cells": [
  {
   "cell_type": "markdown",
   "id": "70e5254a-2a0e-4c7c-b8f5-726320670e6b",
   "metadata": {},
   "source": [
    "# BlueQubit hacathon. Task 1.\n",
    "\n",
    "The size of the circut in this task is relatively low. So, It can be directly run at CPUs. \n"
   ]
  },
  {
   "cell_type": "code",
   "execution_count": 8,
   "id": "f42e3a72-8eb1-4eb1-8b40-588212229216",
   "metadata": {},
   "outputs": [],
   "source": [
    "# importing libraries\n",
    "\n",
    "import qiskit\n",
    "import qiskit.qasm2\n",
    "import bluequbit\n",
    "\n",
    "import time\n"
   ]
  },
  {
   "cell_type": "code",
   "execution_count": 9,
   "id": "7bf433f1-2735-4363-a81c-876b53e2595d",
   "metadata": {},
   "outputs": [],
   "source": [
    "# uploading the circuit from a qasm file. \n",
    "# I modified the file adding the definition of sx operator there\n",
    "q = qiskit.qasm2.load(\"circuit_1_30q_1.qasm\")"
   ]
  },
  {
   "cell_type": "code",
   "execution_count": 10,
   "id": "b7da2e65-731e-4fcb-b747-98dd6a3024e9",
   "metadata": {},
   "outputs": [],
   "source": [
    "#Draw the circuit\n",
    "#q.draw('mpl')"
   ]
  },
  {
   "cell_type": "code",
   "execution_count": 11,
   "id": "b97b2128-2997-454d-ad4a-5a2131828bf7",
   "metadata": {},
   "outputs": [
    {
     "name": "stderr",
     "output_type": "stream",
     "text": [
      "BQ-PYTHON-SDK - WARNING - Beta version 0.8.3b1 of BlueQubit Python SDK is being used.\n",
      "BQ-PYTHON-SDK - INFO - Submitted: Job ID: AktcR8P4rTPWrZOh, device: cpu, run status: PENDING, created on: 2024-10-26 23:23:28 UTC, estimated runtime: 1665000 ms, estimated cost: $0.00, num qubits: 30\n"
     ]
    }
   ],
   "source": [
    "#Running circuit at the BlueQubit CPU device\n",
    "bq = bluequbit.init(\"ifvQUoJTa445RywgR6thzt5D2dCtAezL\")\n",
    "result = bq.run(q, device='cpu', shots = 1000)\n"
   ]
  },
  {
   "cell_type": "code",
   "execution_count": 12,
   "id": "92144472-2994-44ba-b547-677f8ebd1f08",
   "metadata": {},
   "outputs": [],
   "source": [
    "#Getting the counts and hystogram (take long time!)\n",
    "from qiskit.visualization import plot_histogram\n",
    "counts = result.get_counts()\n",
    "#plot_histogram(counts, title = 'results')"
   ]
  },
  {
   "cell_type": "code",
   "execution_count": 15,
   "id": "a3b6fc2d-cab3-453a-8344-9e0672388365",
   "metadata": {},
   "outputs": [],
   "source": [
    "#print(counts)"
   ]
  },
  {
   "cell_type": "code",
   "execution_count": 14,
   "id": "20937aec-7848-4c1a-92ab-c1f09bc1035b",
   "metadata": {},
   "outputs": [
    {
     "name": "stdout",
     "output_type": "stream",
     "text": [
      "111101001101110101000110100100\n",
      "133\n"
     ]
    }
   ],
   "source": [
    "#Getting the most probable bit string\n",
    "for dic in counts:\n",
    "    if counts[dic] > 50:\n",
    "        ans = dic\n",
    "print(ans)\n",
    "print(counts[ans])\n",
    "    "
   ]
  },
  {
   "cell_type": "code",
   "execution_count": null,
   "id": "39728906-9bf9-4024-ae2f-5adda4436eb1",
   "metadata": {},
   "outputs": [],
   "source": []
  }
 ],
 "metadata": {
  "kernelspec": {
   "display_name": "Python 3 (ipykernel)",
   "language": "python",
   "name": "python3"
  },
  "language_info": {
   "codemirror_mode": {
    "name": "ipython",
    "version": 3
   },
   "file_extension": ".py",
   "mimetype": "text/x-python",
   "name": "python",
   "nbconvert_exporter": "python",
   "pygments_lexer": "ipython3",
   "version": "3.12.4"
  }
 },
 "nbformat": 4,
 "nbformat_minor": 5
}
