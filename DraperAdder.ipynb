{
 "cells": [
  {
   "attachments": {
    "98b3cf79-f0bd-48ac-ae6e-43c04774b71c.png": {
     "image/png": "[encoded data removed]"
    }
   },
   "cell_type": "markdown",
   "id": "3d8d280e-878e-4294-9be4-90e91176d9b6",
   "metadata": {},
   "source": [
    "## Draper adder\n",
    "This notebook is devoted to studying the Draper adder.\n",
    "\n",
    "### Important note 1 about DraperQFTAdder function (circuit).\n",
    "- The lower bit in the circuit drawing in the highest bit in the binary number.\n",
    "- The  highest bit in the circuit drawing in the lowes bit in the binary number.\n",
    "- The added perfroms adding binary numbers modulo 2^n, where n in the number of qubits in the numbers we add.\n",
    "\n",
    "For example 10+10=00,  11+11=10, 01+01=10 etc\n",
    "\n",
    "### link to Draper adder description\n",
    "https://docs.quantum.ibm.com/api/qiskit/qiskit.circuit.library.DraperQFTAdder\n",
    "\n",
    "![Draper_adder.png](attachment:98b3cf79-f0bd-48ac-ae6e-43c04774b71c.png)\n",
    "\n",
    "### How many operations one needs to do add two numbers?\n"
   ]
  },
  {
   "cell_type": "code",
   "execution_count": 23,
   "id": "c8077e74-99ad-47aa-8353-a0eb25aa65d6",
   "metadata": {},
   "outputs": [],
   "source": [
    "import qiskit\n",
    "\n",
    "\n",
    "from qiskit.circuit.library import DraperQFTAdder"
   ]
  },
  {
   "cell_type": "code",
   "execution_count": 116,
   "id": "0e8b408b-00fd-4c54-826c-376fe5511391",
   "metadata": {},
   "outputs": [
    {
     "data": {
      "image/png": "[encoded data removed]",
      "text/plain": [
       "<Figure size 509.612x451.5 with 1 Axes>"
      ]
     },
     "execution_count": 116,
     "metadata": {},
     "output_type": "execute_result"
    }
   ],
   "source": [
    "qreg=qiskit.QuantumRegister(4)\n",
    "clreg=qiskit.ClassicalRegister(1)\n",
    "qc = qiskit.QuantumCircuit(qreg,clreg)\n",
    "qc.h(0)\n",
    "#qc.x(1)\n",
    "#qc.x(3)\n",
    "#qc.x(2)\n",
    "qc.draw('mpl')\n",
    "qc.append(DraperQFTAdder(2,kind='fixed', name='DraperQFTAdder'),[qreg[0],qreg[1],qreg[2],qreg[3]])\n",
    "#qc.measure(1,0)\n",
    "#qc.measure(0,0)\n",
    "qc.draw('mpl')"
   ]
  },
  {
   "cell_type": "code",
   "execution_count": 117,
   "id": "9647d6ac-cf13-4c20-ab3e-c4bfbfb8c334",
   "metadata": {},
   "outputs": [],
   "source": [
    "from qiskit_aer import AerSimulator\n",
    "from qiskit import QuantumCircuit, transpile\n",
    "from qiskit_aer import Aer\n",
    "from qiskit.visualization import plot_bloch_multivector\n"
   ]
  },
  {
   "cell_type": "code",
   "execution_count": 119,
   "id": "0f857f1e-67e1-45a5-a2f6-bdf2cf8ca8bd",
   "metadata": {},
   "outputs": [
    {
     "name": "stdout",
     "output_type": "stream",
     "text": [
      "psi = array([ 0.71-0.j, -0.  +0.j,  0.  +0.j,  0.  +0.j,  0.  +0.j,  0.71-0.j,\n",
      "        0.  +0.j,  0.  +0.j, -0.  +0.j,  0.  +0.j,  0.  +0.j,  0.  +0.j,\n",
      "       -0.  +0.j, -0.  +0.j,  0.  +0.j,  0.  +0.j])\n"
     ]
    },
    {
     "name": "stderr",
     "output_type": "stream",
     "text": [
      "C:\\Users\\Oleg\\AppData\\Local\\Temp\\ipykernel_10292\\2254718841.py:5: DeprecationWarning: The return type of saved statevectors has been changed from a `numpy.ndarray` to a `qiskit.quantum_info.Statevector` as of qiskit-aer 0.10. Accessing numpy array attributes is deprecated and will result in an error in a future release. To continue using saved result objects as arrays you can explicitly cast them using  `np.asarray(object)`.\n",
      "  print(f'psi = {psi.round(2)!r}')\n",
      "C:\\Users\\Oleg\\AppData\\Local\\Temp\\ipykernel_10292\\2254718841.py:6: DeprecationWarning: The return type of saved statevectors has been changed from a `numpy.ndarray` to a `qiskit.quantum_info.Statevector` as of qiskit-aer 0.10. Accessing numpy array attributes is deprecated and will result in an error in a future release. To continue using saved result objects as arrays you can explicitly cast them using  `np.asarray(object)`.\n",
      "  Psi_list=list(psi)\n"
     ]
    },
    {
     "data": {
      "text/plain": [
       "[(0.7071067811865477-8.659560562354937e-17j),\n",
       " (-5.596930024394151e-17+3.0626305379607865e-17j),\n",
       " 0j,\n",
       " 0j,\n",
       " (8.977403973720522e-18+3.432039883805416e-17j),\n",
       " (0.7071067811865477-1.2989340843532405e-16j),\n",
       " 0j,\n",
       " 0j,\n",
       " (-2.2993471702930928e-17+4.329780281177468e-17j),\n",
       " (3.0626305379607865e-17+5.59693002439415e-17j),\n",
       " 0j,\n",
       " 0j,\n",
       " (-3.432039883805416e-17+8.977403973720519e-18j),\n",
       " (-2.2993471702930925e-17+4.329780281177468e-17j),\n",
       " 0j,\n",
       " 0j]"
      ]
     },
     "execution_count": 119,
     "metadata": {},
     "output_type": "execute_result"
    }
   ],
   "source": [
    "state_simulator = Aer.get_backend('statevector_simulator')\n",
    "circ = transpile(qc, state_simulator)\n",
    "result = state_simulator.run(circ).result()\n",
    "psi = result.get_statevector(qc)\n",
    "print(f'psi = {psi.round(2)!r}')\n",
    "Psi_list=list(psi)\n",
    "plot_bloch_multivector(psi)\n",
    "Psi_list"
   ]
  },
  {
   "cell_type": "code",
   "execution_count": 203,
   "id": "6f73f468-31fd-4215-bf34-cce147c1b2e2",
   "metadata": {},
   "outputs": [],
   "source": [
    "import math\n",
    "def show_state_vector(state,prec,dec_numb):\n",
    "    state_len=len(state)\n",
    "    #print(state_len)\n",
    "    n=int(math.log(state_len,2))\n",
    "    #print(n)\n",
    "    for i in range(0,state_len):\n",
    "        zz=str(bin(i))\n",
    "        zz=zz.replace('0b','')\n",
    "        len_str=len(zz)\n",
    "        dl=n-len_str\n",
    "        ss=''\n",
    "        for j in range(0,dl):\n",
    "            ss=ss+'0'\n",
    "        zz=ss+zz\n",
    "        sr=round(state[i].real,dec_numb)\n",
    "        si=round(state[i].imag,dec_numb)\n",
    "        if state[i].real<prec:\n",
    "            sr=0\n",
    "        if state[i].imag<prec:\n",
    "            si=0\n",
    "        ss=sr+1j*si\n",
    "        print([zz,ss])\n",
    "    \n"
   ]
  },
  {
   "cell_type": "code",
   "execution_count": 204,
   "id": "d6d8167f-576c-42ba-beec-49c36fe3b664",
   "metadata": {},
   "outputs": [
    {
     "name": "stdout",
     "output_type": "stream",
     "text": [
      "['0000', (0.71+0j)]\n",
      "['0001', 0j]\n",
      "['0010', 0j]\n",
      "['0011', 0j]\n",
      "['0100', 0j]\n",
      "['0101', (0.71+0j)]\n",
      "['0110', 0j]\n",
      "['0111', 0j]\n",
      "['1000', 0j]\n",
      "['1001', 0j]\n",
      "['1010', 0j]\n",
      "['1011', 0j]\n",
      "['1100', 0j]\n",
      "['1101', 0j]\n",
      "['1110', 0j]\n",
      "['1111', 0j]\n"
     ]
    },
    {
     "name": "stderr",
     "output_type": "stream",
     "text": [
      "C:\\Users\\Oleg\\AppData\\Local\\Temp\\ipykernel_10292\\2885390511.py:3: DeprecationWarning: The return type of saved statevectors has been changed from a `numpy.ndarray` to a `qiskit.quantum_info.Statevector` as of qiskit-aer 0.10. Accessing numpy array attributes is deprecated and will result in an error in a future release. To continue using saved result objects as arrays you can explicitly cast them using  `np.asarray(object)`.\n",
      "  state_len=len(state)\n"
     ]
    }
   ],
   "source": [
    "show_state_vector(psi,0.05,2)"
   ]
  },
  {
   "cell_type": "code",
   "execution_count": null,
   "id": "b45d6285-b769-4b35-9cf9-51a8a7eedd5d",
   "metadata": {},
   "outputs": [],
   "source": []
  }
 ],
 "metadata": {
  "kernelspec": {
   "display_name": "Python 3 (ipykernel)",
   "language": "python",
   "name": "python3"
  },
  "language_info": {
   "codemirror_mode": {
    "name": "ipython",
    "version": 3
   },
   "file_extension": ".py",
   "mimetype": "text/x-python",
   "name": "python",
   "nbconvert_exporter": "python",
   "pygments_lexer": "ipython3",
   "version": "3.10.2"
  }
 },
 "nbformat": 4,
 "nbformat_minor": 5
}
