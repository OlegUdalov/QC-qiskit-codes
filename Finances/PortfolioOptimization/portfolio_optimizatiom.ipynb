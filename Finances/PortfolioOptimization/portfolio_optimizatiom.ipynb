{
 "cells": [
  {
   "cell_type": "markdown",
   "id": "8fb5386f-0e15-4512-8c8a-f2cb1a07e37c",
   "metadata": {},
   "source": [
    "# This notebook is devoted to studying the portfolio optimization library in Qiskit\n"
   ]
  },
  {
   "cell_type": "code",
   "execution_count": 1,
   "id": "c97113f1-b18e-4375-aabe-26246927b792",
   "metadata": {},
   "outputs": [
    {
     "name": "stdout",
     "output_type": "stream",
     "text": [
      "Requirement already satisfied: qiskit-finance in c:\\users\\oleg\\appdata\\local\\programs\\python\\python310\\lib\\site-packages (0.4.1)\n",
      "Requirement already satisfied: qiskit>=0.45 in c:\\users\\oleg\\appdata\\local\\programs\\python\\python310\\lib\\site-packages (from qiskit-finance) (1.1.1)\n",
      "Requirement already satisfied: setuptools>=40.1.0 in c:\\users\\oleg\\appdata\\local\\programs\\python\\python310\\lib\\site-packages (from qiskit-finance) (58.1.0)\n",
      "Requirement already satisfied: psutil>=5 in c:\\users\\oleg\\appdata\\local\\programs\\python\\python310\\lib\\site-packages (from qiskit-finance) (5.9.8)\n",
      "Requirement already satisfied: numpy>=1.17 in c:\\users\\oleg\\appdata\\local\\programs\\python\\python310\\lib\\site-packages (from qiskit-finance) (1.24.4)\n",
      "Requirement already satisfied: fastdtw in c:\\users\\oleg\\appdata\\local\\programs\\python\\python310\\lib\\site-packages (from qiskit-finance) (0.3.4)\n",
      "Requirement already satisfied: certifi in c:\\users\\oleg\\appdata\\local\\programs\\python\\python310\\lib\\site-packages (from qiskit-finance) (2024.6.2)\n",
      "Requirement already satisfied: yfinance>=0.1.70 in c:\\users\\oleg\\appdata\\local\\programs\\python\\python310\\lib\\site-packages (from qiskit-finance) (0.2.43)\n",
      "Requirement already satisfied: nasdaq-data-link in c:\\users\\oleg\\appdata\\local\\programs\\python\\python310\\lib\\site-packages (from qiskit-finance) (1.0.4)\n",
      "Requirement already satisfied: qiskit-algorithms>=0.2.0 in c:\\users\\oleg\\appdata\\local\\programs\\python\\python310\\lib\\site-packages (from qiskit-finance) (0.3.0)\n",
      "Requirement already satisfied: qiskit-optimization>=0.6.0 in c:\\users\\oleg\\appdata\\local\\programs\\python\\python310\\lib\\site-packages (from qiskit-finance) (0.6.1)\n",
      "Requirement already satisfied: urllib3 in c:\\users\\oleg\\appdata\\local\\programs\\python\\python310\\lib\\site-packages (from qiskit-finance) (1.26.9)\n",
      "Requirement already satisfied: pandas in c:\\users\\oleg\\appdata\\local\\programs\\python\\python310\\lib\\site-packages (from qiskit-finance) (2.2.2)\n",
      "Requirement already satisfied: scipy>=1.4 in c:\\users\\oleg\\appdata\\local\\programs\\python\\python310\\lib\\site-packages (from qiskit-finance) (1.14.1)\n",
      "Requirement already satisfied: typing-extensions in c:\\users\\oleg\\appdata\\local\\programs\\python\\python310\\lib\\site-packages (from qiskit>=0.45->qiskit-finance) (4.12.2)\n",
      "Requirement already satisfied: stevedore>=3.0.0 in c:\\users\\oleg\\appdata\\local\\programs\\python\\python310\\lib\\site-packages (from qiskit>=0.45->qiskit-finance) (5.2.0)\n",
      "Requirement already satisfied: rustworkx>=0.14.0 in c:\\users\\oleg\\appdata\\local\\programs\\python\\python310\\lib\\site-packages (from qiskit>=0.45->qiskit-finance) (0.15.1)\n",
      "Requirement already satisfied: sympy>=1.3 in c:\\users\\oleg\\appdata\\local\\programs\\python\\python310\\lib\\site-packages (from qiskit>=0.45->qiskit-finance) (1.12.1)\n",
      "Requirement already satisfied: symengine>=0.11 in c:\\users\\oleg\\appdata\\local\\programs\\python\\python310\\lib\\site-packages (from qiskit>=0.45->qiskit-finance) (0.11.0)\n",
      "Requirement already satisfied: dill>=0.3 in c:\\users\\oleg\\appdata\\local\\programs\\python\\python310\\lib\\site-packages (from qiskit>=0.45->qiskit-finance) (0.3.8)\n",
      "Requirement already satisfied: python-dateutil>=2.8.0 in c:\\users\\oleg\\appdata\\local\\programs\\python\\python310\\lib\\site-packages (from qiskit>=0.45->qiskit-finance) (2.8.2)\n",
      "Requirement already satisfied: docplex!=2.24.231,>=2.21.207 in c:\\users\\oleg\\appdata\\local\\programs\\python\\python310\\lib\\site-packages (from qiskit-optimization>=0.6.0->qiskit-finance) (2.28.240)\n",
      "Requirement already satisfied: networkx>=2.6.3 in c:\\users\\oleg\\appdata\\local\\programs\\python\\python310\\lib\\site-packages (from qiskit-optimization>=0.6.0->qiskit-finance) (3.3)\n",
      "Requirement already satisfied: frozendict>=2.3.4 in c:\\users\\oleg\\appdata\\local\\programs\\python\\python310\\lib\\site-packages (from yfinance>=0.1.70->qiskit-finance) (2.4.4)\n",
      "Requirement already satisfied: lxml>=4.9.1 in c:\\users\\oleg\\appdata\\local\\programs\\python\\python310\\lib\\site-packages (from yfinance>=0.1.70->qiskit-finance) (5.3.0)\n",
      "Requirement already satisfied: multitasking>=0.0.7 in c:\\users\\oleg\\appdata\\local\\programs\\python\\python310\\lib\\site-packages (from yfinance>=0.1.70->qiskit-finance) (0.0.11)\n",
      "Requirement already satisfied: pytz>=2022.5 in c:\\users\\oleg\\appdata\\local\\programs\\python\\python310\\lib\\site-packages (from yfinance>=0.1.70->qiskit-finance) (2024.1)\n",
      "Requirement already satisfied: requests>=2.31 in c:\\users\\oleg\\appdata\\local\\programs\\python\\python310\\lib\\site-packages (from yfinance>=0.1.70->qiskit-finance) (2.32.3)\n",
      "Requirement already satisfied: platformdirs>=2.0.0 in c:\\users\\oleg\\appdata\\local\\programs\\python\\python310\\lib\\site-packages (from yfinance>=0.1.70->qiskit-finance) (4.2.2)\n",
      "Requirement already satisfied: beautifulsoup4>=4.11.1 in c:\\users\\oleg\\appdata\\local\\programs\\python\\python310\\lib\\site-packages (from yfinance>=0.1.70->qiskit-finance) (4.12.3)\n",
      "Requirement already satisfied: html5lib>=1.1 in c:\\users\\oleg\\appdata\\local\\programs\\python\\python310\\lib\\site-packages (from yfinance>=0.1.70->qiskit-finance) (1.1)\n",
      "Requirement already satisfied: peewee>=3.16.2 in c:\\users\\oleg\\appdata\\local\\programs\\python\\python310\\lib\\site-packages (from yfinance>=0.1.70->qiskit-finance) (3.17.6)\n",
      "Requirement already satisfied: tzdata>=2022.7 in c:\\users\\oleg\\appdata\\local\\programs\\python\\python310\\lib\\site-packages (from pandas->qiskit-finance) (2024.1)\n",
      "Requirement already satisfied: more-itertools in c:\\users\\oleg\\appdata\\local\\programs\\python\\python310\\lib\\site-packages (from nasdaq-data-link->qiskit-finance) (10.5.0)\n",
      "Requirement already satisfied: inflection>=0.3.1 in c:\\users\\oleg\\appdata\\local\\programs\\python\\python310\\lib\\site-packages (from nasdaq-data-link->qiskit-finance) (0.5.1)\n",
      "Requirement already satisfied: six in c:\\users\\oleg\\appdata\\local\\programs\\python\\python310\\lib\\site-packages (from nasdaq-data-link->qiskit-finance) (1.16.0)\n",
      "Requirement already satisfied: soupsieve>1.2 in c:\\users\\oleg\\appdata\\local\\programs\\python\\python310\\lib\\site-packages (from beautifulsoup4>=4.11.1->yfinance>=0.1.70->qiskit-finance) (2.5)\n",
      "Requirement already satisfied: webencodings in c:\\users\\oleg\\appdata\\local\\programs\\python\\python310\\lib\\site-packages (from html5lib>=1.1->yfinance>=0.1.70->qiskit-finance) (0.5.1)\n",
      "Requirement already satisfied: idna<4,>=2.5 in c:\\users\\oleg\\appdata\\local\\programs\\python\\python310\\lib\\site-packages (from requests>=2.31->yfinance>=0.1.70->qiskit-finance) (3.3)\n",
      "Requirement already satisfied: charset-normalizer<4,>=2 in c:\\users\\oleg\\appdata\\local\\programs\\python\\python310\\lib\\site-packages (from requests>=2.31->yfinance>=0.1.70->qiskit-finance) (2.0.12)\n",
      "Requirement already satisfied: pbr!=2.1.0,>=2.0.0 in c:\\users\\oleg\\appdata\\local\\programs\\python\\python310\\lib\\site-packages (from stevedore>=3.0.0->qiskit>=0.45->qiskit-finance) (6.0.0)\n",
      "Requirement already satisfied: mpmath<1.4.0,>=1.1.0 in c:\\users\\oleg\\appdata\\local\\programs\\python\\python310\\lib\\site-packages (from sympy>=1.3->qiskit>=0.45->qiskit-finance) (1.3.0)\n"
     ]
    },
    {
     "name": "stderr",
     "output_type": "stream",
     "text": [
      "WARNING: There was an error checking the latest version of pip.\n"
     ]
    }
   ],
   "source": [
    "!pip install qiskit-finance"
   ]
  },
  {
   "cell_type": "code",
   "execution_count": 2,
   "id": "9f277034-178f-4a84-8239-ecdc8a5d5854",
   "metadata": {},
   "outputs": [],
   "source": [
    "import qiskit_finance\n",
    "#import qiskit_algorithms\n",
    "#from qiskit.circuit.library import TwoLocal\n",
    "#from qiskit.result import QuasiDistribution\n",
    "#from qiskit_aer.primitives import Sampler\n",
    "#from qiskit_algorithms import NumPyMinimumEigensolver, QAOA, SamplingVQE\n",
    "#from qiskit_algorithms.optimizers import COBYLA\n",
    "#from qiskit_finance.applications.optimization import PortfolioOptimization\n",
    "#from qiskit_finance.data_providers import RandomDataProvider\n",
    "#from qiskit_optimization.algorithms import MinimumEigenOptimizer\n",
    "import numpy as np\n",
    "import matplotlib.pyplot as plt\n",
    "import datetime"
   ]
  },
  {
   "cell_type": "code",
   "execution_count": 15,
   "id": "cde72478-df1c-48a2-9ea7-7acf3b9e0b47",
   "metadata": {},
   "outputs": [],
   "source": [
    "from qiskit_finance.data_providers import RandomDataProvider\n",
    "num_assets = 4\n",
    "seed = 1\n",
    "\n",
    "# Generate expected return and covariance matrix from (random) time-series\n",
    "stocks = [(\"TICKER%s\" % i) for i in range(num_assets)]\n",
    "data = RandomDataProvider(\n",
    "    tickers=stocks,\n",
    "    start=datetime.datetime(2016, 1, 1),\n",
    "    end=datetime.datetime(2016, 1, 30),\n",
    "    seed=seed,\n",
    ")\n",
    "data.run()\n",
    "mu = data.get_period_return_mean_vector()\n",
    "sigma = data.get_period_return_covariance_matrix()\n",
    "cc = data.get_coordinates()"
   ]
  },
  {
   "cell_type": "code",
   "execution_count": 16,
   "id": "5d961dba-bfa4-43ae-b25f-07c5374fcb4a",
   "metadata": {},
   "outputs": [
    {
     "data": {
      "image/png": "[encoded data removed]",
      "text/plain": [
       "<Figure size 640x480 with 1 Axes>"
      ]
     },
     "metadata": {},
     "output_type": "display_data"
    }
   ],
   "source": [
    "plt.imshow(sigma, interpolation=\"nearest\")\n",
    "plt.show()"
   ]
  },
  {
   "cell_type": "code",
   "execution_count": 17,
   "id": "492d5043-b56e-4064-bb6a-19ec4909784c",
   "metadata": {},
   "outputs": [
    {
     "data": {
      "text/plain": [
       "<QuadraticProgram: minimize 0.00031589664798388565*x_0^2 + 2.6555628489113036e..., 4 variables, 1 constraints, 'Portfolio optimization'>"
      ]
     },
     "execution_count": 17,
     "metadata": {},
     "output_type": "execute_result"
    }
   ],
   "source": [
    "from qiskit_finance.applications.optimization import PortfolioOptimization\n",
    "q = 0.5  # set risk factor\n",
    "budget = num_assets // 2  # set budget\n",
    "penalty = num_assets  # set parameter to scale the budget penalty term\n",
    "\n",
    "portfolio = PortfolioOptimization(\n",
    "    expected_returns=mu, covariances=sigma, risk_factor=q, budget=budget\n",
    ")\n",
    "qp = portfolio.to_quadratic_program()\n",
    "qp"
   ]
  },
  {
   "cell_type": "code",
   "execution_count": 18,
   "id": "39765f93-2190-47b5-be41-da60dd2b2bcf",
   "metadata": {},
   "outputs": [],
   "source": [
    "def print_result(result):\n",
    "    selection = result.x\n",
    "    value = result.fval\n",
    "    print(\"Optimal: selection {}, value {:.4f}\".format(selection, value))\n",
    "\n",
    "    eigenstate = result.min_eigen_solver_result.eigenstate\n",
    "    probabilities = (\n",
    "        eigenstate.binary_probabilities()\n",
    "        if isinstance(eigenstate, QuasiDistribution)\n",
    "        else {k: np.abs(v) ** 2 for k, v in eigenstate.to_dict().items()}\n",
    "    )\n",
    "    print(\"\\n----------------- Full result ---------------------\")\n",
    "    print(\"selection\\tvalue\\t\\tprobability\")\n",
    "    print(\"---------------------------------------------------\")\n",
    "    probabilities = sorted(probabilities.items(), key=lambda x: x[1], reverse=True)\n",
    "\n",
    "    for k, v in probabilities:\n",
    "        x = np.array([int(i) for i in list(reversed(k))])\n",
    "        value = portfolio.to_quadratic_program().objective.evaluate(x)\n",
    "        print(\"%10s\\t%.4f\\t\\t%.4f\" % (x, value, v))"
   ]
  },
  {
   "cell_type": "code",
   "execution_count": 19,
   "id": "59426abc-4cca-4d4c-9973-1d9df086eaba",
   "metadata": {},
   "outputs": [
    {
     "name": "stdout",
     "output_type": "stream",
     "text": [
      "Requirement already satisfied: qiskit_algorithms in c:\\users\\oleg\\appdata\\local\\programs\\python\\python310\\lib\\site-packages (0.3.0)\n",
      "Requirement already satisfied: qiskit>=0.44 in c:\\users\\oleg\\appdata\\local\\programs\\python\\python310\\lib\\site-packages (from qiskit_algorithms) (1.1.1)\n",
      "Requirement already satisfied: scipy>=1.4 in c:\\users\\oleg\\appdata\\local\\programs\\python\\python310\\lib\\site-packages (from qiskit_algorithms) (1.14.1)\n",
      "Requirement already satisfied: numpy>=1.17 in c:\\users\\oleg\\appdata\\local\\programs\\python\\python310\\lib\\site-packages (from qiskit_algorithms) (1.24.4)\n",
      "Requirement already satisfied: sympy>=1.3 in c:\\users\\oleg\\appdata\\local\\programs\\python\\python310\\lib\\site-packages (from qiskit>=0.44->qiskit_algorithms) (1.12.1)\n",
      "Requirement already satisfied: dill>=0.3 in c:\\users\\oleg\\appdata\\local\\programs\\python\\python310\\lib\\site-packages (from qiskit>=0.44->qiskit_algorithms) (0.3.8)\n",
      "Requirement already satisfied: rustworkx>=0.14.0 in c:\\users\\oleg\\appdata\\local\\programs\\python\\python310\\lib\\site-packages (from qiskit>=0.44->qiskit_algorithms) (0.15.1)\n",
      "Requirement already satisfied: stevedore>=3.0.0 in c:\\users\\oleg\\appdata\\local\\programs\\python\\python310\\lib\\site-packages (from qiskit>=0.44->qiskit_algorithms) (5.2.0)\n",
      "Requirement already satisfied: symengine>=0.11 in c:\\users\\oleg\\appdata\\local\\programs\\python\\python310\\lib\\site-packages (from qiskit>=0.44->qiskit_algorithms) (0.11.0)\n",
      "Requirement already satisfied: python-dateutil>=2.8.0 in c:\\users\\oleg\\appdata\\local\\programs\\python\\python310\\lib\\site-packages (from qiskit>=0.44->qiskit_algorithms) (2.8.2)\n",
      "Requirement already satisfied: typing-extensions in c:\\users\\oleg\\appdata\\local\\programs\\python\\python310\\lib\\site-packages (from qiskit>=0.44->qiskit_algorithms) (4.12.2)\n",
      "Requirement already satisfied: six>=1.5 in c:\\users\\oleg\\appdata\\local\\programs\\python\\python310\\lib\\site-packages (from python-dateutil>=2.8.0->qiskit>=0.44->qiskit_algorithms) (1.16.0)\n",
      "Requirement already satisfied: pbr!=2.1.0,>=2.0.0 in c:\\users\\oleg\\appdata\\local\\programs\\python\\python310\\lib\\site-packages (from stevedore>=3.0.0->qiskit>=0.44->qiskit_algorithms) (6.0.0)\n",
      "Requirement already satisfied: mpmath<1.4.0,>=1.1.0 in c:\\users\\oleg\\appdata\\local\\programs\\python\\python310\\lib\\site-packages (from sympy>=1.3->qiskit>=0.44->qiskit_algorithms) (1.3.0)\n",
      "Note: you may need to restart the kernel to use updated packages.\n"
     ]
    },
    {
     "name": "stderr",
     "output_type": "stream",
     "text": [
      "WARNING: There was an error checking the latest version of pip.\n"
     ]
    }
   ],
   "source": [
    "pip install qiskit_algorithms"
   ]
  },
  {
   "cell_type": "code",
   "execution_count": 20,
   "id": "09a445f0-7283-474c-833d-984eea34deb2",
   "metadata": {},
   "outputs": [
    {
     "name": "stdout",
     "output_type": "stream",
     "text": [
      "Optimal: selection [0. 1. 0. 1.], value -0.0001\n",
      "\n",
      "----------------- Full result ---------------------\n",
      "selection\tvalue\t\tprobability\n",
      "---------------------------------------------------\n",
      " [0 1 0 1]\t-0.0001\t\t1.0000\n"
     ]
    }
   ],
   "source": [
    "from qiskit_algorithms import NumPyMinimumEigensolver, QAOA, SamplingVQE\n",
    "from qiskit_optimization.algorithms import MinimumEigenOptimizer\n",
    "from qiskit.result import QuasiDistribution\n",
    "\n",
    "exact_mes = NumPyMinimumEigensolver()\n",
    "exact_eigensolver = MinimumEigenOptimizer(exact_mes)\n",
    "\n",
    "result = exact_eigensolver.solve(qp)\n",
    "\n",
    "print_result(result)"
   ]
  },
  {
   "cell_type": "code",
   "execution_count": 21,
   "id": "923dfb01-b6e7-4908-8cc9-aa661c325dab",
   "metadata": {},
   "outputs": [
    {
     "name": "stdout",
     "output_type": "stream",
     "text": [
      "Optimal: selection [0. 1. 0. 1.], value -0.0001\n",
      "\n",
      "----------------- Full result ---------------------\n",
      "selection\tvalue\t\tprobability\n",
      "---------------------------------------------------\n",
      " [1 0 0 1]\t0.0029\t\t0.9473\n",
      " [0 0 1 1]\t0.0129\t\t0.0176\n",
      " [1 1 0 0]\t0.0026\t\t0.0117\n",
      " [0 1 1 0]\t0.0120\t\t0.0088\n",
      " [0 0 0 1]\t0.0001\t\t0.0068\n",
      " [1 1 0 1]\t0.0027\t\t0.0039\n",
      " [0 1 0 1]\t-0.0001\t\t0.0010\n",
      " [1 0 0 0]\t0.0028\t\t0.0010\n",
      " [1 1 1 0]\t0.0154\t\t0.0010\n",
      " [1 0 1 1]\t0.0163\t\t0.0010\n"
     ]
    }
   ],
   "source": [
    "from qiskit.circuit.library import TwoLocal\n",
    "from qiskit_algorithms.optimizers import COBYLA\n",
    "from qiskit_algorithms.utils import algorithm_globals\n",
    "from qiskit_aer.primitives import Sampler\n",
    "\n",
    "algorithm_globals.random_seed = 1234\n",
    "\n",
    "cobyla = COBYLA()\n",
    "cobyla.set_options(maxiter=500)\n",
    "ry = TwoLocal(num_assets, \"ry\", \"cz\", reps=3, entanglement=\"full\")\n",
    "svqe_mes = SamplingVQE(sampler=Sampler(), ansatz=ry, optimizer=cobyla)\n",
    "svqe = MinimumEigenOptimizer(svqe_mes)\n",
    "result = svqe.solve(qp)\n",
    "\n",
    "print_result(result)"
   ]
  },
  {
   "cell_type": "code",
   "execution_count": 14,
   "id": "21bcf3a8-869c-4dc4-a876-1ee12019344c",
   "metadata": {},
   "outputs": [
    {
     "data": {
      "text/plain": [
       "<MinimumEigenOptimizationResult: fval=-0.01488461311339271, x_0=1.0, x_1=0.0, x_2=0.0, x_3=1.0, status=SUCCESS>"
      ]
     },
     "execution_count": 14,
     "metadata": {},
     "output_type": "execute_result"
    }
   ],
   "source": [
    "result\n"
   ]
  },
  {
   "cell_type": "code",
   "execution_count": null,
   "id": "61157a60-7e2e-4d45-93b2-0be77432b173",
   "metadata": {},
   "outputs": [],
   "source": []
  }
 ],
 "metadata": {
  "kernelspec": {
   "display_name": "Python 3 (ipykernel)",
   "language": "python",
   "name": "python3"
  },
  "language_info": {
   "codemirror_mode": {
    "name": "ipython",
    "version": 3
   },
   "file_extension": ".py",
   "mimetype": "text/x-python",
   "name": "python",
   "nbconvert_exporter": "python",
   "pygments_lexer": "ipython3",
   "version": "3.10.2"
  }
 },
 "nbformat": 4,
 "nbformat_minor": 5
}
