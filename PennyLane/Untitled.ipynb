{
 "cells": [
  {
   "cell_type": "code",
   "execution_count": 1,
   "id": "5660b285-1745-4c65-81db-8ae1de052a45",
   "metadata": {},
   "outputs": [
    {
     "name": "stdout",
     "output_type": "stream",
     "text": [
      "Collecting pennylane\n",
      "  Downloading PennyLane-0.38.0-py3-none-any.whl (1.9 MB)\n",
      "     ---------------------------------------- 1.9/1.9 MB 16.9 MB/s eta 0:00:00\n",
      "Requirement already satisfied: rustworkx>=0.14.0 in c:\\users\\oleg\\appdata\\local\\programs\\python\\python310\\lib\\site-packages (from pennylane) (0.15.1)\n",
      "Requirement already satisfied: networkx in c:\\users\\oleg\\appdata\\local\\programs\\python\\python310\\lib\\site-packages (from pennylane) (3.3)\n",
      "Collecting autoray>=0.6.11\n",
      "  Downloading autoray-0.7.0-py3-none-any.whl (930 kB)\n",
      "     ------------------------------------- 930.0/930.0 kB 20.0 MB/s eta 0:00:00\n",
      "Collecting appdirs\n",
      "  Downloading appdirs-1.4.4-py2.py3-none-any.whl (9.6 kB)\n",
      "Collecting autograd\n",
      "  Downloading autograd-1.7.0-py3-none-any.whl (52 kB)\n",
      "     ---------------------------------------- 52.5/52.5 kB ? eta 0:00:00\n",
      "Requirement already satisfied: scipy in c:\\users\\oleg\\appdata\\local\\programs\\python\\python310\\lib\\site-packages (from pennylane) (1.14.1)\n",
      "Collecting pennylane-lightning>=0.38\n",
      "  Downloading PennyLane_Lightning-0.38.0-cp310-cp310-win_amd64.whl (5.8 MB)\n",
      "     ---------------------------------------- 5.8/5.8 MB 20.6 MB/s eta 0:00:00\n",
      "Requirement already satisfied: numpy<2.0 in c:\\users\\oleg\\appdata\\local\\programs\\python\\python310\\lib\\site-packages (from pennylane) (1.24.4)\n",
      "Collecting toml\n",
      "  Downloading toml-0.10.2-py2.py3-none-any.whl (16 kB)\n",
      "Requirement already satisfied: typing-extensions in c:\\users\\oleg\\appdata\\local\\programs\\python\\python310\\lib\\site-packages (from pennylane) (4.12.2)\n",
      "Requirement already satisfied: requests in c:\\users\\oleg\\appdata\\local\\programs\\python\\python310\\lib\\site-packages (from pennylane) (2.32.3)\n",
      "Requirement already satisfied: packaging in c:\\users\\oleg\\appdata\\local\\programs\\python\\python310\\lib\\site-packages (from pennylane) (24.1)\n",
      "Requirement already satisfied: cachetools in c:\\users\\oleg\\appdata\\local\\programs\\python\\python310\\lib\\site-packages (from pennylane) (5.5.0)\n",
      "Requirement already satisfied: idna<4,>=2.5 in c:\\users\\oleg\\appdata\\local\\programs\\python\\python310\\lib\\site-packages (from requests->pennylane) (3.3)\n",
      "Requirement already satisfied: urllib3<3,>=1.21.1 in c:\\users\\oleg\\appdata\\local\\programs\\python\\python310\\lib\\site-packages (from requests->pennylane) (2.2.3)\n",
      "Requirement already satisfied: charset-normalizer<4,>=2 in c:\\users\\oleg\\appdata\\local\\programs\\python\\python310\\lib\\site-packages (from requests->pennylane) (2.0.12)\n",
      "Requirement already satisfied: certifi>=2017.4.17 in c:\\users\\oleg\\appdata\\local\\programs\\python\\python310\\lib\\site-packages (from requests->pennylane) (2024.6.2)\n",
      "Installing collected packages: appdirs, toml, autoray, autograd, pennylane-lightning, pennylane\n",
      "Successfully installed appdirs-1.4.4 autograd-1.7.0 autoray-0.7.0 pennylane-0.38.0 pennylane-lightning-0.38.0 toml-0.10.2\n"
     ]
    },
    {
     "name": "stderr",
     "output_type": "stream",
     "text": [
      "WARNING: There was an error checking the latest version of pip.\n"
     ]
    }
   ],
   "source": [
    "!pip install pennylane --upgrade"
   ]
  },
  {
   "cell_type": "code",
   "execution_count": null,
   "id": "3741f3ad-3441-4e6a-b73c-621265d19dd8",
   "metadata": {},
   "outputs": [],
   "source": []
  }
 ],
 "metadata": {
  "kernelspec": {
   "display_name": "Python 3 (ipykernel)",
   "language": "python",
   "name": "python3"
  },
  "language_info": {
   "codemirror_mode": {
    "name": "ipython",
    "version": 3
   },
   "file_extension": ".py",
   "mimetype": "text/x-python",
   "name": "python",
   "nbconvert_exporter": "python",
   "pygments_lexer": "ipython3",
   "version": "3.10.2"
  }
 },
 "nbformat": 4,
 "nbformat_minor": 5
}
