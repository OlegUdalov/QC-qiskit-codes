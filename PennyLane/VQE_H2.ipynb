{
 "cells": [
  {
   "cell_type": "markdown",
   "id": "179b2508-1cd4-46b0-b4d0-94f24ef8f582",
   "metadata": {},
   "source": [
    "# The notebook is devoted to H2 molecule simulation using VQE algorithm\n",
    "\n",
    "I take the algorithm from the PennyLane example\n",
    "\n"
   ]
  },
  {
   "cell_type": "code",
   "execution_count": 8,
   "id": "ebd40018-36af-45f3-95dc-227c0138d56e",
   "metadata": {
    "collapsed": true,
    "jupyter": {
     "outputs_hidden": true
    }
   },
   "outputs": [
    {
     "name": "stdout",
     "output_type": "stream",
     "text": [
      "Requirement already satisfied: aiohttp in c:\\users\\oleg\\appdata\\local\\programs\\python\\python310\\lib\\site-packages (3.10.9)\n",
      "Requirement already satisfied: fsspec in c:\\users\\oleg\\appdata\\local\\programs\\python\\python310\\lib\\site-packages (2024.9.0)\n",
      "Collecting h5py\n",
      "  Downloading h5py-3.12.1-cp310-cp310-win_amd64.whl (3.0 MB)\n",
      "     ---------------------------------------- 3.0/3.0 MB 14.7 MB/s eta 0:00:00\n",
      "Requirement already satisfied: yarl<2.0,>=1.12.0 in c:\\users\\oleg\\appdata\\local\\programs\\python\\python310\\lib\\site-packages (from aiohttp) (1.13.1)\n",
      "Requirement already satisfied: frozenlist>=1.1.1 in c:\\users\\oleg\\appdata\\local\\programs\\python\\python310\\lib\\site-packages (from aiohttp) (1.3.0)\n",
      "Requirement already satisfied: aiohappyeyeballs>=2.3.0 in c:\\users\\oleg\\appdata\\local\\programs\\python\\python310\\lib\\site-packages (from aiohttp) (2.4.3)\n",
      "Requirement already satisfied: async-timeout<5.0,>=4.0 in c:\\users\\oleg\\appdata\\local\\programs\\python\\python310\\lib\\site-packages (from aiohttp) (4.0.2)\n",
      "Requirement already satisfied: aiosignal>=1.1.2 in c:\\users\\oleg\\appdata\\local\\programs\\python\\python310\\lib\\site-packages (from aiohttp) (1.2.0)\n",
      "Requirement already satisfied: attrs>=17.3.0 in c:\\users\\oleg\\appdata\\local\\programs\\python\\python310\\lib\\site-packages (from aiohttp) (23.2.0)\n",
      "Requirement already satisfied: multidict<7.0,>=4.5 in c:\\users\\oleg\\appdata\\local\\programs\\python\\python310\\lib\\site-packages (from aiohttp) (6.0.2)\n",
      "Requirement already satisfied: numpy>=1.19.3 in c:\\users\\oleg\\appdata\\local\\programs\\python\\python310\\lib\\site-packages (from h5py) (1.24.4)\n",
      "Requirement already satisfied: idna>=2.0 in c:\\users\\oleg\\appdata\\local\\programs\\python\\python310\\lib\\site-packages (from yarl<2.0,>=1.12.0->aiohttp) (3.3)\n",
      "Installing collected packages: h5py\n",
      "Successfully installed h5py-3.12.1\n"
     ]
    },
    {
     "name": "stderr",
     "output_type": "stream",
     "text": [
      "WARNING: There was an error checking the latest version of pip.\n"
     ]
    }
   ],
   "source": [
    "#pip install jax\n",
    "#!pip install aiohttp fsspec h5py"
   ]
  },
  {
   "cell_type": "code",
   "execution_count": 6,
   "id": "012089a3-794e-4fa9-aff8-018f8c75b806",
   "metadata": {},
   "outputs": [],
   "source": [
    "from jax import numpy as np\n",
    "import jax\n",
    "jax.config.update(\"jax_platform_name\", \"cpu\")\n",
    "jax.config.update('jax_enable_x64', True)\n",
    "\n",
    "import pennylane as qml"
   ]
  },
  {
   "cell_type": "code",
   "execution_count": 9,
   "id": "97c95e1b-9c92-4095-b97d-fc1443009a4b",
   "metadata": {},
   "outputs": [
    {
     "name": "stdout",
     "output_type": "stream",
     "text": [
      "Number of qubits =  4\n",
      "The Hamiltonian is  -0.09963387941370971 * I(0) + 0.17110545123720233 * Z(0) + 0.17110545123720225 * Z(1) + 0.16859349595532533 * (Z(0) @ Z(1)) + 0.04533062254573469 * (Y(0) @ X(1) @ X(2) @ Y(3)) + -0.04533062254573469 * (Y(0) @ Y(1) @ X(2) @ X(3)) + -0.04533062254573469 * (X(0) @ X(1) @ Y(2) @ Y(3)) + 0.04533062254573469 * (X(0) @ Y(1) @ Y(2) @ X(3)) + -0.22250914236600539 * Z(2) + 0.12051027989546245 * (Z(0) @ Z(2)) + -0.22250914236600539 * Z(3) + 0.16584090244119712 * (Z(0) @ Z(3)) + 0.16584090244119712 * (Z(1) @ Z(2)) + 0.12051027989546245 * (Z(1) @ Z(3)) + 0.1743207725924201 * (Z(2) @ Z(3))\n"
     ]
    }
   ],
   "source": [
    "#importing the molecule Hamiltonian from the PennyLane library of molecules (https://pennylane.ai/datasets/)\n",
    "\n",
    "dataset = qml.data.load('qchem', molname=\"H2\")[0]\n",
    "H, qubits = dataset.hamiltonian, len(dataset.hamiltonian.wires)\n",
    "print(\"Number of qubits = \", qubits)\n",
    "print(\"The Hamiltonian is \", H)"
   ]
  },
  {
   "cell_type": "code",
   "execution_count": null,
   "id": "d5e48425-b827-497e-84a7-929dfa425e4b",
   "metadata": {},
   "outputs": [],
   "source": []
  }
 ],
 "metadata": {
  "kernelspec": {
   "display_name": "Python 3 (ipykernel)",
   "language": "python",
   "name": "python3"
  },
  "language_info": {
   "codemirror_mode": {
    "name": "ipython",
    "version": 3
   },
   "file_extension": ".py",
   "mimetype": "text/x-python",
   "name": "python",
   "nbconvert_exporter": "python",
   "pygments_lexer": "ipython3",
   "version": "3.12.4"
  }
 },
 "nbformat": 4,
 "nbformat_minor": 5
}
