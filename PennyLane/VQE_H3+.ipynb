{
 "cells": [
  {
   "cell_type": "markdown",
   "id": "b2e6abcc-5155-4f3e-83a4-2f93c186fa82",
   "metadata": {},
   "source": [
    "# Here I follows the demo from PennyLane for building the H3+ molecule using VQE algorithm"
   ]
  },
  {
   "cell_type": "code",
   "execution_count": 7,
   "id": "749d8443-4a62-4400-9d6d-d9dcb9601b27",
   "metadata": {
    "collapsed": true,
    "jupyter": {
     "outputs_hidden": true
    }
   },
   "outputs": [
    {
     "name": "stderr",
     "output_type": "stream",
     "text": [
      "ERROR: Could not find a version that satisfies the requirement pennylane-catalyst (from versions: none)\n",
      "ERROR: No matching distribution found for pennylane-catalyst\n"
     ]
    }
   ],
   "source": [
    "#!pip install jax\n",
    "#!pip install aiohttp fsspec h5py\n",
    "#!pip install pennylane-catalyst"
   ]
  },
  {
   "cell_type": "code",
   "execution_count": 8,
   "id": "6fd4cbf8-edc6-47ec-aa20-8a055fc62228",
   "metadata": {},
   "outputs": [],
   "source": [
    "import json\n",
    "import pennylane as qml\n",
    "import pennylane.numpy as np\n",
    "import jax\n",
    "jax.config.update(\"jax_platform_name\", \"cpu\")\n",
    "jax.config.update('jax_enable_x64', True)"
   ]
  },
  {
   "cell_type": "code",
   "execution_count": 9,
   "id": "e05b917a-e825-4118-b32d-8a6dea945ac6",
   "metadata": {},
   "outputs": [
    {
     "name": "stdout",
     "output_type": "stream",
     "text": [
      "qubits: 6\n"
     ]
    }
   ],
   "source": [
    "dataset = qml.data.load('qchem', molname=\"H3+\")[0]\n",
    "H, qubits = dataset.hamiltonian, len(dataset.hamiltonian.wires)\n",
    "\n",
    "print(f\"qubits: {qubits}\")"
   ]
  },
  {
   "cell_type": "code",
   "execution_count": 10,
   "id": "10920e4d-fb8d-427a-84b8-9265bd83d514",
   "metadata": {},
   "outputs": [],
   "source": [
    "from jax import numpy as jnp\n",
    "\n",
    "# Define the device, using lightning.qubit device\n",
    "dev = qml.device('default.qubit', wires=qubits)\n",
    "\n",
    "\n",
    "hf = np.array(dataset.hf_state)\n",
    "\n",
    "@qml.qnode(dev, diff_method=\"adjoint\")\n",
    "def cost(params):\n",
    "    qml.BasisState(hf, wires=range(qubits))\n",
    "    qml.DoubleExcitation(params[0], wires=[0, 1, 2, 3])\n",
    "    qml.DoubleExcitation(params[1], wires=[0, 1, 4, 5])\n",
    "    return qml.expval(H)"
   ]
  },
  {
   "cell_type": "code",
   "execution_count": 11,
   "id": "b46f5fee-ccb5-4f82-9bd7-222a97f297f5",
   "metadata": {},
   "outputs": [
    {
     "name": "stdout",
     "output_type": "stream",
     "text": [
      "[1 1 0 0 0 0]\n"
     ]
    }
   ],
   "source": [
    "print(hf)"
   ]
  },
  {
   "cell_type": "code",
   "execution_count": 12,
   "id": "530200ee-6c65-4561-9897-5114a9e42a2f",
   "metadata": {},
   "outputs": [
    {
     "name": "stdout",
     "output_type": "stream",
     "text": [
      "--- Step: 0, Energy: -1.25144067\n",
      "--- Step: 1, Energy: -1.25750443\n",
      "--- Step: 2, Energy: -1.26014791\n",
      "--- Step: 3, Energy: -1.26129611\n",
      "--- Step: 4, Energy: -1.26179425\n",
      "--- Step: 5, Energy: -1.26201033\n",
      "--- Step: 6, Energy: -1.26210406\n",
      "--- Step: 7, Energy: -1.26214474\n",
      "--- Step: 8, Energy: -1.26216238\n",
      "--- Step: 9, Energy: -1.26217005\n",
      "Final angle parameters: [0.16684898 0.16735496]\n"
     ]
    }
   ],
   "source": [
    "init_params = np.array([0.0, 0.0])\n",
    "opt = qml.GradientDescentOptimizer(stepsize=0.4)\n",
    "steps = 10\n",
    "\n",
    "params = init_params\n",
    "\n",
    "for n in range(10):\n",
    "    params, prev_energy = opt.step_and_cost(cost, params)\n",
    "    print(f\"--- Step: {n}, Energy: {cost(params):.8f}\")\n",
    "\n",
    "print(f\"Final angle parameters: {params}\")"
   ]
  },
  {
   "cell_type": "code",
   "execution_count": null,
   "id": "2dbcf93d-d8dd-49d7-8110-f57081bb2145",
   "metadata": {},
   "outputs": [],
   "source": []
  }
 ],
 "metadata": {
  "kernelspec": {
   "display_name": "Python 3 (ipykernel)",
   "language": "python",
   "name": "python3"
  },
  "language_info": {
   "codemirror_mode": {
    "name": "ipython",
    "version": 3
   },
   "file_extension": ".py",
   "mimetype": "text/x-python",
   "name": "python",
   "nbconvert_exporter": "python",
   "pygments_lexer": "ipython3",
   "version": "3.12.4"
  }
 },
 "nbformat": 4,
 "nbformat_minor": 5
}
