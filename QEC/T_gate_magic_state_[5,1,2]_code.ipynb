{
 "cells": [
  {
   "cell_type": "markdown",
   "id": "4096a5a7-3f24-404c-a4c6-52c90afa6ef4",
   "metadata": {},
   "source": [
    "# T gate impelementation for [[5,1,2]] surface code using magic state distillation"
   ]
  },
  {
   "cell_type": "code",
   "execution_count": null,
   "id": "6b7ab377-31ac-4506-994c-6148e4207f8d",
   "metadata": {},
   "outputs": [],
   "source": [
    "import qiskit\n",
    "from qiskit import QuantumRegister as Q_R\n",
    "from qiskit import ClassicalRegister as C_R\n",
    "\n",
    "from qiskit_aer import Aer\n",
    "from qiskit import QuantumCircuit, transpile\n",
    "from qiskit_aer import AerSimulator\n",
    "\n",
    "import bluequbit"
   ]
  },
  {
   "cell_type": "code",
   "execution_count": null,
   "id": "258ffdc1-5031-43be-93ba-4513715e2a7d",
   "metadata": {},
   "outputs": [],
   "source": [
    "#Syndromes \n",
    "syndr_z_qc = qiskit.QuantumCircuit(3)\n",
    "syndr_z_qc.z(0)\n",
    "syndr_z_qc.z(1)\n",
    "syndr_z_qc.z(2)\n",
    "syndr_gate_z = syndr_z_qc.to_gate(None,'Syndrome_z').control(1)\n",
    "\n",
    "syndr_x_qc = qiskit.QuantumCircuit(3)\n",
    "syndr_x_qc.x(0)\n",
    "syndr_x_qc.x(1)\n",
    "syndr_x_qc.x(2)\n",
    "syndr_gate_x = syndr_x_qc.to_gate(None,'Syndrome_x').control(1)"
   ]
  },
  {
   "cell_type": "code",
   "execution_count": null,
   "id": "a3dd6aad-7869-40b5-a623-9a486444ebd5",
   "metadata": {},
   "outputs": [],
   "source": [
    "#Logical qubit\n",
    "q_reg = Q_R(5)\n",
    "\n",
    "qc_log_q = qiskit.QuantumCircuit(q_reg)\n",
    "\n",
    "\n",
    "#Encoder\n",
    "qc_log_q.cx(0,2)\n",
    "qc_log_q.cx(0,4)\n",
    "\n",
    "qc_log_q.h(1)\n",
    "qc_log_q.cx(1,0)\n",
    "qc_log_q.cx(1,2)\n",
    "\n",
    "qc_log_q.h(3)\n",
    "qc_log_q.cx(3,4)\n",
    "qc_log_q.cx(3,2)\n",
    "\n",
    "logical_qubit = qc_log_q.to_gate(None,'logical qubit')\n",
    "\n",
    "\n",
    "\n",
    "\n",
    "#Syndrome extraction\n",
    "q_reg = Q_R(9)\n",
    "qc_syndr = qiskit.QuantumCircuit(q_reg)\n",
    "qc_syndr.h(5)\n",
    "qc_syndr.h(6)\n",
    "qc_syndr.h(7)\n",
    "qc_syndr.h(8)\n",
    "qc_syndr.append(syndr_gate_x, [5, 0, 1, 2])\n",
    "qc_syndr.append(syndr_gate_x, [6, 2, 3, 4])\n",
    "qc_syndr.append(syndr_gate_z, [7, 0, 2, 3])\n",
    "qc_syndr.append(syndr_gate_z, [8, 1, 2, 4])\n",
    "qc_syndr.h(5)\n",
    "qc_syndr.h(6)\n",
    "qc_syndr.h(7)\n",
    "qc_syndr.h(8)\n",
    "syndrome = qc_syndr.to_gate(None,'Syndrome')\n"
   ]
  }
 ],
 "metadata": {
  "kernelspec": {
   "display_name": "Python 3 (ipykernel)",
   "language": "python",
   "name": "python3"
  },
  "language_info": {
   "codemirror_mode": {
    "name": "ipython",
    "version": 3
   },
   "file_extension": ".py",
   "mimetype": "text/x-python",
   "name": "python",
   "nbconvert_exporter": "python",
   "pygments_lexer": "ipython3",
   "version": "3.10.2"
  }
 },
 "nbformat": 4,
 "nbformat_minor": 5
}
