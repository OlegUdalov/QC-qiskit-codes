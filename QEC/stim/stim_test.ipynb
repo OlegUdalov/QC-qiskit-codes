{
 "cells": [
  {
   "cell_type": "markdown",
   "id": "000ca328-20c4-484e-83fe-c63f983175dc",
   "metadata": {},
   "source": [
    "# Learning stim\n",
    "\n",
    "Stim is a package performin simulation of quantum circuits. It work much faster than the qiskit, but cannot simulate complicated non-Clifford gates. Stim is used to analyze error correction codes. \n",
    "\n",
    "It has additional features such as stabilizer tableau analysis.\n",
    "\n",
    "Here is a tutorial video on how to use stim: https://www.youtube.com/watch?v=sprDaLxPVNI\n",
    "\n",
    "Here is the very useful GitHub page on the Stim: https://github.com/quantumlib/Stim/blob/main/doc/getting_started.ipynb\n",
    "\n",
    "## Notes on Stim\n",
    "1. One can use QASM intermediate representation to convert some of the Stim codes into the Qiskit codes. Note that for example error operators are not supported by stim."
   ]
  },
  {
   "cell_type": "code",
   "execution_count": 3,
   "id": "95ffef9c-66db-4aff-ae33-d8fc63ba5967",
   "metadata": {},
   "outputs": [],
   "source": [
    "#!pip install stim"
   ]
  },
  {
   "cell_type": "code",
   "execution_count": 4,
   "id": "bd2b18d7-9896-4d84-99c5-e920af7e4f85",
   "metadata": {},
   "outputs": [],
   "source": [
    "import stim\n",
    "\n",
    "circuit_string = \"H 0 \\n H 1 \\n M 0 1\"\n",
    "\n",
    "c = stim.Circuit(circuit_string)\n",
    "c = c + c\n",
    "c_quasm = c.to_qasm(open_qasm_version=2)                "
   ]
  },
  {
   "cell_type": "code",
   "execution_count": 5,
   "id": "41f5dfef-53b6-48f4-8766-068d044e33e2",
   "metadata": {},
   "outputs": [
    {
     "data": {
      "text/plain": [
       "'OPENQASM 2.0;\\ninclude \"qelib1.inc\";\\n\\nqreg q[2];\\ncreg rec[4];\\n\\nh q[0];\\nh q[1];\\nmeasure q[0] -> rec[0];\\nmeasure q[1] -> rec[1];\\nh q[0];\\nh q[1];\\nmeasure q[0] -> rec[2];\\nmeasure q[1] -> rec[3];\\n'"
      ]
     },
     "execution_count": 5,
     "metadata": {},
     "output_type": "execute_result"
    }
   ],
   "source": [
    "c_quasm"
   ]
  },
  {
   "cell_type": "code",
   "execution_count": 6,
   "id": "65e41bcf-b132-49a6-8bb5-995ec47bcccf",
   "metadata": {},
   "outputs": [],
   "source": [
    "res = c.compile_sampler().sample(10)"
   ]
  },
  {
   "cell_type": "code",
   "execution_count": 7,
   "id": "8fd8c9af-a175-4281-b39f-75f0ccd97c95",
   "metadata": {},
   "outputs": [
    {
     "data": {
      "text/plain": [
       "array([[False, False, False,  True],\n",
       "       [False,  True, False,  True],\n",
       "       [False, False, False, False],\n",
       "       [ True, False, False,  True],\n",
       "       [False,  True, False,  True],\n",
       "       [ True, False,  True,  True],\n",
       "       [ True,  True,  True, False],\n",
       "       [False,  True, False,  True],\n",
       "       [ True,  True, False,  True],\n",
       "       [ True,  True,  True,  True]])"
      ]
     },
     "execution_count": 7,
     "metadata": {},
     "output_type": "execute_result"
    }
   ],
   "source": [
    "res"
   ]
  },
  {
   "cell_type": "code",
   "execution_count": 8,
   "id": "3bf59687-abad-467e-93af-5faf1e9dd00f",
   "metadata": {},
   "outputs": [
    {
     "data": {
      "image/png": "[encoded data removed]",
      "text/plain": [
       "<Figure size 630.95x284.278 with 1 Axes>"
      ]
     },
     "execution_count": 8,
     "metadata": {},
     "output_type": "execute_result"
    }
   ],
   "source": [
    "import qiskit\n",
    "from qiskit import QuantumCircuit\n",
    "\n",
    "circuit = QuantumCircuit.from_qasm_str(c_quasm)\n",
    "circuit.draw('mpl')"
   ]
  },
  {
   "cell_type": "code",
   "execution_count": 9,
   "id": "b171729f-b463-4402-be7c-0b7dec5f2840",
   "metadata": {},
   "outputs": [],
   "source": [
    "qc_st422 = stim.Circuit()\n",
    "qubits = range(6)\n",
    "\n",
    "qc_st422.append_operation('CNOT', [0, 2])\n",
    "qc_st422.append_operation('CNOT', [1, 2])\n",
    "qc_st422.append_operation('H', [3])\n",
    "qc_st422.append_operation('X_ERROR', [0, 1], 0.1)\n",
    "qc_st422.append_operation('CNOT', [3, 2])\n",
    "qc_st422.append_operation('CNOT', [3, 1])\n",
    "qc_st422.append_operation('CNOT', [3, 0])\n",
    "\n",
    "\n",
    "\n",
    "qc_st422.append_operation('H', [4])\n",
    "qc_st422.append_operation('H', [5])\n",
    "for i in range(4):\n",
    "    qc_st422.append_operation('CZ', [4, i])\n",
    "for i in range(4):\n",
    "    qc_st422.append_operation('CNOT', [5, i])\n",
    "qc_st422.append_operation('H', [4])\n",
    "qc_st422.append_operation('H', [5])\n",
    "qc_st422.append_operation('MR', [4,5])\n",
    "\n",
    "\n",
    "#c_quasm = qc_st422.to_qasm(open_qasm_version=2)"
   ]
  },
  {
   "cell_type": "code",
   "execution_count": 10,
   "id": "752a5fc0-95a3-4b9f-9fff-a11c8e26be70",
   "metadata": {},
   "outputs": [
    {
     "data": {
      "image/svg+xml": [
       "<svg viewBox=\"0 0 1056 480\"  version=\"1.1\" xmlns=\"http://www.w3.org/2000/svg\">\n",
       "<g id=\"qubit_lines\">\n",
       "<path id=\"qubit_line:0\" d=\"M64,64 L1024,64 \" stroke=\"black\"/>\n",
       "<text dominant-baseline=\"central\" text-anchor=\"end\" font-family=\"monospace\" font-size=\"12\" x=\"64\" y=\"64\">q0</text>\n",
       "<path id=\"qubit_line:1\" d=\"M64,128 L1024,128 \" stroke=\"black\"/>\n",
       "<text dominant-baseline=\"central\" text-anchor=\"end\" font-family=\"monospace\" font-size=\"12\" x=\"64\" y=\"128\">q1</text>\n",
       "<path id=\"qubit_line:2\" d=\"M64,192 L1024,192 \" stroke=\"black\"/>\n",
       "<text dominant-baseline=\"central\" text-anchor=\"end\" font-family=\"monospace\" font-size=\"12\" x=\"64\" y=\"192\">q2</text>\n",
       "<path id=\"qubit_line:3\" d=\"M64,256 L1024,256 \" stroke=\"black\"/>\n",
       "<text dominant-baseline=\"central\" text-anchor=\"end\" font-family=\"monospace\" font-size=\"12\" x=\"64\" y=\"256\">q3</text>\n",
       "<path id=\"qubit_line:4\" d=\"M64,320 L1024,320 \" stroke=\"black\"/>\n",
       "<text dominant-baseline=\"central\" text-anchor=\"end\" font-family=\"monospace\" font-size=\"12\" x=\"64\" y=\"320\">q4</text>\n",
       "<path id=\"qubit_line:5\" d=\"M64,384 L1024,384 \" stroke=\"black\"/>\n",
       "<text dominant-baseline=\"central\" text-anchor=\"end\" font-family=\"monospace\" font-size=\"12\" x=\"64\" y=\"384\">q5</text>\n",
       "</g>\n",
       "<path d=\"M96,64 L96,192 \" stroke=\"black\"/>\n",
       "<circle cx=\"96\" cy=\"64\" r=\"12\" stroke=\"none\" fill=\"black\"/>\n",
       "<circle cx=\"96\" cy=\"192\" r=\"12\" stroke=\"black\" fill=\"white\"/>\n",
       "<path d=\"M84,192 L108,192 M96,180 L96,204 \" stroke=\"black\"/>\n",
       "<path d=\"M160,128 L160,192 \" stroke=\"black\"/>\n",
       "<circle cx=\"160\" cy=\"128\" r=\"12\" stroke=\"none\" fill=\"black\"/>\n",
       "<circle cx=\"160\" cy=\"192\" r=\"12\" stroke=\"black\" fill=\"white\"/>\n",
       "<path d=\"M148,192 L172,192 M160,180 L160,204 \" stroke=\"black\"/>\n",
       "<rect x=\"144\" y=\"240\" width=\"32\" height=\"32\" stroke=\"black\" fill=\"white\"/>\n",
       "<text dominant-baseline=\"central\" text-anchor=\"middle\" font-family=\"monospace\" font-size=\"30\" x=\"160\" y=\"256\">H</text>\n",
       "<rect x=\"144\" y=\"48\" width=\"32\" height=\"32\" stroke=\"black\" fill=\"pink\"/>\n",
       "<text dominant-baseline=\"central\" text-anchor=\"middle\" font-family=\"monospace\" font-size=\"12\" x=\"160\" y=\"64\">ERR<tspan baseline-shift=\"sub\" font-size=\"10\">X</tspan></text>\n",
       "<text dominant-baseline=\"hanging\" text-anchor=\"middle\" font-family=\"monospace\" font-size=\"10\" stroke=\"red\" x=\"160\" y=\"84\">0.1</text>\n",
       "<rect x=\"208\" y=\"112\" width=\"32\" height=\"32\" stroke=\"black\" fill=\"pink\"/>\n",
       "<text dominant-baseline=\"central\" text-anchor=\"middle\" font-family=\"monospace\" font-size=\"12\" x=\"224\" y=\"128\">ERR<tspan baseline-shift=\"sub\" font-size=\"10\">X</tspan></text>\n",
       "<text dominant-baseline=\"hanging\" text-anchor=\"middle\" font-family=\"monospace\" font-size=\"10\" stroke=\"red\" x=\"224\" y=\"148\">0.1</text>\n",
       "<path d=\"M224,192 L224,256 \" stroke=\"black\"/>\n",
       "<circle cx=\"224\" cy=\"256\" r=\"12\" stroke=\"none\" fill=\"black\"/>\n",
       "<circle cx=\"224\" cy=\"192\" r=\"12\" stroke=\"black\" fill=\"white\"/>\n",
       "<path d=\"M212,192 L236,192 M224,180 L224,204 \" stroke=\"black\"/>\n",
       "<path d=\"M288,128 L288,256 \" stroke=\"black\"/>\n",
       "<circle cx=\"288\" cy=\"256\" r=\"12\" stroke=\"none\" fill=\"black\"/>\n",
       "<circle cx=\"288\" cy=\"128\" r=\"12\" stroke=\"black\" fill=\"white\"/>\n",
       "<path d=\"M276,128 L300,128 M288,116 L288,140 \" stroke=\"black\"/>\n",
       "<path d=\"M352,64 L352,256 \" stroke=\"black\"/>\n",
       "<circle cx=\"352\" cy=\"256\" r=\"12\" stroke=\"none\" fill=\"black\"/>\n",
       "<circle cx=\"352\" cy=\"64\" r=\"12\" stroke=\"black\" fill=\"white\"/>\n",
       "<path d=\"M340,64 L364,64 M352,52 L352,76 \" stroke=\"black\"/>\n",
       "<rect x=\"336\" y=\"304\" width=\"32\" height=\"32\" stroke=\"black\" fill=\"white\"/>\n",
       "<text dominant-baseline=\"central\" text-anchor=\"middle\" font-family=\"monospace\" font-size=\"30\" x=\"352\" y=\"320\">H</text>\n",
       "<rect x=\"336\" y=\"368\" width=\"32\" height=\"32\" stroke=\"black\" fill=\"white\"/>\n",
       "<text dominant-baseline=\"central\" text-anchor=\"middle\" font-family=\"monospace\" font-size=\"30\" x=\"352\" y=\"384\">H</text>\n",
       "<path d=\"M416,64 L416,320 \" stroke=\"black\"/>\n",
       "<circle cx=\"416\" cy=\"320\" r=\"12\" stroke=\"none\" fill=\"black\"/>\n",
       "<circle cx=\"416\" cy=\"64\" r=\"12\" stroke=\"none\" fill=\"black\"/>\n",
       "<path d=\"M480,128 L480,320 \" stroke=\"black\"/>\n",
       "<circle cx=\"480\" cy=\"320\" r=\"12\" stroke=\"none\" fill=\"black\"/>\n",
       "<circle cx=\"480\" cy=\"128\" r=\"12\" stroke=\"none\" fill=\"black\"/>\n",
       "<path d=\"M544,192 L544,320 \" stroke=\"black\"/>\n",
       "<circle cx=\"544\" cy=\"320\" r=\"12\" stroke=\"none\" fill=\"black\"/>\n",
       "<circle cx=\"544\" cy=\"192\" r=\"12\" stroke=\"none\" fill=\"black\"/>\n",
       "<path d=\"M608,256 L608,320 \" stroke=\"black\"/>\n",
       "<circle cx=\"608\" cy=\"320\" r=\"12\" stroke=\"none\" fill=\"black\"/>\n",
       "<circle cx=\"608\" cy=\"256\" r=\"12\" stroke=\"none\" fill=\"black\"/>\n",
       "<path d=\"M672,64 L672,384 \" stroke=\"black\"/>\n",
       "<circle cx=\"672\" cy=\"384\" r=\"12\" stroke=\"none\" fill=\"black\"/>\n",
       "<circle cx=\"672\" cy=\"64\" r=\"12\" stroke=\"black\" fill=\"white\"/>\n",
       "<path d=\"M660,64 L684,64 M672,52 L672,76 \" stroke=\"black\"/>\n",
       "<path d=\"M736,128 L736,384 \" stroke=\"black\"/>\n",
       "<circle cx=\"736\" cy=\"384\" r=\"12\" stroke=\"none\" fill=\"black\"/>\n",
       "<circle cx=\"736\" cy=\"128\" r=\"12\" stroke=\"black\" fill=\"white\"/>\n",
       "<path d=\"M724,128 L748,128 M736,116 L736,140 \" stroke=\"black\"/>\n",
       "<path d=\"M800,192 L800,384 \" stroke=\"black\"/>\n",
       "<circle cx=\"800\" cy=\"384\" r=\"12\" stroke=\"none\" fill=\"black\"/>\n",
       "<circle cx=\"800\" cy=\"192\" r=\"12\" stroke=\"black\" fill=\"white\"/>\n",
       "<path d=\"M788,192 L812,192 M800,180 L800,204 \" stroke=\"black\"/>\n",
       "<path d=\"M864,256 L864,384 \" stroke=\"black\"/>\n",
       "<circle cx=\"864\" cy=\"384\" r=\"12\" stroke=\"none\" fill=\"black\"/>\n",
       "<circle cx=\"864\" cy=\"256\" r=\"12\" stroke=\"black\" fill=\"white\"/>\n",
       "<path d=\"M852,256 L876,256 M864,244 L864,268 \" stroke=\"black\"/>\n",
       "<rect x=\"912\" y=\"304\" width=\"32\" height=\"32\" stroke=\"black\" fill=\"white\"/>\n",
       "<text dominant-baseline=\"central\" text-anchor=\"middle\" font-family=\"monospace\" font-size=\"30\" x=\"928\" y=\"320\">H</text>\n",
       "<rect x=\"912\" y=\"368\" width=\"32\" height=\"32\" stroke=\"black\" fill=\"white\"/>\n",
       "<text dominant-baseline=\"central\" text-anchor=\"middle\" font-family=\"monospace\" font-size=\"30\" x=\"928\" y=\"384\">H</text>\n",
       "<rect x=\"976\" y=\"304\" width=\"32\" height=\"32\" stroke=\"black\" fill=\"black\"/>\n",
       "<text dominant-baseline=\"central\" text-anchor=\"middle\" font-family=\"monospace\" font-size=\"24\" x=\"992\" y=\"320\" fill=\"white\">MR</text>\n",
       "<text text-anchor=\"middle\" font-family=\"monospace\" font-size=\"8\" x=\"992\" y=\"300\">rec[0]</text>\n",
       "<rect x=\"976\" y=\"368\" width=\"32\" height=\"32\" stroke=\"black\" fill=\"black\"/>\n",
       "<text dominant-baseline=\"central\" text-anchor=\"middle\" font-family=\"monospace\" font-size=\"24\" x=\"992\" y=\"384\" fill=\"white\">MR</text>\n",
       "<text text-anchor=\"middle\" font-family=\"monospace\" font-size=\"8\" x=\"992\" y=\"364\">rec[1]</text>\n",
       "</svg>"
      ],
      "text/plain": [
       "<svg viewBox=\"0 0 1056 480\"  version=\"1.1\" xmlns=\"http://www.w3.org/2000/svg\">\n",
       "<g id=\"qubit_lines\">\n",
       "<path id=\"qubit_line:0\" d=\"M64,64 L1024,64 \" stroke=\"black\"/>\n",
       "<text dominant-baseline=\"central\" text-anchor=\"end\" font-family=\"monospace\" font-size=\"12\" x=\"64\" y=\"64\">q0</text>\n",
       "<path id=\"qubit_line:1\" d=\"M64,128 L1024,128 \" stroke=\"black\"/>\n",
       "<text dominant-baseline=\"central\" text-anchor=\"end\" font-family=\"monospace\" font-size=\"12\" x=\"64\" y=\"128\">q1</text>\n",
       "<path id=\"qubit_line:2\" d=\"M64,192 L1024,192 \" stroke=\"black\"/>\n",
       "<text dominant-baseline=\"central\" text-anchor=\"end\" font-family=\"monospace\" font-size=\"12\" x=\"64\" y=\"192\">q2</text>\n",
       "<path id=\"qubit_line:3\" d=\"M64,256 L1024,256 \" stroke=\"black\"/>\n",
       "<text dominant-baseline=\"central\" text-anchor=\"end\" font-family=\"monospace\" font-size=\"12\" x=\"64\" y=\"256\">q3</text>\n",
       "<path id=\"qubit_line:4\" d=\"M64,320 L1024,320 \" stroke=\"black\"/>\n",
       "<text dominant-baseline=\"central\" text-anchor=\"end\" font-family=\"monospace\" font-size=\"12\" x=\"64\" y=\"320\">q4</text>\n",
       "<path id=\"qubit_line:5\" d=\"M64,384 L1024,384 \" stroke=\"black\"/>\n",
       "<text dominant-baseline=\"central\" text-anchor=\"end\" font-family=\"monospace\" font-size=\"12\" x=\"64\" y=\"384\">q5</text>\n",
       "</g>\n",
       "<path d=\"M96,64 L96,192 \" stroke=\"black\"/>\n",
       "<circle cx=\"96\" cy=\"64\" r=\"12\" stroke=\"none\" fill=\"black\"/>\n",
       "<circle cx=\"96\" cy=\"192\" r=\"12\" stroke=\"black\" fill=\"white\"/>\n",
       "<path d=\"M84,192 L108,192 M96,180 L96,204 \" stroke=\"black\"/>\n",
       "<path d=\"M160,128 L160,192 \" stroke=\"black\"/>\n",
       "<circle cx=\"160\" cy=\"128\" r=\"12\" stroke=\"none\" fill=\"black\"/>\n",
       "<circle cx=\"160\" cy=\"192\" r=\"12\" stroke=\"black\" fill=\"white\"/>\n",
       "<path d=\"M148,192 L172,192 M160,180 L160,204 \" stroke=\"black\"/>\n",
       "<rect x=\"144\" y=\"240\" width=\"32\" height=\"32\" stroke=\"black\" fill=\"white\"/>\n",
       "<text dominant-baseline=\"central\" text-anchor=\"middle\" font-family=\"monospace\" font-size=\"30\" x=\"160\" y=\"256\">H</text>\n",
       "<rect x=\"144\" y=\"48\" width=\"32\" height=\"32\" stroke=\"black\" fill=\"pink\"/>\n",
       "<text dominant-baseline=\"central\" text-anchor=\"middle\" font-family=\"monospace\" font-size=\"12\" x=\"160\" y=\"64\">ERR<tspan baseline-shift=\"sub\" font-size=\"10\">X</tspan></text>\n",
       "<text dominant-baseline=\"hanging\" text-anchor=\"middle\" font-family=\"monospace\" font-size=\"10\" stroke=\"red\" x=\"160\" y=\"84\">0.1</text>\n",
       "<rect x=\"208\" y=\"112\" width=\"32\" height=\"32\" stroke=\"black\" fill=\"pink\"/>\n",
       "<text dominant-baseline=\"central\" text-anchor=\"middle\" font-family=\"monospace\" font-size=\"12\" x=\"224\" y=\"128\">ERR<tspan baseline-shift=\"sub\" font-size=\"10\">X</tspan></text>\n",
       "<text dominant-baseline=\"hanging\" text-anchor=\"middle\" font-family=\"monospace\" font-size=\"10\" stroke=\"red\" x=\"224\" y=\"148\">0.1</text>\n",
       "<path d=\"M224,192 L224,256 \" stroke=\"black\"/>\n",
       "<circle cx=\"224\" cy=\"256\" r=\"12\" stroke=\"none\" fill=\"black\"/>\n",
       "<circle cx=\"224\" cy=\"192\" r=\"12\" stroke=\"black\" fill=\"white\"/>\n",
       "<path d=\"M212,192 L236,192 M224,180 L224,204 \" stroke=\"black\"/>\n",
       "<path d=\"M288,128 L288,256 \" stroke=\"black\"/>\n",
       "<circle cx=\"288\" cy=\"256\" r=\"12\" stroke=\"none\" fill=\"black\"/>\n",
       "<circle cx=\"288\" cy=\"128\" r=\"12\" stroke=\"black\" fill=\"white\"/>\n",
       "<path d=\"M276,128 L300,128 M288,116 L288,140 \" stroke=\"black\"/>\n",
       "<path d=\"M352,64 L352,256 \" stroke=\"black\"/>\n",
       "<circle cx=\"352\" cy=\"256\" r=\"12\" stroke=\"none\" fill=\"black\"/>\n",
       "<circle cx=\"352\" cy=\"64\" r=\"12\" stroke=\"black\" fill=\"white\"/>\n",
       "<path d=\"M340,64 L364,64 M352,52 L352,76 \" stroke=\"black\"/>\n",
       "<rect x=\"336\" y=\"304\" width=\"32\" height=\"32\" stroke=\"black\" fill=\"white\"/>\n",
       "<text dominant-baseline=\"central\" text-anchor=\"middle\" font-family=\"monospace\" font-size=\"30\" x=\"352\" y=\"320\">H</text>\n",
       "<rect x=\"336\" y=\"368\" width=\"32\" height=\"32\" stroke=\"black\" fill=\"white\"/>\n",
       "<text dominant-baseline=\"central\" text-anchor=\"middle\" font-family=\"monospace\" font-size=\"30\" x=\"352\" y=\"384\">H</text>\n",
       "<path d=\"M416,64 L416,320 \" stroke=\"black\"/>\n",
       "<circle cx=\"416\" cy=\"320\" r=\"12\" stroke=\"none\" fill=\"black\"/>\n",
       "<circle cx=\"416\" cy=\"64\" r=\"12\" stroke=\"none\" fill=\"black\"/>\n",
       "<path d=\"M480,128 L480,320 \" stroke=\"black\"/>\n",
       "<circle cx=\"480\" cy=\"320\" r=\"12\" stroke=\"none\" fill=\"black\"/>\n",
       "<circle cx=\"480\" cy=\"128\" r=\"12\" stroke=\"none\" fill=\"black\"/>\n",
       "<path d=\"M544,192 L544,320 \" stroke=\"black\"/>\n",
       "<circle cx=\"544\" cy=\"320\" r=\"12\" stroke=\"none\" fill=\"black\"/>\n",
       "<circle cx=\"544\" cy=\"192\" r=\"12\" stroke=\"none\" fill=\"black\"/>\n",
       "<path d=\"M608,256 L608,320 \" stroke=\"black\"/>\n",
       "<circle cx=\"608\" cy=\"320\" r=\"12\" stroke=\"none\" fill=\"black\"/>\n",
       "<circle cx=\"608\" cy=\"256\" r=\"12\" stroke=\"none\" fill=\"black\"/>\n",
       "<path d=\"M672,64 L672,384 \" stroke=\"black\"/>\n",
       "<circle cx=\"672\" cy=\"384\" r=\"12\" stroke=\"none\" fill=\"black\"/>\n",
       "<circle cx=\"672\" cy=\"64\" r=\"12\" stroke=\"black\" fill=\"white\"/>\n",
       "<path d=\"M660,64 L684,64 M672,52 L672,76 \" stroke=\"black\"/>\n",
       "<path d=\"M736,128 L736,384 \" stroke=\"black\"/>\n",
       "<circle cx=\"736\" cy=\"384\" r=\"12\" stroke=\"none\" fill=\"black\"/>\n",
       "<circle cx=\"736\" cy=\"128\" r=\"12\" stroke=\"black\" fill=\"white\"/>\n",
       "<path d=\"M724,128 L748,128 M736,116 L736,140 \" stroke=\"black\"/>\n",
       "<path d=\"M800,192 L800,384 \" stroke=\"black\"/>\n",
       "<circle cx=\"800\" cy=\"384\" r=\"12\" stroke=\"none\" fill=\"black\"/>\n",
       "<circle cx=\"800\" cy=\"192\" r=\"12\" stroke=\"black\" fill=\"white\"/>\n",
       "<path d=\"M788,192 L812,192 M800,180 L800,204 \" stroke=\"black\"/>\n",
       "<path d=\"M864,256 L864,384 \" stroke=\"black\"/>\n",
       "<circle cx=\"864\" cy=\"384\" r=\"12\" stroke=\"none\" fill=\"black\"/>\n",
       "<circle cx=\"864\" cy=\"256\" r=\"12\" stroke=\"black\" fill=\"white\"/>\n",
       "<path d=\"M852,256 L876,256 M864,244 L864,268 \" stroke=\"black\"/>\n",
       "<rect x=\"912\" y=\"304\" width=\"32\" height=\"32\" stroke=\"black\" fill=\"white\"/>\n",
       "<text dominant-baseline=\"central\" text-anchor=\"middle\" font-family=\"monospace\" font-size=\"30\" x=\"928\" y=\"320\">H</text>\n",
       "<rect x=\"912\" y=\"368\" width=\"32\" height=\"32\" stroke=\"black\" fill=\"white\"/>\n",
       "<text dominant-baseline=\"central\" text-anchor=\"middle\" font-family=\"monospace\" font-size=\"30\" x=\"928\" y=\"384\">H</text>\n",
       "<rect x=\"976\" y=\"304\" width=\"32\" height=\"32\" stroke=\"black\" fill=\"black\"/>\n",
       "<text dominant-baseline=\"central\" text-anchor=\"middle\" font-family=\"monospace\" font-size=\"24\" x=\"992\" y=\"320\" fill=\"white\">MR</text>\n",
       "<text text-anchor=\"middle\" font-family=\"monospace\" font-size=\"8\" x=\"992\" y=\"300\">rec[0]</text>\n",
       "<rect x=\"976\" y=\"368\" width=\"32\" height=\"32\" stroke=\"black\" fill=\"black\"/>\n",
       "<text dominant-baseline=\"central\" text-anchor=\"middle\" font-family=\"monospace\" font-size=\"24\" x=\"992\" y=\"384\" fill=\"white\">MR</text>\n",
       "<text text-anchor=\"middle\" font-family=\"monospace\" font-size=\"8\" x=\"992\" y=\"364\">rec[1]</text>\n",
       "</svg>"
      ]
     },
     "execution_count": 10,
     "metadata": {},
     "output_type": "execute_result"
    }
   ],
   "source": [
    "qc_st422.diagram('timeline-svg')"
   ]
  },
  {
   "cell_type": "code",
   "execution_count": 11,
   "id": "7176b95f-1873-4e07-94d1-df9e4ceb9a7c",
   "metadata": {},
   "outputs": [],
   "source": [
    "res = qc_st422.compile_sampler().sample(10)"
   ]
  },
  {
   "cell_type": "code",
   "execution_count": 12,
   "id": "9cb4689d-c0f3-4965-945d-4f3c5b85fbc8",
   "metadata": {},
   "outputs": [
    {
     "data": {
      "text/plain": [
       "array([[False, False],\n",
       "       [ True, False],\n",
       "       [False, False],\n",
       "       [False, False],\n",
       "       [False, False],\n",
       "       [False, False],\n",
       "       [False, False],\n",
       "       [False, False],\n",
       "       [False, False],\n",
       "       [False, False]])"
      ]
     },
     "execution_count": 12,
     "metadata": {},
     "output_type": "execute_result"
    }
   ],
   "source": [
    "res"
   ]
  },
  {
   "cell_type": "code",
   "execution_count": 13,
   "id": "9fd51b98-ada2-44c0-a491-4997fce32c6d",
   "metadata": {},
   "outputs": [
    {
     "data": {
      "image/png": "[encoded data removed]",
      "text/plain": [
       "<Figure size 630.95x284.278 with 1 Axes>"
      ]
     },
     "execution_count": 13,
     "metadata": {},
     "output_type": "execute_result"
    }
   ],
   "source": [
    "circuit = QuantumCircuit.from_qasm_str(c_quasm)\n",
    "circuit.draw('mpl')"
   ]
  },
  {
   "cell_type": "code",
   "execution_count": null,
   "id": "ba4ba681-cbfd-4d83-aca7-381ccd3ef5e9",
   "metadata": {},
   "outputs": [],
   "source": []
  }
 ],
 "metadata": {
  "kernelspec": {
   "display_name": "Python 3 (ipykernel)",
   "language": "python",
   "name": "python3"
  },
  "language_info": {
   "codemirror_mode": {
    "name": "ipython",
    "version": 3
   },
   "file_extension": ".py",
   "mimetype": "text/x-python",
   "name": "python",
   "nbconvert_exporter": "python",
   "pygments_lexer": "ipython3",
   "version": "3.12.4"
  }
 },
 "nbformat": 4,
 "nbformat_minor": 5
}
