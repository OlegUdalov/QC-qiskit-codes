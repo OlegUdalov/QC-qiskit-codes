{
 "cells": [
  {
   "cell_type": "code",
   "execution_count": null,
   "id": "330df6b9-11d0-48a7-be9b-678c756f6880",
   "metadata": {},
   "outputs": [],
   "source": []
  }
 ],
 "metadata": {
  "kernelspec": {
   "display_name": "",
   "name": ""
  },
  "language_info": {
   "name": ""
  }
 },
 "nbformat": 4,
 "nbformat_minor": 5
}
