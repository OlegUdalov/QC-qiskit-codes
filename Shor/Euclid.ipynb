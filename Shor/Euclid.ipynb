{
 "cells": [
  {
   "cell_type": "markdown",
   "id": "d0fd7ed3-4173-4d06-bd56-5d4adc421fc7",
   "metadata": {},
   "source": [
    "# This notebook studies Euclidian algorithm to get greates common divisor (gcd) and also the inverse modulo n\n",
    "\n",
    "See Wikipedia on both of this algorithms"
   ]
  },
  {
   "cell_type": "markdown",
   "id": "9c5caff2-0e59-4132-9dc6-46835b5c5862",
   "metadata": {},
   "source": [
    "## Fnding gcd(a,b)"
   ]
  },
  {
   "cell_type": "code",
   "execution_count": 9,
   "id": "320b70aa-2516-4e6c-8f20-3e105f9bd109",
   "metadata": {},
   "outputs": [
    {
     "name": "stdout",
     "output_type": "stream",
     "text": [
      "1\n"
     ]
    }
   ],
   "source": [
    "import classical_routines as cs\n",
    "\n",
    "\n",
    "\n",
    "found=False\n",
    "a=7\n",
    "b=5\n",
    "\n",
    "print(cs.euclids_GCD(a,b))\n"
   ]
  },
  {
   "cell_type": "markdown",
   "id": "8877aa93-ea98-4bee-b527-dae18d3bc513",
   "metadata": {},
   "source": [
    "## multiplicative inverse modulo n\n",
    "\n",
    "Lets take a pair of numbers a and N such that they do not have gcd>1, so they are coprimes. This can be checked using the previous section method. \n",
    "\n",
    "Then the extended Euclidian algorithm allows to find t and s, so that a * t + N * s = 1.\n",
    "\n",
    "From the equation one can see that a * t = 1 (mod N)\n"
   ]
  },
  {
   "cell_type": "code",
   "execution_count": 1,
   "id": "b8268c0d-44d9-41f6-9019-05948848b68f",
   "metadata": {},
   "outputs": [
    {
     "name": "stdout",
     "output_type": "stream",
     "text": [
      "[0, 2, 7]\n",
      "[15, 7, 1, 0]\n",
      "[1, 0, 1, -7]\n",
      "[0, 1, -2, 15]\n",
      "['We get the equation: 15 * 1 + 7 * 13 = 1']\n",
      "a^(-1) mod N = 13\n"
     ]
    }
   ],
   "source": [
    "import numpy\n",
    "\n",
    "a = 7\n",
    "N = 15\n",
    "\n",
    "\n",
    "r = []\n",
    "s = []\n",
    "t = []\n",
    "q = []\n",
    "\n",
    "if N > a:\n",
    "    r.append(N)\n",
    "    r.append(a)\n",
    "else:\n",
    "    r.append(a)\n",
    "    r.append(N)\n",
    "s.append(1)\n",
    "s.append(0)\n",
    "t.append(0)\n",
    "t.append(1)\n",
    "q.append(0)\n",
    "\n",
    "i = 1\n",
    "while r[i] != 0:\n",
    "    q.append(r[i - 1] // r[i])\n",
    "    r.append(r[i - 1] - q[i] * r[i])\n",
    "    s.append(s[i - 1] - q[i] * s[i])\n",
    "    t.append(t[i - 1] - q[i] * t[i])\n",
    "    i = i + 1\n",
    "\n",
    "print(q)\n",
    "print(r)\n",
    "print(s)\n",
    "print(t)\n",
    "\n",
    "if N > a:\n",
    "    if t[i - 1] < 0:\n",
    "        t[i - 1] = t[i - 1] + N\n",
    "    print(['We get the equation: ' + str(N) + ' * ' + str(s[i-1]) + ' + ' + str(a) + ' * ' + str(t[i-1]) + ' = 1'])\n",
    "    print('a^(-1) mod N = ' + str (t[i-1]))\n",
    "\n",
    "if N < a:\n",
    "    if s[i - 1] < 0:\n",
    "        s[i - 1] = s[i - 1] + N\n",
    "    print(['We get the equation: ' + str(a) + ' * ' + str(s[i-1]) + ' + ' + str(N) + ' * ' + str(t[i-1]) + ' = 1'])\n",
    "    print(str(a) + '^(-1) mod '+ str(N) + ' = ' + str (s[i-1]))\n",
    "\n",
    "\n",
    "    "
   ]
  },
  {
   "cell_type": "code",
   "execution_count": 1,
   "id": "b5986dd6-e3de-41a4-a552-98fd903038b7",
   "metadata": {},
   "outputs": [
    {
     "data": {
      "text/plain": [
       "0"
      ]
     },
     "execution_count": 1,
     "metadata": {},
     "output_type": "execute_result"
    }
   ],
   "source": [
    "import classical_routines as cr\n",
    "a = 2\n",
    "N = 1\n",
    "\n",
    "res = cr.euclids_inverse_mod(a, N)\n",
    "res"
   ]
  },
  {
   "cell_type": "code",
   "execution_count": 2,
   "id": "70b47f9a-6d07-44ff-9b54-fe6cdda5ce9b",
   "metadata": {},
   "outputs": [
    {
     "data": {
      "text/plain": [
       "46"
      ]
     },
     "execution_count": 2,
     "metadata": {},
     "output_type": "execute_result"
    }
   ],
   "source": [
    "test_list = [1, 0, 1, 1, 1, 0]\n",
    " \n",
    "# Calculate the decimal value by summing the product of each bit with its position value\n",
    "# Reversing the list to start at the least significant bit\n",
    "res = sum(x * 2**i for i, x in enumerate(reversed(test_list)))\n",
    "res"
   ]
  },
  {
   "cell_type": "code",
   "execution_count": 3,
   "id": "fd5201e3-a71d-444e-a406-a5f013c01f02",
   "metadata": {},
   "outputs": [
    {
     "data": {
      "text/plain": [
       "46"
      ]
     },
     "execution_count": 3,
     "metadata": {},
     "output_type": "execute_result"
    }
   ],
   "source": [
    "cr.bin_str_2int(test_list)"
   ]
  },
  {
   "cell_type": "code",
   "execution_count": 4,
   "id": "79aeef1d-d4f1-4583-be2a-117a83f19c4d",
   "metadata": {},
   "outputs": [
    {
     "data": {
      "text/plain": [
       "'1'"
      ]
     },
     "execution_count": 4,
     "metadata": {},
     "output_type": "execute_result"
    }
   ],
   "source": [
    "a = (list(bin(6)))\n",
    "num = 1\n",
    "a = '{0:b}'.format(num)\n",
    "\n",
    "a"
   ]
  },
  {
   "cell_type": "code",
   "execution_count": 5,
   "id": "407c686b-a827-4d3c-b88c-45a54ab5a795",
   "metadata": {},
   "outputs": [
    {
     "data": {
      "text/plain": [
       "[0, 1, 0, 1, 1, 1, 1]"
      ]
     },
     "execution_count": 5,
     "metadata": {},
     "output_type": "execute_result"
    }
   ],
   "source": [
    "cr.int_2_bin_str(47,9)"
   ]
  },
  {
   "cell_type": "code",
   "execution_count": null,
   "id": "3f30999a-792c-4709-ac53-3aca7c22c5e5",
   "metadata": {},
   "outputs": [],
   "source": []
  }
 ],
 "metadata": {
  "kernelspec": {
   "display_name": "Python 3 (ipykernel)",
   "language": "python",
   "name": "python3"
  },
  "language_info": {
   "codemirror_mode": {
    "name": "ipython",
    "version": 3
   },
   "file_extension": ".py",
   "mimetype": "text/x-python",
   "name": "python",
   "nbconvert_exporter": "python",
   "pygments_lexer": "ipython3",
   "version": "3.10.2"
  }
 },
 "nbformat": 4,
 "nbformat_minor": 5
}
