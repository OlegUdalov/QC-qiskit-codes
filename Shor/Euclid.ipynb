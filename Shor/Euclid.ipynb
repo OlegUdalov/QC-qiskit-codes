{
 "cells": [
  {
   "cell_type": "code",
   "execution_count": 6,
   "id": "320b70aa-2516-4e6c-8f20-3e105f9bd109",
   "metadata": {},
   "outputs": [
    {
     "name": "stdout",
     "output_type": "stream",
     "text": [
      "1\n"
     ]
    }
   ],
   "source": [
    "import classical_routines as cs\n",
    "\n",
    "\n",
    "\n",
    "found=False\n",
    "a=7\n",
    "b=5\n",
    "\n",
    "print(cs.euclids_GCD(a,b))\n"
   ]
  }
 ],
 "metadata": {
  "kernelspec": {
   "display_name": "Python 3 (ipykernel)",
   "language": "python",
   "name": "python3"
  },
  "language_info": {
   "codemirror_mode": {
    "name": "ipython",
    "version": 3
   },
   "file_extension": ".py",
   "mimetype": "text/x-python",
   "name": "python",
   "nbconvert_exporter": "python",
   "pygments_lexer": "ipython3",
   "version": "3.10.2"
  }
 },
 "nbformat": 4,
 "nbformat_minor": 5
}
