{
 "cells": [
  {
   "cell_type": "markdown",
   "id": "6b9c880c-91b4-4b31-8a68-8cc6837f574e",
   "metadata": {},
   "source": [
    "## This notebook is for studying of the quantum circuit searching for an order of number a modulo N.\n",
    "Order r of a mod N means that a^r=1 (mod N). The residual of a^r/N is 1.\n",
    "\n",
    "This is a quantum part of the Shor algorithm.\n",
    "\n",
    "### the link to the paper where the circuit is described\n",
    "https://arxiv.org/pdf/quant-ph/0205095\n",
    "\n",
    "### The schematic of the period finding circuit\n",
    "![image.png](attachment:af06b81a-e6bf-4812-93f7-df4c3abae785.png)\n"
   ]
  },
  {
   "cell_type": "code",
   "execution_count": null,
   "id": "c5803a61-39a3-49ed-93c2-854f380b898c",
   "metadata": {},
   "outputs": [],
   "source": []
  }
 ],
 "metadata": {
  "kernelspec": {
   "display_name": "Python 3 (ipykernel)",
   "language": "python",
   "name": "python3"
  },
  "language_info": {
   "codemirror_mode": {
    "name": "ipython",
    "version": 3
   },
   "file_extension": ".py",
   "mimetype": "text/x-python",
   "name": "python",
   "nbconvert_exporter": "python",
   "pygments_lexer": "ipython3",
   "version": "3.10.2"
  }
 },
 "nbformat": 4,
 "nbformat_minor": 5
}
