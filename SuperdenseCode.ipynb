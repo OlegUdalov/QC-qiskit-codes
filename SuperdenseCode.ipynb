{
 "cells": [
  {
   "cell_type": "code",
   "execution_count": 2,
   "id": "edb21e0a-9127-44c5-9c5c-65f18a72dbf5",
   "metadata": {},
   "outputs": [
    {
     "ename": "AttributeError",
     "evalue": "module 'qiskit' has no attribute 'ClassicalRegister'",
     "output_type": "error",
     "traceback": [
      "\u001b[1;31m---------------------------------------------------------------------------\u001b[0m",
      "\u001b[1;31mAttributeError\u001b[0m                            Traceback (most recent call last)",
      "Cell \u001b[1;32mIn[2], line 3\u001b[0m\n\u001b[0;32m      1\u001b[0m \u001b[38;5;28;01mimport\u001b[39;00m \u001b[38;5;21;01mqiskit\u001b[39;00m\n\u001b[1;32m----> 3\u001b[0m creg1 \u001b[38;5;241m=\u001b[39m \u001b[43mqiskit\u001b[49m\u001b[38;5;241;43m.\u001b[39;49m\u001b[43mClassicalRegister\u001b[49m(\u001b[38;5;241m1\u001b[39m)\n\u001b[0;32m      4\u001b[0m creg2 \u001b[38;5;241m=\u001b[39m qiskit\u001b[38;5;241m.\u001b[39mClassicalRegister(\u001b[38;5;241m1\u001b[39m)\n\u001b[0;32m      5\u001b[0m creg3 \u001b[38;5;241m=\u001b[39m qiskit\u001b[38;5;241m.\u001b[39mClassicalRegister(\u001b[38;5;241m1\u001b[39m)\n",
      "\u001b[1;31mAttributeError\u001b[0m: module 'qiskit' has no attribute 'ClassicalRegister'"
     ]
    }
   ],
   "source": [
    "import qiskit\n",
    "\n",
    "creg1 = qiskit.ClassicalRegister(1)\n",
    "creg2 = qiskit.ClassicalRegister(1)\n",
    "creg3 = qiskit.ClassicalRegister(1)\n",
    "creg4 = qiskit.ClassicalRegister(1)\n",
    "qubit_pair = qiskit.QuantumRegister(2)\n",
    "circuit = qiskit.QuantumCircuit(qubit_pair,creg1,creg2,creg3,creg4)\n",
    "\n",
    "#circuit.x(qubit_pair[1])\n",
    "#circuit.measure(qubit_pair[1],creg2[0])\n",
    "#circuit.x(qubit_pair[1])\n",
    "#circuit.x(qubit_pair[0])\n",
    "#circuit.measure(qubit_pair[0],creg1[0])\n",
    "#circuit.x(qubit_pair[0])\n",
    "\n",
    "circuit.h(qubit_pair[0])\n",
    "circuit.cx(qubit_pair[0],qubit_pair[1])\n",
    "circuit.x(qubit_pair[0]).c_if(creg2[0],1)\n",
    "circuit.z(qubit_pair[0]).c_if(creg1[0],1)\n",
    "\n",
    "circuit.cx(qubit_pair[0],qubit_pair[1])\n",
    "circuit.h(qubit_pair[0])\n",
    "circuit.measure(qubit_pair[0],creg3[0])\n",
    "circuit.measure(qubit_pair[1],creg4[0])\n",
    "\n",
    "\n",
    "\n",
    "\n",
    "circuit.draw('mpl')"
   ]
  },
  {
   "cell_type": "code",
   "execution_count": 1,
   "id": "d8ea1614-a415-4420-809d-fd9a4068b2d6",
   "metadata": {},
   "outputs": [
    {
     "ename": "ModuleNotFoundError",
     "evalue": "No module named 'qiskit_aer'",
     "output_type": "error",
     "traceback": [
      "\u001b[1;31m---------------------------------------------------------------------------\u001b[0m",
      "\u001b[1;31mModuleNotFoundError\u001b[0m                       Traceback (most recent call last)",
      "Cell \u001b[1;32mIn[1], line 1\u001b[0m\n\u001b[1;32m----> 1\u001b[0m \u001b[38;5;28;01mfrom\u001b[39;00m \u001b[38;5;21;01mqiskit_aer\u001b[39;00m \u001b[38;5;28;01mimport\u001b[39;00m AerSimulator\n\u001b[0;32m      2\u001b[0m \u001b[38;5;28;01mfrom\u001b[39;00m \u001b[38;5;21;01mqiskit\u001b[39;00m \u001b[38;5;28;01mimport\u001b[39;00m QuantumCircuit, transpile\n\u001b[0;32m      3\u001b[0m \u001b[38;5;28;01mfrom\u001b[39;00m \u001b[38;5;21;01mqiskit\u001b[39;00m\u001b[38;5;21;01m.\u001b[39;00m\u001b[38;5;21;01mvisualization\u001b[39;00m \u001b[38;5;28;01mimport\u001b[39;00m plot_histogram, plot_state_city\n",
      "\u001b[1;31mModuleNotFoundError\u001b[0m: No module named 'qiskit_aer'"
     ]
    }
   ],
   "source": [
    "from qiskit_aer import AerSimulator\n",
    "from qiskit import QuantumCircuit, transpile\n",
    "from qiskit.visualization import plot_histogram, plot_state_city\n",
    "simulator = AerSimulator()\n",
    "circ = transpile(circuit, simulator)\n",
    "result = simulator.run(circuit).result()\n",
    "counts = result.get_counts(circuit)\n",
    "plot_histogram(counts, title='results')"
   ]
  },
  {
   "cell_type": "code",
   "execution_count": null,
   "id": "e5f40179-d5aa-4288-bb48-85b85a3a26ba",
   "metadata": {},
   "outputs": [],
   "source": []
  }
 ],
 "metadata": {
  "kernelspec": {
   "display_name": "Python 3 (ipykernel)",
   "language": "python",
   "name": "python3"
  },
  "language_info": {
   "codemirror_mode": {
    "name": "ipython",
    "version": 3
   },
   "file_extension": ".py",
   "mimetype": "text/x-python",
   "name": "python",
   "nbconvert_exporter": "python",
   "pygments_lexer": "ipython3",
   "version": "3.10.2"
  }
 },
 "nbformat": 4,
 "nbformat_minor": 5
}
