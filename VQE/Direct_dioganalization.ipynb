{
 "cells": [
  {
   "cell_type": "markdown",
   "id": "b93d50cd-f42a-4352-8e89-52819e1cf184",
   "metadata": {},
   "source": [
    "# Direct diagonalization of tight-binding sd-model with on-site Coulomb repulsion."
   ]
  },
  {
   "cell_type": "code",
   "execution_count": 2,
   "id": "e5fb0924-5cbf-4fe0-b7a9-72a544ccf920",
   "metadata": {},
   "outputs": [],
   "source": [
    "#math modules\n",
    "import math\n",
    "import numpy as np\n",
    "\n",
    "import time"
   ]
  },
  {
   "cell_type": "code",
   "execution_count": 3,
   "id": "ffe6a447-4dfb-43d2-9f21-b24eba699eb6",
   "metadata": {},
   "outputs": [],
   "source": [
    "# Kinetic energy\n",
    "n_site = 2\n",
    "n_states = math.pow(2, n_site)\n",
    "\n"
   ]
  },
  {
   "cell_type": "code",
   "execution_count": 4,
   "id": "c2f34014-ee27-47ae-84d1-18703c93f3bd",
   "metadata": {},
   "outputs": [],
   "source": [
    "# s site system, 2 electrons, NO periodic boundary conditions\n",
    "from numpy import linalg as LA\n",
    "U_c = 10\n",
    "t = -1\n",
    "ham = [[-U_c, t, t, 0], [t, U_c, 0, t], [t, 0, U_c, t], [0, t, t, -U_c]]\n",
    "eigenvalues, eigenvectors = LA.eig(np.array(ham))\n",
    "\n",
    "#eigen-vectors are columns (not rows)"
   ]
  },
  {
   "cell_type": "code",
   "execution_count": 5,
   "id": "60a7b56c-527f-4eef-9897-66a605708eb5",
   "metadata": {},
   "outputs": [
    {
     "data": {
      "text/plain": [
       "array([-10.19803903, -10.        ,  10.19803903,  10.        ])"
      ]
     },
     "execution_count": 5,
     "metadata": {},
     "output_type": "execute_result"
    }
   ],
   "source": [
    "eigenvalues"
   ]
  },
  {
   "cell_type": "code",
   "execution_count": 6,
   "id": "12034f03-6552-4f8d-9257-23031cc06447",
   "metadata": {},
   "outputs": [
    {
     "data": {
      "text/plain": [
       "10.198039027185569"
      ]
     },
     "execution_count": 6,
     "metadata": {},
     "output_type": "execute_result"
    }
   ],
   "source": [
    "math.sqrt(U_c * U_c + 4 * t * t)"
   ]
  },
  {
   "cell_type": "code",
   "execution_count": 7,
   "id": "8f8737bc-ed09-4501-92b7-68dc1a3cd91c",
   "metadata": {},
   "outputs": [
    {
     "data": {
      "text/plain": [
       "array([[-7.03665523e-01, -7.07106781e-01, -6.96766179e-02,\n",
       "         8.98491639e-16],\n",
       "       [-6.96766179e-02,  5.34087030e-16,  7.03665523e-01,\n",
       "        -7.07106781e-01],\n",
       "       [-6.96766179e-02,  7.53649044e-16,  7.03665523e-01,\n",
       "         7.07106781e-01],\n",
       "       [-7.03665523e-01,  7.07106781e-01, -6.96766179e-02,\n",
       "         9.42900560e-16]])"
      ]
     },
     "execution_count": 7,
     "metadata": {},
     "output_type": "execute_result"
    }
   ],
   "source": [
    "eigenvectors"
   ]
  },
  {
   "cell_type": "code",
   "execution_count": 66,
   "id": "9fdb1b43-d462-45db-b185-418f6aa329ec",
   "metadata": {},
   "outputs": [],
   "source": [
    "import itertools\n"
   ]
  },
  {
   "cell_type": "code",
   "execution_count": 9,
   "id": "6a11e80b-9698-437f-a2f4-35b98996edd0",
   "metadata": {},
   "outputs": [],
   "source": [
    "aa=list(itertools.combinations('0123', 3))"
   ]
  },
  {
   "cell_type": "code",
   "execution_count": 10,
   "id": "514ac621-2784-4051-82fd-707dfae7cc1e",
   "metadata": {},
   "outputs": [
    {
     "data": {
      "text/plain": [
       "[('0', '1', '2'), ('0', '1', '3'), ('0', '2', '3'), ('1', '2', '3')]"
      ]
     },
     "execution_count": 10,
     "metadata": {},
     "output_type": "execute_result"
    }
   ],
   "source": [
    "aa"
   ]
  },
  {
   "cell_type": "code",
   "execution_count": 11,
   "id": "7ed3b29d-879f-4e99-9ae6-59bdc1d7045a",
   "metadata": {},
   "outputs": [
    {
     "data": {
      "text/plain": [
       "4"
      ]
     },
     "execution_count": 11,
     "metadata": {},
     "output_type": "execute_result"
    }
   ],
   "source": [
    "len(aa)"
   ]
  },
  {
   "cell_type": "code",
   "execution_count": 70,
   "id": "1521a9a0-cc57-4a52-8c6a-78e39781e9cb",
   "metadata": {},
   "outputs": [],
   "source": [
    "def convert_to_spin(list_of_comb, n_nodes, n_el):\n",
    "    list_f = []\n",
    "    for i in range(len(aa)):\n",
    "        state = ''\n",
    "        for j in range(n_el):\n",
    "            nn = int(list_of_comb[i][j])\n",
    "            \n",
    "            if nn >= n_nodes:\n",
    "                nn_1 = nn - n_nodes\n",
    "                state = state + str(nn_1)\n",
    "                state = state + 'd_'\n",
    "            else:\n",
    "                state = state + str(nn)\n",
    "                state = state + 'u_'\n",
    "        list_f.append(state)\n",
    "    return list_f\n"
   ]
  },
  {
   "cell_type": "code",
   "execution_count": 71,
   "id": "4e40b5eb-8054-4007-bddd-98917fb4cef9",
   "metadata": {},
   "outputs": [],
   "source": [
    "zz = convert_to_spin(aa, 3, 3)"
   ]
  },
  {
   "cell_type": "code",
   "execution_count": 72,
   "id": "c96fa977-2574-48b9-bcbf-5c7c1f1a052e",
   "metadata": {},
   "outputs": [
    {
     "data": {
      "text/plain": [
       "['0u_1u_2u_',\n",
       " '0u_1u_0d_',\n",
       " '0u_1u_1d_',\n",
       " '0u_1u_2d_',\n",
       " '0u_2u_0d_',\n",
       " '0u_2u_1d_',\n",
       " '0u_2u_2d_',\n",
       " '0u_0d_1d_',\n",
       " '0u_0d_2d_',\n",
       " '0u_1d_2d_',\n",
       " '1u_2u_0d_',\n",
       " '1u_2u_1d_',\n",
       " '1u_2u_2d_',\n",
       " '1u_0d_1d_',\n",
       " '1u_0d_2d_',\n",
       " '1u_1d_2d_',\n",
       " '2u_0d_1d_',\n",
       " '2u_0d_2d_',\n",
       " '2u_1d_2d_',\n",
       " '0d_1d_2d_']"
      ]
     },
     "execution_count": 72,
     "metadata": {},
     "output_type": "execute_result"
    }
   ],
   "source": [
    "zz"
   ]
  },
  {
   "cell_type": "code",
   "execution_count": 73,
   "id": "b803bfd1-af80-42ad-9ca7-b4842d39edef",
   "metadata": {},
   "outputs": [],
   "source": [
    "def kinetic_matrix_element(state_1, state_2, n_el, n_nodes, t):\n",
    "    jumps = 0\n",
    "    for i in range(n_el):\n",
    "        n_1 = int(state_1[i])\n",
    "        n_2 = int(state_2[i])\n",
    "        if n_1 == n_2:\n",
    "            jumps = jumps\n",
    "        elif n_1 == 0 and n_2 == n_nodes - 1:\n",
    "            jumps = jumps + 1\n",
    "        elif n_1 == n_nodes - 1 and n_2 == 0:\n",
    "            jumps = jumps + 1\n",
    "        elif n_1 == n_nodes and n_2 == 2 * n_nodes - 1:\n",
    "            jumps = jumps + 1\n",
    "        elif n_1 == 2 * n_nodes - 1 and n_2 == n_nodes:\n",
    "            jumps = jumps + 1    \n",
    "        elif (n_1 == n_2 + 1 and n_1 != n_nodes) or (n_1 == n_2 - 1 and n_1 != n_nodes - 1):\n",
    "            jumps = jumps + 1\n",
    "        else:\n",
    "            jumps = jumps + 2\n",
    "    me = 0\n",
    "    if jumps == 1:\n",
    "        me = t\n",
    "    return me\n",
    "           "
   ]
  },
  {
   "cell_type": "code",
   "execution_count": 74,
   "id": "358c94fe-7710-4f3a-b47b-157d40389a03",
   "metadata": {},
   "outputs": [
    {
     "data": {
      "text/plain": [
       "[('0', '1', '2'),\n",
       " ('0', '1', '3'),\n",
       " ('0', '1', '4'),\n",
       " ('0', '1', '5'),\n",
       " ('0', '2', '3'),\n",
       " ('0', '2', '4'),\n",
       " ('0', '2', '5'),\n",
       " ('0', '3', '4'),\n",
       " ('0', '3', '5'),\n",
       " ('0', '4', '5'),\n",
       " ('1', '2', '3'),\n",
       " ('1', '2', '4'),\n",
       " ('1', '2', '5'),\n",
       " ('1', '3', '4'),\n",
       " ('1', '3', '5'),\n",
       " ('1', '4', '5'),\n",
       " ('2', '3', '4'),\n",
       " ('2', '3', '5'),\n",
       " ('2', '4', '5'),\n",
       " ('3', '4', '5')]"
      ]
     },
     "execution_count": 74,
     "metadata": {},
     "output_type": "execute_result"
    }
   ],
   "source": [
    "aa"
   ]
  },
  {
   "cell_type": "code",
   "execution_count": 75,
   "id": "f4a5b6d6-dc40-41f2-89cf-db303afdbc60",
   "metadata": {},
   "outputs": [
    {
     "data": {
      "text/plain": [
       "['0u_1u_',\n",
       " '0u_1u_',\n",
       " '0u_1u_',\n",
       " '0u_1u_',\n",
       " '0u_0d_',\n",
       " '0u_0d_',\n",
       " '0u_0d_',\n",
       " '0u_1d_',\n",
       " '0u_1d_',\n",
       " '0u_2d_',\n",
       " '1u_0d_',\n",
       " '1u_0d_',\n",
       " '1u_0d_',\n",
       " '1u_1d_',\n",
       " '1u_1d_',\n",
       " '1u_2d_',\n",
       " '0d_1d_',\n",
       " '0d_1d_',\n",
       " '0d_2d_',\n",
       " '1d_2d_']"
      ]
     },
     "execution_count": 75,
     "metadata": {},
     "output_type": "execute_result"
    }
   ],
   "source": [
    "convert_to_spin(aa, 2, 2)"
   ]
  },
  {
   "cell_type": "code",
   "execution_count": 76,
   "id": "558ee24d-04f6-4118-bae4-0f523a6e0824",
   "metadata": {},
   "outputs": [
    {
     "data": {
      "text/plain": [
       "0"
      ]
     },
     "execution_count": 76,
     "metadata": {},
     "output_type": "execute_result"
    }
   ],
   "source": [
    "kinetic_matrix_element(aa[0], aa[3], 2, 2, 1)"
   ]
  },
  {
   "cell_type": "code",
   "execution_count": 77,
   "id": "929bdbc1-294b-47b5-9546-5c5eec553a40",
   "metadata": {},
   "outputs": [],
   "source": [
    "def Coulomb_matrix_element(state_1, state_2, n_el, n_nodes, U_c):\n",
    "    me = 0\n",
    "    if state_1 == state_2:\n",
    "        st = [-1 ] * n_nodes * 2\n",
    "        for i in range(n_el):\n",
    "            st[int(state_1[i])] = 1\n",
    "        #print(st)\n",
    "        for i in range(n_nodes):\n",
    "            me = me + U_c / 2 * st[i] * st[i + n_nodes]\n",
    "    else:\n",
    "        me = 0\n",
    "    return me"
   ]
  },
  {
   "cell_type": "code",
   "execution_count": 78,
   "id": "631e9d60-2554-4b1a-b7d4-f6b0a71145ba",
   "metadata": {},
   "outputs": [
    {
     "data": {
      "text/plain": [
       "-1.0"
      ]
     },
     "execution_count": 78,
     "metadata": {},
     "output_type": "execute_result"
    }
   ],
   "source": [
    "Coulomb_matrix_element(aa[1], aa[1], 2, 2, 1)"
   ]
  },
  {
   "cell_type": "code",
   "execution_count": 79,
   "id": "0884d446-32e9-4d7a-a8c9-7ab8f7740d0b",
   "metadata": {},
   "outputs": [],
   "source": [
    "def kin_en_matr(states, n_el, n_nodes, t):\n",
    "    \n",
    "    m_size = len(states)\n",
    "    k_m = np.zeros((m_size, m_size))\n",
    "    for i in range(m_size):\n",
    "        for j in range (m_size):\n",
    "            k_m[i][j] = kinetic_matrix_element(states[i], states[j], n_el, n_nodes, t)\n",
    "    return k_m\n",
    "\n",
    "def Coul_en_matr(states, n_el, n_nodes, t):\n",
    "    m_size = len(states)\n",
    "    k_m = np.zeros((m_size, m_size))\n",
    "    for i in range(m_size):\n",
    "        for j in range (m_size):\n",
    "            k_m[i][j] = Coulomb_matrix_element(states[i], states[j], n_el, n_nodes, t)\n",
    "    return k_m\n",
    "\n",
    "def ham_tot(states, n_el, n_nodes, t, U_c):\n",
    "    return kin_en_matr(states, n_el, n_nodes, t) + Coul_en_matr(states, n_el, n_nodes, U_c)"
   ]
  },
  {
   "cell_type": "code",
   "execution_count": 80,
   "id": "9311c5f6-d251-42a8-9f5e-1d20d701c62e",
   "metadata": {},
   "outputs": [],
   "source": [
    "#mm = kin_en_matr(aa, 3, 2, 2) + Coul_en_matr(aa, 3, 2, 3)\n",
    "#mm"
   ]
  },
  {
   "cell_type": "code",
   "execution_count": 101,
   "id": "eb3a7083-61fc-4b8e-9356-a100659cca58",
   "metadata": {},
   "outputs": [
    {
     "name": "stdout",
     "output_type": "stream",
     "text": [
      "012345\n",
      "[('0', '1', '2'), ('0', '1', '3'), ('0', '1', '4'), ('0', '1', '5'), ('0', '2', '3'), ('0', '2', '4'), ('0', '2', '5'), ('0', '3', '4'), ('0', '3', '5'), ('0', '4', '5'), ('1', '2', '3'), ('1', '2', '4'), ('1', '2', '5'), ('1', '3', '4'), ('1', '3', '5'), ('1', '4', '5'), ('2', '3', '4'), ('2', '3', '5'), ('2', '4', '5'), ('3', '4', '5')]\n"
     ]
    }
   ],
   "source": [
    "n_el = 3\n",
    "n_nodes = 3\n",
    "t = 1\n",
    "U_c = 10\n",
    "ll = ''\n",
    "for i in range(n_nodes * 2):\n",
    "    ll = ll + str(i)\n",
    "print(ll)\n",
    "aa=list(itertools.combinations(ll, n_el))\n",
    "print(aa)\n",
    "ham = kin_en_matr(aa, n_el, n_nodes, t)\n",
    "ham = ham_tot(aa, n_el, n_nodes, t, U_c)\n",
    "#print(ham)"
   ]
  },
  {
   "cell_type": "code",
   "execution_count": 102,
   "id": "bec37cd1-8f01-4e56-a07a-cb1e9bbd8a1b",
   "metadata": {},
   "outputs": [],
   "source": [
    "eigenvalues, eigenvectors = LA.eig(np.array(ham))"
   ]
  },
  {
   "cell_type": "code",
   "execution_count": 103,
   "id": "b15a9c76-8c1d-4bdd-9a57-ae3c00c3a67b",
   "metadata": {},
   "outputs": [
    {
     "data": {
      "text/plain": [
       "array([-15.29804431, -15.15197065, -15.03239883, -15.03239883,\n",
       "       -15.29804431, -15.15197065,   7.03421699,   3.24974308,\n",
       "         7.03421699,   3.24974308,   3.83981033,   3.83981033,\n",
       "         6.296002  ,   4.60622557,   4.60622557,   5.45641582,\n",
       "         5.45641582,   6.296002  , -15.        , -15.        ])"
      ]
     },
     "execution_count": 103,
     "metadata": {},
     "output_type": "execute_result"
    }
   ],
   "source": [
    "eigenvalues"
   ]
  },
  {
   "cell_type": "code",
   "execution_count": 104,
   "id": "868c449a-678f-4858-a251-e53221ffa4a7",
   "metadata": {},
   "outputs": [
    {
     "data": {
      "text/plain": [
       "array([ 0.00000000e+00, -3.54667858e-17, -5.64075229e-16,  1.49416864e-15,\n",
       "       -5.11058865e-16,  9.22198218e-15, -4.95617337e-16,  1.60216761e-02,\n",
       "        5.62428036e-02, -4.40465146e-01,  1.12791534e-15, -5.10578935e-16,\n",
       "       -4.63030137e-18,  5.90136520e-02, -7.73418252e-01,  5.90136520e-02,\n",
       "       -4.40465146e-01,  5.62428036e-02,  1.60216761e-02,  0.00000000e+00])"
      ]
     },
     "execution_count": 104,
     "metadata": {},
     "output_type": "execute_result"
    }
   ],
   "source": [
    "eig = np.transpose(eigenvectors)\n",
    "eig[0]"
   ]
  },
  {
   "cell_type": "code",
   "execution_count": 107,
   "id": "b32dc476-f2e9-46ad-a088-98a7e3e8be9e",
   "metadata": {},
   "outputs": [
    {
     "data": {
      "text/plain": [
       "'0.06 * 0u_0d_2d_ + -0.44 * 0u_1d_2d_ + 0.06 * 1u_0d_1d_ + -0.77 * 1u_0d_2d_ + 0.06 * 1u_1d_2d_ + -0.44 * 2u_0d_1d_ + 0.06 * 2u_0d_2d_ + '"
      ]
     },
     "execution_count": 107,
     "metadata": {},
     "output_type": "execute_result"
    }
   ],
   "source": [
    "def show_state(states, state):\n",
    "    state_str = ''\n",
    "    ll = len(state)\n",
    "    for i in range(ll):\n",
    "        if abs(state[i]) > 1/ll:\n",
    "            #ss = convert_to_spin(states[i], n_nodes, n_el)\n",
    "            #{price:.2f}\n",
    "            sss = f\"{state[i]:.2f}\"\n",
    "            state_str = state_str + sss + ' * ' + states[i] + ' + '\n",
    "    return state_str\n",
    "show_state(convert_to_spin(aa, n_nodes, n_el), eig[0])\n",
    "    "
   ]
  },
  {
   "cell_type": "code",
   "execution_count": null,
   "id": "f9fa9cf9-81cb-49bf-b03c-086f8c9e5c30",
   "metadata": {},
   "outputs": [],
   "source": []
  }
 ],
 "metadata": {
  "kernelspec": {
   "display_name": "Python 3 (ipykernel)",
   "language": "python",
   "name": "python3"
  },
  "language_info": {
   "codemirror_mode": {
    "name": "ipython",
    "version": 3
   },
   "file_extension": ".py",
   "mimetype": "text/x-python",
   "name": "python",
   "nbconvert_exporter": "python",
   "pygments_lexer": "ipython3",
   "version": "3.10.2"
  }
 },
 "nbformat": 4,
 "nbformat_minor": 5
}
