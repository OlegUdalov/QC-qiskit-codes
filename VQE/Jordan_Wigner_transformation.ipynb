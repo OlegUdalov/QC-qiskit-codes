{
 "cells": [
  {
   "cell_type": "code",
   "execution_count": null,
   "id": "f2fbaca1-bf37-4530-8cf2-d24c6a00d0ba",
   "metadata": {},
   "outputs": [],
   "source": [
    "# Trying to understand what is the role of commutation properties"
   ]
  },
  {
   "cell_type": "code",
   "execution_count": 4,
   "id": "2ac146d3-cd70-497c-bc7a-bba89e6a1ec7",
   "metadata": {},
   "outputs": [
    {
     "data": {
      "text/plain": [
       "[0, 1, 1, 0]"
      ]
     },
     "execution_count": 4,
     "metadata": {},
     "output_type": "execute_result"
    }
   ],
   "source": [
    "def transition(state, i, j):\n",
    "    #print(state)\n",
    "    new_state = []\n",
    "    new_state[:] = state[:]\n",
    "    if state[i] == 1 and state[j] == 0:\n",
    "        new_state[i] = 0\n",
    "        new_state[j] = 1\n",
    "        return new_state\n",
    "    if (state[i] == 1 and state[j] == 1) or (state[i] == 0 and state[j] == 1) or (state[i] == 0 and state[j] == 0):\n",
    "        return -1\n",
    "state = [1, 1, 0, 0]\n",
    "new_state = transition(state, 0, 2)\n",
    "new_state"
   ]
  },
  {
   "cell_type": "code",
   "execution_count": 65,
   "id": "6e8b2447-b1b4-4710-b464-cffb914a7117",
   "metadata": {},
   "outputs": [],
   "source": [
    "n_nodes = 12\n",
    "n_p = 5\n",
    "states = []\n",
    "ss = []\n",
    "for i in range(n_p):\n",
    "    ss.append(1)\n",
    "for i in range(n_p, n_nodes):\n",
    "    ss.append(0)\n",
    "states.append(ss)\n",
    "for i in range(n_nodes - 1 - 6):\n",
    "    for j in range(i + 1, n_nodes):\n",
    "        num_st = len(states)\n",
    "        #print(num_st)\n",
    "        for i_s in range(num_st):\n",
    "            ss_curr = states[i_s]\n",
    "            #print(ss_curr)\n",
    "            ss_new = transition(ss_curr, i, j)\n",
    "            if ss_new != -1:\n",
    "                states.append(ss_new)\n",
    "            #print(ss_new)"
   ]
  },
  {
   "cell_type": "code",
   "execution_count": 66,
   "id": "5cca5711-a5df-456c-b90a-de117cacc341",
   "metadata": {},
   "outputs": [
    {
     "name": "stdout",
     "output_type": "stream",
     "text": [
      "792\n",
      "792.0\n",
      "9276\n"
     ]
    }
   ],
   "source": [
    "#states\n",
    "res = []\n",
    "for val in states:\n",
    "    if val not in res:\n",
    "        res.append(val)\n",
    "\n",
    "print(len(res))\n",
    "comb_num = 1\n",
    "for i in range(n_p):\n",
    "    comb_num = comb_num * (n_nodes - i) / (n_p - i)\n",
    "print(comb_num)\n",
    "print(len(states))"
   ]
  },
  {
   "cell_type": "code",
   "execution_count": 9,
   "id": "2c4d0e95-e023-4e93-8ee8-0d6263f60710",
   "metadata": {},
   "outputs": [
    {
     "name": "stdout",
     "output_type": "stream",
     "text": [
      "64\n"
     ]
    }
   ],
   "source": [
    "print(len(states))"
   ]
  },
  {
   "cell_type": "code",
   "execution_count": 1,
   "id": "233b06f6-aa83-4905-ac1e-22c72145fbc1",
   "metadata": {},
   "outputs": [],
   "source": [
    "def printCombination(arr, n, r):\n",
    "    \n",
    "    # A temporary array to \n",
    "    # store all combination\n",
    "    # one by one\n",
    "    data = [0]*r;\n",
    "\n",
    "    # Print all combination \n",
    "    # using temporary array 'data[]'\n",
    "    combinationUtil(arr, data, 0, \n",
    "                    n - 1, 0, r);\n",
    "\n",
    "def combinationUtil(arr, data, start, \n",
    "                    end, index, r):\n",
    "                        \n",
    "    # Current combination is ready \n",
    "    # to be printed, print it\n",
    "    if (index == r):\n",
    "        for j in range(r):\n",
    "            print(data[j], end = \" \");\n",
    "        print();\n",
    "        return;\n",
    "\n",
    "    # replace index with all\n",
    "    # possible elements. The\n",
    "    # condition \"end-i+1 >= \n",
    "    # r-index\" makes sure that \n",
    "    # including one element at\n",
    "    # index will make a combination \n",
    "    # with remaining elements at \n",
    "    # remaining positions\n",
    "    i = start; \n",
    "    while(i <= end and end - i + 1 >= r - index):\n",
    "        data[index] = arr[i];\n",
    "        combinationUtil(arr, data, i + 1, \n",
    "                        end, index + 1, r);\n",
    "        i += 1;"
   ]
  },
  {
   "cell_type": "code",
   "execution_count": 3,
   "id": "76e3a1ad-4b99-4813-9eea-e4c738087ddb",
   "metadata": {},
   "outputs": [
    {
     "name": "stdout",
     "output_type": "stream",
     "text": [
      "1 2 3 \n",
      "1 2 4 \n",
      "1 2 5 \n",
      "1 2 6 \n",
      "1 3 4 \n",
      "1 3 5 \n",
      "1 3 6 \n",
      "1 4 5 \n",
      "1 4 6 \n",
      "1 5 6 \n",
      "2 3 4 \n",
      "2 3 5 \n",
      "2 3 6 \n",
      "2 4 5 \n",
      "2 4 6 \n",
      "2 5 6 \n",
      "3 4 5 \n",
      "3 4 6 \n",
      "3 5 6 \n",
      "4 5 6 \n"
     ]
    }
   ],
   "source": [
    "arr = [1, 2, 3, 4, 5, 6];\n",
    "r = 3;\n",
    "n = len(arr);\n",
    "printCombination(arr, n, r);"
   ]
  },
  {
   "cell_type": "code",
   "execution_count": null,
   "id": "b5e0e042-123c-4948-ae12-d1c807f705c2",
   "metadata": {},
   "outputs": [],
   "source": []
  }
 ],
 "metadata": {
  "kernelspec": {
   "display_name": "Python 3 (ipykernel)",
   "language": "python",
   "name": "python3"
  },
  "language_info": {
   "codemirror_mode": {
    "name": "ipython",
    "version": 3
   },
   "file_extension": ".py",
   "mimetype": "text/x-python",
   "name": "python",
   "nbconvert_exporter": "python",
   "pygments_lexer": "ipython3",
   "version": "3.10.2"
  }
 },
 "nbformat": 4,
 "nbformat_minor": 5
}
