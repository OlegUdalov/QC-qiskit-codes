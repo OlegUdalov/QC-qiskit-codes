{
 "cells": [
  {
   "cell_type": "markdown",
   "id": "a4225d6b-9f03-464e-9454-efadb4f077c3",
   "metadata": {},
   "source": [
    "# spinfull ferions within s-d model"
   ]
  },
  {
   "cell_type": "code",
   "execution_count": 1,
   "id": "ddaca7c3-a51b-468b-8859-9c53c472b877",
   "metadata": {},
   "outputs": [],
   "source": [
    "#Qiskit modules\n",
    "import qiskit\n",
    "from qiskit import QuantumRegister as Q_R\n",
    "from qiskit import ClassicalRegister as C_R\n",
    "from qiskit_aer import Aer\n",
    "from qiskit import QuantumCircuit, transpile\n",
    "from qiskit_aer import AerSimulator\n",
    "from qiskit_ibm_runtime import EstimatorV2 as Estimator\n",
    "from qiskit.primitives import StatevectorSampler, StatevectorEstimator\n",
    "from qiskit.quantum_info import SparsePauliOp\n",
    "\n",
    "#math modules\n",
    "import math\n",
    "# SciPy minimizer routine\n",
    "from scipy.optimize import minimize"
   ]
  },
  {
   "cell_type": "markdown",
   "id": "05a83138-cd6f-457a-8b0a-e44749549ac6",
   "metadata": {},
   "source": [
    "## Here are the functions performing Jordan-Wigner transformation for fermionc Pauli operators\n",
    "\n",
    "Important notes:\n",
    "\n",
    "1) This is spin-depenedent version, so each node has spin-coordinate and is described by 2 qubits.\n",
    "\n",
    "   Spin-up state for node i is described by qubit i.\n",
    "\n",
    "   Spin-down state for node i is described by qubit i + N, where N is the nodes number.\n",
    "\n"
   ]
  },
  {
   "cell_type": "code",
   "execution_count": 2,
   "id": "7f57234b-5718-4747-bf51-68f75fdb9e66",
   "metadata": {},
   "outputs": [
    {
     "name": "stdout",
     "output_type": "stream",
     "text": [
      "SparsePauliOp(['IIIIIIZI', 'IIZIIIII'],\n",
      "              coeffs=[-0.5+0.j,  0.5+0.j])\n"
     ]
    }
   ],
   "source": [
    "nodes_number = 2\n",
    "\n",
    "def sigma_x(node, nodes_number):\n",
    "    if node > nodes_number - 1:\n",
    "        print('Error: node index (''node'') cannot be higher than the total number of nodes')\n",
    "        return -1\n",
    "    interaction_string_1 = ''\n",
    "    #term one\n",
    "    if node > 0:\n",
    "        for i in range(0, node):\n",
    "            interaction_string_1 = interaction_string_1 + 'I'\n",
    "    interaction_string_1 = interaction_string_1 + 'X'\n",
    "    for i in range(node + 1, node + nodes_number):\n",
    "        interaction_string_1 = interaction_string_1 + 'Z'\n",
    "    interaction_string_1 = interaction_string_1 + 'Y'\n",
    "    for i in range(node + nodes_number + 1, nodes_number * 2):\n",
    "        interaction_string_1 = interaction_string_1 + 'I'\n",
    "    #term two\n",
    "    interaction_string_2 = ''\n",
    "    if node > 0:\n",
    "        for i in range(0, node):\n",
    "            interaction_string_2 = interaction_string_2 + 'I'\n",
    "    interaction_string_2 = interaction_string_2 + 'Y'\n",
    "    for i in range(node + 1, node + nodes_number):\n",
    "        interaction_string_2 = interaction_string_2 + 'Z'\n",
    "    interaction_string_2 = interaction_string_2 + 'X'\n",
    "    for i in range(node + nodes_number + 1, nodes_number * 2):\n",
    "        interaction_string_2 = interaction_string_2 + 'I'\n",
    "    bits = range(nodes_number * 2)\n",
    "    interactions = [(interaction_string_1, bits, 1j/2)]\n",
    "    interactions.append((interaction_string_2, bits, 1j/2))\n",
    "    hamiltonian = SparsePauliOp.from_sparse_list(interactions, num_qubits = 2 * nodes_number)\n",
    "    return hamiltonian\n",
    "\n",
    "def sigma_y(node, nodes_number):\n",
    "    if node > nodes_number - 1:\n",
    "        print('Error: node index (''node'') cannot be higher than the total number of nodes')\n",
    "        return -1\n",
    "    interaction_string_1 = ''\n",
    "    #term one\n",
    "    if node > 0:\n",
    "        for i in range(0, node):\n",
    "            interaction_string_1 = interaction_string_1 + 'I'\n",
    "    interaction_string_1 = interaction_string_1 + 'X'\n",
    "    for i in range(node + 1, node + nodes_number):\n",
    "        interaction_string_1 = interaction_string_1 + 'Z'\n",
    "    interaction_string_1 = interaction_string_1 + 'X'\n",
    "    for i in range(node + nodes_number + 1, nodes_number * 2):\n",
    "        interaction_string_1 = interaction_string_1 + 'I'\n",
    "    #term two\n",
    "    interaction_string_2 = ''\n",
    "    if node > 0:\n",
    "        for i in range(0, node):\n",
    "            interaction_string_2 = interaction_string_2 + 'I'\n",
    "    interaction_string_2 = interaction_string_2 + 'Y'\n",
    "    for i in range(node + 1, node + nodes_number):\n",
    "        interaction_string_2 = interaction_string_2 + 'Z'\n",
    "    interaction_string_2 = interaction_string_2 + 'Y'\n",
    "    for i in range(node + nodes_number + 1, nodes_number * 2):\n",
    "        interaction_string_2 = interaction_string_2 + 'I'\n",
    "    bits = range(nodes_number * 2)\n",
    "    interactions = [(interaction_string_1, bits, -1j/2)]\n",
    "    interactions.append((interaction_string_2, bits, -1j/2))\n",
    "    hamiltonian = SparsePauliOp.from_sparse_list(interactions, num_qubits = 2 * nodes_number)\n",
    "    return hamiltonian\n",
    "\n",
    "def sigma_z(node, nodes_number):\n",
    "    if node > nodes_number - 1:\n",
    "        print('Error: node index (''node'') cannot be higher than the total number of nodes')\n",
    "        return -1\n",
    "\n",
    "    #term two\n",
    "    interaction_string_2 = ''\n",
    "    if node > 0:\n",
    "        for i in range(0, node):\n",
    "            interaction_string_2 = interaction_string_2 + 'I'\n",
    "    interaction_string_2 = interaction_string_2 + 'Z'\n",
    "    for i in range(node + 1, 2 * nodes_number):\n",
    "        interaction_string_2 = interaction_string_2 + 'I'\n",
    "\n",
    "    #term four\n",
    "    interaction_string_4 = ''\n",
    "    for i in range(0, node + nodes_number):\n",
    "        interaction_string_4 = interaction_string_4 + 'I'\n",
    "    interaction_string_4 = interaction_string_4 + 'Z'\n",
    "    for i in range(node + nodes_number + 1, 2 * nodes_number):\n",
    "        interaction_string_4 = interaction_string_4 + 'I'\n",
    "\n",
    "    \n",
    "    bits = range(nodes_number * 2)\n",
    "    interactions = [(interaction_string_2, bits, -1/2)]\n",
    "    interactions.append((interaction_string_4, bits, 1/2))\n",
    "    hamiltonian = SparsePauliOp.from_sparse_list(interactions, num_qubits = 2 * nodes_number)\n",
    "    return hamiltonian\n",
    "\n",
    "\n",
    "print(sigma_z(1, 4))"
   ]
  },
  {
   "cell_type": "markdown",
   "id": "ff9f7e57-e7ed-4026-9497-f93c6e4c8a10",
   "metadata": {},
   "source": [
    "## Here is the function performin Jordan-Wigner transformation for the tight binding kinetic energy hamiltonian"
   ]
  },
  {
   "cell_type": "code",
   "execution_count": 3,
   "id": "8b084b84-8ac5-4ef0-8413-cee0290ddbbd",
   "metadata": {},
   "outputs": [
    {
     "name": "stdout",
     "output_type": "stream",
     "text": [
      "SparsePauliOp(['IIIIIIXX', 'IIIIIIYY', 'IIXXIIII', 'IIYYIIII', 'IIIIIXXI', 'IIIIIYYI', 'IXXIIIII', 'IYYIIIII', 'IIIIXXII', 'IIIIYYII', 'XXIIIIII', 'YYIIIIII', 'IIIIXIIX', 'IIIIYIIY', 'XIIXIIII', 'YIIYIIII'],\n",
      "              coeffs=[-0.5+0.j, -0.5+0.j, -0.5+0.j, -0.5+0.j, -0.5+0.j, -0.5+0.j, -0.5+0.j,\n",
      " -0.5+0.j, -0.5+0.j, -0.5+0.j, -0.5+0.j, -0.5+0.j, -0.5+0.j, -0.5+0.j,\n",
      " -0.5+0.j, -0.5+0.j])\n"
     ]
    }
   ],
   "source": [
    "def kinetic_energy(t, nodes_number, periodic = True):\n",
    "    interactions = []\n",
    "    hamiltonian = []\n",
    "    bits = range(nodes_number * 2)\n",
    "    for i_node in range(0, nodes_number - 1):\n",
    "        interaction_string_1 = ''\n",
    "        for i in range(i_node):\n",
    "            interaction_string_1 = interaction_string_1 + 'I'\n",
    "        interaction_string_1 = interaction_string_1 + 'XX'\n",
    "        #print(interaction_string_1)\n",
    "        interaction_string_2 = ''\n",
    "        for i in range(i_node):\n",
    "            interaction_string_2 = interaction_string_2 + 'I'\n",
    "        interaction_string_2 = interaction_string_2 + 'YY'\n",
    "        \n",
    "        interaction_string_3 = ''\n",
    "        for i in range(i_node + nodes_number):\n",
    "            interaction_string_3 = interaction_string_3 + 'I'\n",
    "        interaction_string_3 = interaction_string_3 + 'XX'\n",
    "        \n",
    "        interaction_string_4 = ''\n",
    "        for i in range(i_node + nodes_number):\n",
    "            interaction_string_4 = interaction_string_4 + 'I'\n",
    "        interaction_string_4 = interaction_string_4 + 'YY'\n",
    "        interactions.append((interaction_string_1, bits, -t/2))\n",
    "        interactions.append((interaction_string_2, bits, -t/2))\n",
    "        interactions.append((interaction_string_3, bits, -t/2))\n",
    "        interactions.append((interaction_string_4, bits, -t/2))\n",
    "    \n",
    "    \n",
    "        \n",
    "    if periodic == True:\n",
    "        interaction_string_1 = ''\n",
    "        interaction_string_1 = interaction_string_1 + 'X'\n",
    "        for i in range(1, nodes_number - 1):\n",
    "            interaction_string_1 = interaction_string_1 + 'I'\n",
    "        interaction_string_1 = interaction_string_1 + 'X'\n",
    "        \n",
    "        interaction_string_2 = ''\n",
    "        interaction_string_2 = interaction_string_2 + 'Y'\n",
    "        for i in range(1, nodes_number - 1):\n",
    "            interaction_string_2 = interaction_string_2 + 'I'\n",
    "        interaction_string_2 = interaction_string_2 + 'Y'\n",
    "        \n",
    "        interaction_string_3 = ''\n",
    "        for i in range(0, nodes_number):\n",
    "            interaction_string_3 = interaction_string_3 + 'I'\n",
    "        interaction_string_3 = interaction_string_3 + 'X'\n",
    "        for i in range(nodes_number + 1, 2 * nodes_number - 1):\n",
    "            interaction_string_3 = interaction_string_3 + 'I'\n",
    "        interaction_string_3 = interaction_string_3 + 'X'\n",
    "        \n",
    "        interaction_string_4 = ''\n",
    "        for i in range(0, nodes_number):\n",
    "            interaction_string_4 = interaction_string_4 + 'I'\n",
    "        interaction_string_4 = interaction_string_4 + 'Y'\n",
    "        for i in range(nodes_number + 1, 2 * nodes_number - 1):\n",
    "            interaction_string_4 = interaction_string_4 + 'I'\n",
    "        interaction_string_4 = interaction_string_4 + 'Y'\n",
    "        \n",
    "        interactions.append((interaction_string_1, bits, -t/2))\n",
    "        interactions.append((interaction_string_2, bits, -t/2))\n",
    "        interactions.append((interaction_string_3, bits, -t/2))\n",
    "        interactions.append((interaction_string_4, bits, -t/2))\n",
    "\n",
    "    hamiltonian =  (SparsePauliOp.from_sparse_list(interactions, num_qubits = 2 * nodes_number))\n",
    "    return hamiltonian\n",
    "\n",
    "\n",
    "print(kinetic_energy(1, 4, periodic = True))"
   ]
  },
  {
   "cell_type": "markdown",
   "id": "eb120127-7fc1-4b17-8eb5-58a6a7dcf37f",
   "metadata": {},
   "source": [
    "# Number of particles Hamiltonian"
   ]
  },
  {
   "cell_type": "code",
   "execution_count": 4,
   "id": "3d501f1c-caef-48fb-94c6-905e9b767ab2",
   "metadata": {},
   "outputs": [
    {
     "data": {
      "text/plain": [
       "SparsePauliOp(['II', 'IZ', 'II', 'ZI'],\n",
       "              coeffs=[ 0.5+0.j, -0.5+0.j,  0.5+0.j, -0.5+0.j])"
      ]
     },
     "execution_count": 4,
     "metadata": {},
     "output_type": "execute_result"
    }
   ],
   "source": [
    "def particles_number(nodes_number):\n",
    "    interactions = []\n",
    "    hamiltonian = []\n",
    "    bits = range(nodes_number * 2)\n",
    "    for i_node in range(0, nodes_number):\n",
    "        \n",
    "        interaction_string_1 = ''\n",
    "        for i in range(i_node):\n",
    "            interaction_string_1 = interaction_string_1 + 'I'\n",
    "        interaction_string_1 = interaction_string_1 + 'I'\n",
    "        \n",
    "        interaction_string_2 = ''\n",
    "        for i in range(i_node):\n",
    "            interaction_string_2 = interaction_string_2 + 'I'\n",
    "        interaction_string_2 = interaction_string_2 + 'Z'\n",
    "        \n",
    "        interaction_string_3 = ''\n",
    "        for i in range(i_node + nodes_number):\n",
    "            interaction_string_3 = interaction_string_3 + 'I'\n",
    "        interaction_string_3 = interaction_string_3 + 'I'\n",
    "\n",
    "        interaction_string_4 = ''\n",
    "        for i in range(i_node + nodes_number):\n",
    "            interaction_string_4 = interaction_string_4 + 'I'\n",
    "        interaction_string_4 = interaction_string_4 + 'Z'\n",
    "        \n",
    "        interactions.append((interaction_string_1, bits, 1/2))\n",
    "        interactions.append((interaction_string_2, bits, -1/2))\n",
    "        interactions.append((interaction_string_3, bits, 1/2))\n",
    "        interactions.append((interaction_string_4, bits, -1/2))\n",
    "\n",
    "    hamiltonian =  (SparsePauliOp.from_sparse_list(interactions, num_qubits = 2 * nodes_number))\n",
    "    return hamiltonian\n",
    "\n",
    "\n",
    "particles_number(1)"
   ]
  },
  {
   "cell_type": "code",
   "execution_count": 5,
   "id": "f57ce659-6e91-4e42-ad26-269cee8b86bb",
   "metadata": {},
   "outputs": [],
   "source": [
    "#!pip install nbconvert"
   ]
  },
  {
   "cell_type": "markdown",
   "id": "674a18fd-fb40-4523-810b-1c4eb71f5c7f",
   "metadata": {},
   "source": [
    "# Number of particles control\n",
    "\n",
    "The addition to the Hamiltonian is of the form\n",
    "$$\n",
    "\\mu (\\hat N_{tot} - n_{part})^2\n",
    "$$\n",
    "where $\\hat N_{tot}$ is the operator of number of particles."
   ]
  },
  {
   "cell_type": "code",
   "execution_count": 6,
   "id": "a003bc5b-4c49-4a33-ae6e-c75392a834b2",
   "metadata": {},
   "outputs": [
    {
     "data": {
      "text/plain": [
       "SparsePauliOp(['IIII', 'IIIZ', 'IIZI', 'IZII', 'ZIII', 'IIZZ', 'IZIZ', 'ZIIZ', 'IZZI', 'ZIZI', 'ZZII'],\n",
       "              coeffs=[ 2. +0.j, -1. +0.j, -1. +0.j, -1. +0.j, -1. +0.j,  0.5+0.j,  0.5+0.j,\n",
       "  0.5+0.j,  0.5+0.j,  0.5+0.j,  0.5+0.j])"
      ]
     },
     "execution_count": 6,
     "metadata": {},
     "output_type": "execute_result"
    }
   ],
   "source": [
    "def particles_number_control(nodes_number, part_numb, Fermi_level):\n",
    "    interactions = []\n",
    "    hamiltonian = []\n",
    "    bits = range(nodes_number * 2)\n",
    "\n",
    "    dn = nodes_number - part_numb\n",
    "    interactions.append(('I', bits, (pow(dn,2) + 1 / 2 * nodes_number) * Fermi_level))\n",
    "    \n",
    "    \n",
    "    for i_node in range(0, 2 * nodes_number):\n",
    "        interaction_string_1 = ''\n",
    "        for i in range(i_node):\n",
    "            interaction_string_1 = interaction_string_1 + 'I'\n",
    "        interaction_string_1 = interaction_string_1 + 'Z'\n",
    "        if dn != 0:\n",
    "            interactions.append((interaction_string_1, bits, -dn * Fermi_level))\n",
    "\n",
    "    for i_node in range(0, 2 * nodes_number - 1):\n",
    "        for j_node in range(i_node + 1, 2 * nodes_number):\n",
    "            interaction_string_1 = ''\n",
    "            for i in range(i_node):\n",
    "                interaction_string_1 = interaction_string_1 + 'I'\n",
    "            interaction_string_1 = interaction_string_1 + 'Z'\n",
    "            if j_node == i_node + 1:\n",
    "                interaction_string_1 = interaction_string_1 + 'Z'\n",
    "            else:\n",
    "                for i in range(i_node + 1, j_node):\n",
    "                    interaction_string_1 = interaction_string_1 + 'I'\n",
    "                interaction_string_1 = interaction_string_1 + 'Z'\n",
    "            interactions.append((interaction_string_1, bits, 1/2 * Fermi_level))\n",
    "\n",
    "    hamiltonian =  (SparsePauliOp.from_sparse_list(interactions, num_qubits = 2 * nodes_number))\n",
    "    return hamiltonian\n",
    "\n",
    "\n",
    "particles_number_control(2, 1, 1)"
   ]
  },
  {
   "cell_type": "markdown",
   "id": "2eaea54b-042b-4d3f-bb81-0e20ae284ef8",
   "metadata": {},
   "source": [
    "## Magnetization distribution description"
   ]
  },
  {
   "cell_type": "code",
   "execution_count": 7,
   "id": "8644d130-eb52-4dbc-9d3b-84709afbf241",
   "metadata": {},
   "outputs": [],
   "source": [
    "#Uniform magnetization along z axis\n",
    "nodes_number = 4\n",
    "mag = []\n",
    "\n",
    "def uniform_z(nodes_number):\n",
    "    mag = []\n",
    "    for i in range(nodes_number):\n",
    "        mag.append([0, 0, 1])\n",
    "    return mag"
   ]
  },
  {
   "cell_type": "markdown",
   "id": "bc65c289-cee6-4597-af75-78b1c68db2c7",
   "metadata": {},
   "source": [
    "## Full Hamiltonian\n",
    "\n",
    "The Hamiltonian includes kinteic energy and s-d exchage energy"
   ]
  },
  {
   "cell_type": "code",
   "execution_count": 8,
   "id": "d9ac7a7a-db29-41f4-8e9d-babaa65a0805",
   "metadata": {},
   "outputs": [
    {
     "data": {
      "text/plain": [
       "SparsePauliOp(['IIXX', 'IIYY', 'XXII', 'YYII', 'IIXX', 'IIYY', 'XXII', 'YYII', 'IIZI', 'ZIII', 'IIIZ', 'IZII', 'IIII', 'IIIZ', 'IIZI', 'IZII', 'ZIII', 'IIZZ', 'IZIZ', 'ZIIZ', 'IZZI', 'ZIZI', 'ZZII'],\n",
       "              coeffs=[-0.5+0.j, -0.5+0.j, -0.5+0.j, -0.5+0.j, -0.5+0.j, -0.5+0.j, -0.5+0.j,\n",
       " -0.5+0.j, -2. +0.j,  2. +0.j, -2. +0.j,  2. +0.j,  2. +0.j, -1. +0.j,\n",
       " -1. +0.j, -1. +0.j, -1. +0.j,  0.5+0.j,  0.5+0.j,  0.5+0.j,  0.5+0.j,\n",
       "  0.5+0.j,  0.5+0.j])"
      ]
     },
     "execution_count": 8,
     "metadata": {},
     "output_type": "execute_result"
    }
   ],
   "source": [
    "\n",
    "def full_ham(nodes_number, magnetization, J, t, electron_number, Fermi_level, periodic = True):\n",
    "    hamiltonian = []\n",
    "    hamiltonian = kinetic_energy(t, nodes_number, periodic)\n",
    "    #mag_ham = SparsePauliOp.from_sparse_list([], num_qubits = 2 * nodes_number)\n",
    "    #mag_ham = sum([], J * magnetization[1][2] * sigma_x(1, nodes_number))\n",
    "    mag_ham = []\n",
    "    for node in range(nodes_number):\n",
    "        if magnetization[node][0] != 0:\n",
    "            #mag_ham.append(J*magnetization[node][0] * sigma_x(node, nodes_number))\n",
    "            mag_ham = sum(mag_ham, J * magnetization[node][0] * sigma_x(node, nodes_number))\n",
    "        if magnetization[node][1] != 0:\n",
    "            #mag_ham.append(J*magnetization[node][1] * sigma_y(node, nodes_number))\n",
    "            mag_ham = sum(mag_ham, J * magnetization[node][1] * sigma_y(node, nodes_number))\n",
    "        if magnetization[node][2] != 0:\n",
    "            #mag_ham.append(J*magnetization[node][2] * sigma_z(node, nodes_number))\n",
    "            mag_ham = sum(mag_ham, J * magnetization[node][2] * sigma_z(node, nodes_number))\n",
    "    hamiltonian = sum(mag_ham, hamiltonian)\n",
    "    if Fermi_level != 0:\n",
    "        part_contr_ham = particles_number_control(nodes_number, electron_number, Fermi_level)\n",
    "        hamiltonian = sum(part_contr_ham, hamiltonian)\n",
    "    \n",
    "    return hamiltonian\n",
    "\n",
    "nodes_number = 2\n",
    "mag = uniform_z(nodes_number)\n",
    "full_ham(nodes_number, mag, 4, 1, 1, 1, periodic = True)"
   ]
  },
  {
   "cell_type": "markdown",
   "id": "e0f9f615-4673-404f-a683-9667b01d8a42",
   "metadata": {},
   "source": [
    "## Creating an anzatz"
   ]
  },
  {
   "cell_type": "code",
   "execution_count": 107,
   "id": "687fd6c4-6ddb-4297-afe7-ebe2668ef5f1",
   "metadata": {},
   "outputs": [
    {
     "data": {
      "image/png": "[encoded data removed]",
      "text/plain": [
       "<Figure size 1465.8x367.889 with 1 Axes>"
      ]
     },
     "execution_count": 107,
     "metadata": {},
     "output_type": "execute_result"
    }
   ],
   "source": [
    "nodes_number = 2\n",
    "# Anzatz assume only unentagled states.\n",
    "# Since we are trying to get the domain wall we fix the first and last spin states to opposite direcions\n",
    "def anzatz_qc(theta, nodes_number):\n",
    "    q_r = Q_R(nodes_number * 2)\n",
    "    v_qc = QuantumCircuit(q_r)\n",
    "    i_theta = 0\n",
    "    for i in range(0, nodes_number * 2):\n",
    "        v_qc.rx(theta[i_theta],i)\n",
    "        i_theta = i_theta + 1\n",
    "        v_qc.ry(theta[i_theta],i)\n",
    "        i_theta = i_theta + 1\n",
    "        v_qc.rx(theta[i_theta],i)\n",
    "        i_theta = i_theta + 1\n",
    "    #v_qc.x(bit_size-1)\n",
    "        #v_qc.x(bit_size-1)\n",
    "    for i in range(0, nodes_number):\n",
    "        v_qc.h(i)\n",
    "        v_qc.cx(i, i + nodes_number)\n",
    "    for i in range(0, nodes_number-1):\n",
    "        v_qc.h(i)\n",
    "        v_qc.cx(i, i + 1)\n",
    "    for i in range(nodes_number, 2 * nodes_number-1):\n",
    "        v_qc.h(i)\n",
    "        v_qc.cx(i, i + 1)\n",
    "        \n",
    "    #v_qc.h(nodes_number * 2 - 1)\n",
    "    #v_qc.cx(nodes_number * 2 - 1, 0)\n",
    "            \n",
    "    #v_qc.cz(bit_size - 1, 0)\n",
    "    for i in range(0, nodes_number * 2):\n",
    "        v_qc.rx(theta[i_theta],i)\n",
    "        i_theta = i_theta + 1\n",
    "        v_qc.ry(theta[i_theta],i)\n",
    "        i_theta = i_theta + 1\n",
    "        v_qc.rx(theta[i_theta],i)\n",
    "        i_theta = i_theta + 1\n",
    "    \n",
    "    for i in range(0, nodes_number):\n",
    "        v_qc.h(i)\n",
    "        v_qc.cx(i + nodes_number, i)\n",
    "    for i in range(0, nodes_number - 1):\n",
    "        v_qc.h(i)\n",
    "        v_qc.cx(i + 1, i)\n",
    "    for i in range(nodes_number, 2 * nodes_number - 1):\n",
    "        v_qc.h(i)\n",
    "        v_qc.cx(i + 1, i)\n",
    "        \n",
    "    #v_qc.h(nodes_number * 2 - 1)\n",
    "    #v_qc.cx(nodes_number * 2 - 1, 0)\n",
    "    \n",
    "    return v_qc\n",
    "\n",
    "theta = [math.pi, 0 , 0,     0, 0, 0,      0, 0, 0,      0, 0, 0,         0, 0 , 0,     0, 0, 0,      0, 0, 0,      0, 0, 0]\n",
    "qc = anzatz_qc(theta, 2)\n",
    "qc.draw('mpl')"
   ]
  },
  {
   "cell_type": "code",
   "execution_count": 108,
   "id": "4e09c4c9-911a-4f9a-ac04-facb74dae18f",
   "metadata": {},
   "outputs": [],
   "source": [
    "# defining a cost function\n",
    "cost_history_dict = {\n",
    "    \"prev_vector\": None,\n",
    "    \"iters\": 0,\n",
    "    \"cost_history\": [],\n",
    "}\n",
    "def estim(theta, nodes_number, hamiltonian):\n",
    "    v_qc = anzatz_qc(theta, nodes_number)\n",
    "    \n",
    "    estimator = StatevectorEstimator()\n",
    "    job = estimator.run([(v_qc, hamiltonian)])\n",
    "    estimator_expvals = job.result()[0].data.evs\n",
    "    \n",
    "      \n",
    "    #print \n",
    "    #print('Energy: ' + str(estimator_expvals))\n",
    "    cost_history_dict[\"iters\"] += 1\n",
    "    cost_history_dict[\"prev_vector\"] = theta\n",
    "    cost_history_dict[\"cost_history\"].append(estimator_expvals)\n",
    "    return estimator_expvals\n",
    "#J = 1\n",
    "#t = 1\n",
    "#n_p = 1\n",
    "#e_f = 10\n",
    "#hamiltonian = full_ham(2, mag, J, t, n_p, e_f, periodic = True)\n",
    "#theta = [math.pi, 0 , 0,     0, 0, 0,      0, 0, 0,      0, 0, 0,           0, 0 , 0,     0, 0, 0,      0, 0, 0,      0, 0, 0]\n",
    "#print(hamiltonian)\n",
    "#estim(theta, 2, hamiltonian)"
   ]
  },
  {
   "cell_type": "code",
   "execution_count": 109,
   "id": "87147be2-d2ad-4a95-84b3-a0cde3ab75c8",
   "metadata": {},
   "outputs": [],
   "source": [
    "# Hamiltonian parameters\n",
    "nodes_number = 2 #number of nodes\n",
    "J = -0.1 #s-d exchange constant\n",
    "t = 2 #hopping matrix element (kinetic energy coefficient)\n",
    "particle_number = 2\n",
    "Fermi_level = 10\n",
    "\n",
    "#Cost history initialization\n",
    "cost_history_dict = {\n",
    "    \"prev_vector\": None,\n",
    "    \"iters\": 0,\n",
    "    \"cost_history\": [],\n",
    "}\n",
    "\n",
    "import random\n",
    "num = random.random()\n",
    "#print(num)\n",
    "\n",
    "#initialize the state\n",
    "x0 = []\n",
    "for i in range((nodes_number * 2) * 6):\n",
    "    x0.append(random.random())\n",
    "\n",
    "#define the Hamiltonian\n",
    "hamiltonian = full_ham(nodes_number, mag, J, t, particle_number, Fermi_level, periodic = False)\n",
    "#print(hamiltonian)\n",
    "#Optimization\n",
    "res = minimize(\n",
    "        estim,\n",
    "        x0,\n",
    "        args=(nodes_number , hamiltonian),\n",
    "        method=\"cobyla\",\n",
    "    )\n"
   ]
  },
  {
   "cell_type": "code",
   "execution_count": 110,
   "id": "4ad77515-233d-494d-8b61-d1e5ce4b7863",
   "metadata": {},
   "outputs": [
    {
     "data": {
      "text/plain": [
       "<qiskit.circuit.instructionset.InstructionSet at 0x27127253a90>"
      ]
     },
     "execution_count": 110,
     "metadata": {},
     "output_type": "execute_result"
    }
   ],
   "source": [
    "q_r = Q_R(nodes_number * 2)\n",
    "cl_r = C_R(nodes_number * 2)\n",
    "qc_f = QuantumCircuit(q_r,cl_r)\n",
    "qc_1 = anzatz_qc(res.x, nodes_number)\n",
    "qc_f.append(qc_1, q_r)\n",
    "\n",
    "#for i in range(bit_size):\n",
    "#    qc_f.measure(i,i)\n",
    "SimulatorAer = AerSimulator()\n",
    "\n",
    "qc_f.save_statevector()\n",
    "\n",
    "#qc_f.decompose().draw('mpl')"
   ]
  },
  {
   "cell_type": "code",
   "execution_count": 111,
   "id": "1dee8b4d-563a-40a9-8bef-7bca0446ff05",
   "metadata": {},
   "outputs": [],
   "source": [
    "from qiskit.quantum_info import partial_trace, DensityMatrix\n",
    "from qiskit.visualization import plot_state_city\n",
    "\n",
    "circ = transpile(qc_f, backend = SimulatorAer)\n",
    "result = SimulatorAer.run(circ,shots = 1).result()\n",
    "ground_state = result.get_statevector(circ)\n",
    "\n",
    "#print(ground_state)\n",
    "\n",
    "#ground_state.draw(output = 'latex')\n",
    "\n",
    "#plot_state_city(dm)"
   ]
  },
  {
   "cell_type": "code",
   "execution_count": 112,
   "id": "c80a4a5e-b06d-456a-b55e-f215cbffe7a3",
   "metadata": {},
   "outputs": [
    {
     "name": "stdout",
     "output_type": "stream",
     "text": [
      "state: 0101, prob: 0.2499862976447142, complex amplitude: (-0.4998995006185416-0.009315950088257904j)\n",
      "state: 0110, prob: 0.25002981207552355, complex amplitude: (-0.49994300249584567-0.009316991518851125j)\n",
      "state: 1001, prob: 0.24997412838320845, complex amplitude: (-0.49988708084981337-0.009329243413086653j)\n",
      "state: 1010, prob: 0.2500096661101056, complex amplitude: (-0.4999232104613276-0.00929783588502292j)\n",
      "Energy: -3.9999995931521886\n"
     ]
    }
   ],
   "source": [
    "import sys\n",
    "sys.path.insert(0, 'C:/Users/Oleg/Google Диск/QC/Codes/QC-qiskit-codes/Library')\n",
    "import aux_func as af\n",
    "n_nonzero = 0\n",
    "n_states = pow(2, 2 * nodes_number)\n",
    "states = []\n",
    "prob = []\n",
    "for i in range(n_states):\n",
    "    pr = pow(abs(ground_state[i]), 2)\n",
    "    if pr>1/n_states:\n",
    "        n_nonzero = n_nonzero + 1\n",
    "        states.append(i)\n",
    "        prob.append(pr)\n",
    "        print('state: ' + str(af.int_2_bin_word(i, 2 * nodes_number)) + ', prob: ' + str(pr) + ', complex amplitude: ' + str(ground_state[i]))\n",
    "    \n",
    "print('Energy: ' + str(res.fun))"
   ]
  },
  {
   "cell_type": "code",
   "execution_count": 116,
   "id": "2d5b0066-c997-4043-a269-36ee6c711d53",
   "metadata": {},
   "outputs": [],
   "source": [
    "def simul(nodes_number, particle_number, Fermi_level, J, t, mag, periodic = True):\n",
    "\n",
    "\n",
    "    #Optimization\n",
    "    cost_history_dict = {\n",
    "    \"prev_vector\": None,\n",
    "    \"iters\": 0,\n",
    "    \"cost_history\": [],\n",
    "    }\n",
    "\n",
    "    import random\n",
    "    num = random.random()\n",
    "    #print(num)\n",
    "    \n",
    "    #initialize the state\n",
    "    x0 = []\n",
    "    for i in range((nodes_number * 2) * 6):\n",
    "        x0.append(random.random())\n",
    "    \n",
    "    #define the Hamiltonian\n",
    "    hamiltonian = full_ham(nodes_number, mag, J, t, particle_number, Fermi_level, periodic = False)\n",
    "    #print(hamiltonian)\n",
    "    #Optimization\n",
    "    res = minimize(\n",
    "            estim,\n",
    "            x0,\n",
    "            args=(nodes_number , hamiltonian),\n",
    "            method=\"cobyla\",\n",
    "        )\n",
    "    #Analysis\n",
    "    q_r = Q_R(nodes_number * 2)\n",
    "    cl_r = C_R(nodes_number * 2)\n",
    "    qc_f = QuantumCircuit(q_r,cl_r)\n",
    "    qc_1 = anzatz_qc(res.x, nodes_number)\n",
    "    qc_f.append(qc_1, q_r)\n",
    "    SimulatorAer = AerSimulator()\n",
    "    qc_f.save_statevector()\n",
    "    circ = transpile(qc_f, backend = SimulatorAer)\n",
    "    result = SimulatorAer.run(circ,shots = 1).result()\n",
    "    ground_state = result.get_statevector(circ)\n",
    "    n_nonzero = 0\n",
    "    n_states = pow(2, 2 * nodes_number)\n",
    "    states = []\n",
    "    prob = []\n",
    "    full_state = []\n",
    "    state_bin = []\n",
    "    for i in range(n_states):\n",
    "        pr = pow(abs(ground_state[i]), 2)\n",
    "        if pr>1/n_states:\n",
    "            n_nonzero = n_nonzero + 1\n",
    "            states.append(i)\n",
    "            prob.append(pr)\n",
    "            full_state.append(ground_state[i])\n",
    "            state_bin.append(af.int_2_bin_word(i, 2 * nodes_number))\n",
    "            #print('state: ' + str(af.int_2_bin_word(i, 2 * nodes_number)) + ', prob: ' + str(pr) + ', complex amplitude: ' + str(ground_state[i]))\n",
    "    energy_fin = res.fun\n",
    "    return states, prob, full_state, state_bin, energy_fin"
   ]
  },
  {
   "cell_type": "code",
   "execution_count": 132,
   "id": "bf5129f2-43b3-4b60-af85-320bb26ae126",
   "metadata": {},
   "outputs": [],
   "source": [
    "nodes_number = 2\n",
    "particle_number = 1\n",
    "Fermi_level = 10\n",
    "J = 0.1\n",
    "t = 1\n",
    "mag = uniform_z(nodes_number)\n",
    "periodic = False\n",
    "[states, prob, full_state, state_bin, energy_fin] = simul(nodes_number, particle_number, Fermi_level, J, t, mag, periodic)\n",
    "#print('state: ' + str(af.int_2_bin_word(i, 2 * nodes_number)) + ', prob: ' + str(pr) + ', complex amplitude: ' + str(ground_state[i])) for i in range(len(prob))"
   ]
  },
  {
   "cell_type": "code",
   "execution_count": 133,
   "id": "30404448-6353-41ac-b1c2-fef146c5cead",
   "metadata": {},
   "outputs": [
    {
     "name": "stdout",
     "output_type": "stream",
     "text": [
      "Energy: -1.0999362933136965\n",
      "Full state consists of:\n",
      "state 0: 0000, prob: 0.49772318556166106, complex amplitude: (0.029901893190298567+0.7048610234261057j)\n",
      "state 1: 0001, prob: 0.5022740070769761, complex amplitude: (0.028961349883596436+0.7081209270244003j)\n"
     ]
    }
   ],
   "source": [
    "print('Energy: ' + str(energy_fin))\n",
    "print('Full state consists of:')\n",
    "for i in range(len(prob)):\n",
    "    print('state '+ str(i) + ': ' + str(af.int_2_bin_word(i, 2 * nodes_number)) + ', prob: ' + str(prob[i]) + ', complex amplitude: ' + str(full_state[i])) "
   ]
  },
  {
   "cell_type": "code",
   "execution_count": 134,
   "id": "288ae554-7864-4bef-835e-48a1f5b8e521",
   "metadata": {},
   "outputs": [
    {
     "name": "stdout",
     "output_type": "stream",
     "text": [
      "Try 0\n",
      "Energy: -8.002220533219287\n",
      "Full state consists of:\n",
      "state 0: 101001, prob: 0.49992499234948323, complex amplitude: (0.37687699327348617+0.5982380164204043j)\n",
      "state 1: 111000, prob: 0.4999277030832395, complex amplitude: (0.37687778035179736+0.598239786173021j)\n",
      "Try 1\n",
      "Energy: -4.084799163545417\n",
      "Full state consists of:\n",
      "state 0: 100011, prob: 0.24762976623193192, complex amplitude: (0.33663078559972825+0.36648257860155065j)\n",
      "state 1: 101010, prob: 0.21478689229464937, complex amplitude: (-0.28099305271206076-0.36855094169219865j)\n",
      "state 2: 110001, prob: 0.21642213167178392, complex amplitude: (-0.2800592970490364-0.3714686013759218j)\n",
      "state 3: 111000, prob: 0.2726077363537167, complex amplitude: (0.35428627251798445+0.38352180310776224j)\n",
      "Try 2\n",
      "Energy: -11.999996767177667\n",
      "Full state consists of:\n",
      "state 0: 111000, prob: 0.9999998073579921, complex amplitude: (-0.8037234946059943+0.5950028164440234j)\n",
      "Try 3\n",
      "Energy: -11.991471477384813\n",
      "Full state consists of:\n",
      "state 0: 111000, prob: 0.999104890285088, complex amplitude: (0.6266964064669375-0.778688965124404j)\n",
      "Try 4\n",
      "Energy: -8.001286837873334\n",
      "Full state consists of:\n",
      "state 0: 101001, prob: 0.49817452850748517, complex amplitude: (0.7049922211678484+0.03406606229531921j)\n",
      "state 1: 111000, prob: 0.49924452048308393, complex amplitude: (-0.7057442111569424-0.03419983774156074j)\n"
     ]
    }
   ],
   "source": [
    "nodes_number = 3\n",
    "particle_number = 3\n",
    "Fermi_level = 10\n",
    "J = 4\n",
    "t = 1\n",
    "mag = uniform_z(nodes_number)\n",
    "periodic = False\n",
    "for try_number in range(5):\n",
    "    [states, prob, full_state, state_bin, energy_fin] = simul(nodes_number, particle_number, Fermi_level, J, t, mag, periodic)\n",
    "    print('Try ' + str(try_number))\n",
    "    print('Energy: ' + str(energy_fin))\n",
    "    print('Full state consists of:')\n",
    "    for i in range(len(prob)):\n",
    "        print('state '+ str(i) + ': ' + str(state_bin[i]) + ', prob: ' + str(prob[i]) + ', complex amplitude: ' + str(full_state[i])) "
   ]
  },
  {
   "cell_type": "code",
   "execution_count": null,
   "id": "d2e45ed5-da07-4f9f-a88d-e9e18f712645",
   "metadata": {},
   "outputs": [],
   "source": []
  }
 ],
 "metadata": {
  "kernelspec": {
   "display_name": "Python 3 (ipykernel)",
   "language": "python",
   "name": "python3"
  },
  "language_info": {
   "codemirror_mode": {
    "name": "ipython",
    "version": 3
   },
   "file_extension": ".py",
   "mimetype": "text/x-python",
   "name": "python",
   "nbconvert_exporter": "python",
   "pygments_lexer": "ipython3",
   "version": "3.10.2"
  }
 },
 "nbformat": 4,
 "nbformat_minor": 5
}
