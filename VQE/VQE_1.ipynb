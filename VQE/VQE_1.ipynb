{
 "cells": [
  {
   "cell_type": "markdown",
   "id": "f3244e8c-d2bf-4067-b187-0ce18f269bfa",
   "metadata": {},
   "source": [
    "# Playing with VQE\n",
    "\n",
    "Try to optimize an anisotropic exchange Hamiltonian (z_1 x z_2\n",
    "\n",
    "## Content\n",
    "1. Calculating hamiltonian estimate using self-made code\n",
    "2. Calculate the estimate using Estimator with real QC\n",
    "3. Calculate the estimate using StateVectorEstimate modules (QC simulations)\n",
    "4. Optimization of the state using COBYLA optimizer"
   ]
  },
  {
   "cell_type": "code",
   "execution_count": 2,
   "id": "1596959b-de91-4cba-a9d0-cb5cee1c8d98",
   "metadata": {},
   "outputs": [],
   "source": [
    "#Qiskit modules\n",
    "import qiskit\n",
    "from qiskit import QuantumRegister as Q_R\n",
    "from qiskit import ClassicalRegister as C_R\n",
    "from qiskit_aer import Aer\n",
    "from qiskit import QuantumCircuit, transpile\n",
    "from qiskit_aer import AerSimulator\n",
    "from qiskit_ibm_runtime import QiskitRuntimeService, Session\n",
    "from qiskit_ibm_runtime import EstimatorV2 as Estimator\n",
    "from qiskit.primitives import StatevectorSampler, StatevectorEstimator\n",
    "\n",
    "\n",
    "\n",
    "\n",
    "#math modules\n",
    "import math\n",
    "# SciPy minimizer routine\n",
    "from scipy.optimize import minimize"
   ]
  },
  {
   "cell_type": "code",
   "execution_count": 3,
   "id": "3dbe5bd0-715b-4bc6-b908-a8ef9b6f5aee",
   "metadata": {},
   "outputs": [
    {
     "data": {
      "image/png": "[encoded data removed]",
      "text/plain": [
       "<Figure size 305.525x284.278 with 1 Axes>"
      ]
     },
     "execution_count": 3,
     "metadata": {},
     "output_type": "execute_result"
    }
   ],
   "source": [
    "bit_size = 2\n",
    "\n",
    "q_r = Q_R(bit_size)\n",
    "cl_r = C_R(bit_size)\n",
    "qc = QuantumCircuit(q_r, cl_r)\n",
    "\n",
    "qc.h(0)\n",
    "\n",
    "for i in range(bit_size):\n",
    "    qc.measure(i, i)\n",
    "\n",
    "qc.draw('mpl')"
   ]
  },
  {
   "cell_type": "code",
   "execution_count": 22,
   "id": "155dbaea-ddad-4d73-9616-9e2d8b3eacce",
   "metadata": {},
   "outputs": [],
   "source": [
    "shot_num = 4096\n",
    "simulator = AerSimulator()\n",
    "qc_tr = transpile(qc, simulator)\n",
    "result = simulator.run(qc_tr,shots = shot_num).result()\n",
    "counts = result.get_counts(qc_tr)\n",
    "\n"
   ]
  },
  {
   "cell_type": "markdown",
   "id": "7a12a615-bbd3-4fdb-a254-7f6466742ab4",
   "metadata": {},
   "source": [
    "## Calculating observable Z1 x Z2"
   ]
  },
  {
   "cell_type": "code",
   "execution_count": 23,
   "id": "eab0222a-4a37-415b-9ca9-4d4b804374bc",
   "metadata": {},
   "outputs": [
    {
     "name": "stdout",
     "output_type": "stream",
     "text": [
      "-0.0400390625\n"
     ]
    }
   ],
   "source": [
    "zz = 0\n",
    "for dic in counts:\n",
    "    if dic == '00':\n",
    "        zz = zz + counts[dic]\n",
    "    if dic == '01':\n",
    "        zz = zz - counts[dic]\n",
    "    if dic == '10':\n",
    "        zz = zz - counts[dic]\n",
    "    if dic == '11':\n",
    "        zz = zz + counts[dic]\n",
    "zz = zz / shot_num\n",
    "print(zz)"
   ]
  },
  {
   "cell_type": "markdown",
   "id": "2aa61b6a-54d0-4f38-b5a7-0f42043ad359",
   "metadata": {},
   "source": [
    "## Calculating observable Z1 x Z2 using Qiskit estimator and real QC"
   ]
  },
  {
   "cell_type": "code",
   "execution_count": 4,
   "id": "78fdef00-690b-4002-9446-77033fc42418",
   "metadata": {},
   "outputs": [
    {
     "name": "stdout",
     "output_type": "stream",
     "text": [
      "SparsePauliOp(['ZZ'],\n",
      "              coeffs=[1.+0.j])\n"
     ]
    }
   ],
   "source": [
    "# Made a Hamiltonian for masurement\n",
    "from qiskit.quantum_info import SparsePauliOp\n",
    "interactions = [(\"ZZ\", [0, 1], 1)]\n",
    "hamiltonian = SparsePauliOp.from_sparse_list(interactions, num_qubits=bit_size)\n",
    "print(hamiltonian)"
   ]
  },
  {
   "cell_type": "code",
   "execution_count": 32,
   "id": "eca8f1e4-597d-4881-bfd9-8ef2ea364422",
   "metadata": {},
   "outputs": [
    {
     "name": "stdout",
     "output_type": "stream",
     "text": [
      "ibm_brisbane\n"
     ]
    }
   ],
   "source": [
    "# Choose real QC to run the cicruit\n",
    "service = QiskitRuntimeService()\n",
    "backend = service.least_busy(operational=True, simulator=False)\n",
    "print(backend.name)"
   ]
  },
  {
   "cell_type": "code",
   "execution_count": 38,
   "id": "3b652b7e-20d6-42f4-8ef3-5cdfd52c7122",
   "metadata": {},
   "outputs": [],
   "source": [
    "# transpile the circuit to chosen QC ISA\n",
    "pm = generate_preset_pass_manager(optimization_level=1, backend=backend)\n",
    "isa_circuit = pm.run(qc)\n",
    "isa_observable = hamiltonian.apply_layout(isa_circuit.layout)\n",
    "\n",
    "#Run the circuit and get the measured Hamiltonian estimate\n",
    "estimator = Estimator(mode=backend)\n",
    "pub = (isa_circuit, [isa_observable])\n",
    "result = estimator.run(pubs=[pub]).result()\n",
    "energy = result[0].data.evs[0]"
   ]
  },
  {
   "cell_type": "code",
   "execution_count": 39,
   "id": "dfd4931e-0eb0-446e-9d85-c086cd58f2d8",
   "metadata": {},
   "outputs": [
    {
     "data": {
      "text/plain": [
       "-0.001388888888888889"
      ]
     },
     "execution_count": 39,
     "metadata": {},
     "output_type": "execute_result"
    }
   ],
   "source": [
    "energy"
   ]
  },
  {
   "cell_type": "markdown",
   "id": "03024b6e-14f9-453d-a814-ed66d4da180a",
   "metadata": {},
   "source": [
    "## Calculating obsrvables using ideal qiskit simulations - StateVectorEstimator package\n",
    "\n",
    "Here the quantum circuit SHOULD NOT have any measurement gates.\n",
    "The estimator is ideal and has no noise."
   ]
  },
  {
   "cell_type": "code",
   "execution_count": 18,
   "id": "3116d48f-9de5-41c1-b6da-5aa8140395e9",
   "metadata": {},
   "outputs": [
    {
     "data": {
      "text/plain": [
       "array(1.)"
      ]
     },
     "execution_count": 18,
     "metadata": {},
     "output_type": "execute_result"
    }
   ],
   "source": [
    "bit_size = 2\n",
    "\n",
    "q_r = Q_R(bit_size)\n",
    "cl_r = C_R(bit_size)\n",
    "qc = QuantumCircuit(q_r, cl_r)\n",
    "\n",
    "qc.x(0)\n",
    "qc.x(1)\n",
    "\n",
    "\n",
    "estimator = StatevectorEstimator()\n",
    "job = estimator.run([(qc, hamiltonian)])\n",
    "estimator_expvals = job.result()[0].data.evs\n",
    "estimator_expvals"
   ]
  },
  {
   "cell_type": "code",
   "execution_count": 28,
   "id": "ddae6073-833c-4ddb-8e0b-cf3f56382684",
   "metadata": {},
   "outputs": [],
   "source": [
    "#from qiskit.circuit.library import RYGate\n",
    "def vqc(theta, bit_size):\n",
    "    qr = Q_R(bit_size)\n",
    "    v_qc = QuantumCircuit(qr)\n",
    "    for i in range(bit_size):\n",
    "        v_qc.ry(theta[i],i)\n",
    "    return v_qc\n",
    "    "
   ]
  },
  {
   "cell_type": "code",
   "execution_count": 31,
   "id": "538168db-8887-47ae-8206-e2226558f2e8",
   "metadata": {},
   "outputs": [
    {
     "data": {
      "image/png": "[encoded data removed]",
      "text/plain": [
       "<Figure size 240.346x200.667 with 1 Axes>"
      ]
     },
     "execution_count": 31,
     "metadata": {},
     "output_type": "execute_result"
    }
   ],
   "source": [
    "theta = [1, 1]\n",
    "v_qc = vqc(theta, 2)"
   ]
  },
  {
   "cell_type": "markdown",
   "id": "63f88467-2122-44ba-a26f-db86aa3afd95",
   "metadata": {},
   "source": [
    "## Energy optimization using COBYLA optimizer\n",
    "\n",
    "1. Define the cost function. Cost function is a function returning the energy for given parameters set.\n",
    "\n",
    "2. The cost function can use quantum circuit inside. This should be parametrized quantum ciruit. After we circuit is defined we need to tun it and get expectationvalue of desired Hamiltonian. This expectation value is the function return.\n",
    "\n",
    "3. Here I use QC simulator to get the expectation value.\n",
    "\n"
   ]
  },
  {
   "cell_type": "code",
   "execution_count": 47,
   "id": "d75f6794-48a4-45d3-bcc8-93cce6108014",
   "metadata": {},
   "outputs": [],
   "source": [
    "# defining a cost function\n",
    "def estim(theta, bit_size, hamiltonian):\n",
    "    v_qc = vqc(theta, bit_size)\n",
    "    estimator = StatevectorEstimator()\n",
    "    job = estimator.run([(v_qc, hamiltonian)])\n",
    "    estimator_expvals = job.result()[0].data.evs\n",
    "    print \n",
    "    print('Energy: ' + str(estimator_expvals))\n",
    "    cost_history_dict[\"iters\"] += 1\n",
    "    cost_history_dict[\"prev_vector\"] = theta\n",
    "    cost_history_dict[\"cost_history\"].append(estimator_expvals)\n",
    "    return estimator_expvals    "
   ]
  },
  {
   "cell_type": "code",
   "execution_count": 49,
   "id": "e88409e1-a8fa-4488-9f1f-528eca64dbcc",
   "metadata": {},
   "outputs": [
    {
     "name": "stdout",
     "output_type": "stream",
     "text": [
      "Energy expectation is 0.0\n"
     ]
    }
   ],
   "source": [
    "# Defining the hamiltonian for which we want to find the ground state\n",
    "from qiskit.quantum_info import SparsePauliOp\n",
    "interactions = [(\"ZZ\", [0, 1], 1)]\n",
    "hamiltonian = SparsePauliOp.from_sparse_list(interactions, num_qubits=bit_size)\n",
    "\n",
    "#a = estim([0, math.pi/2],2, hamiltonian)\n",
    "\n",
    "print('Energy expectation is ' + str(a))"
   ]
  },
  {
   "cell_type": "code",
   "execution_count": 50,
   "id": "675f84ec-00d2-4fcd-96ce-ca348361c0c8",
   "metadata": {},
   "outputs": [
    {
     "name": "stdout",
     "output_type": "stream",
     "text": [
      "Energy: 1.0\n",
      "Energy: 0.5403023058681398\n",
      "Energy: 0.29192658172642894\n",
      "Energy: -0.028980109210747285\n",
      "Energy: 0.4973513497371404\n",
      "Energy: -0.27167146598190123\n",
      "Energy: -0.5729854585548831\n",
      "Energy: -0.7642061947022549\n",
      "Energy: -0.9687269576031717\n",
      "Energy: -0.8929044761847511\n",
      "Energy: -0.9925930380309244\n",
      "Energy: -0.9707379804591577\n",
      "Energy: -0.9975834724745799\n",
      "Energy: -0.9972404323740652\n",
      "Energy: -0.9931756919048833\n",
      "Energy: -0.9981328462872945\n",
      "Energy: -0.9974844551013285\n",
      "Energy: -0.9970572208628994\n",
      "Energy: -0.9995089929738487\n",
      "Energy: -0.9998346683959896\n",
      "Energy: -0.9987827417508532\n",
      "Energy: -0.9998239796570417\n",
      "Energy: -0.9999513893679552\n",
      "Energy: -0.9997091306717344\n",
      "Energy: -0.9999762370948717\n",
      "Energy: -0.9999127305484565\n",
      "Energy: -0.9999597529741984\n",
      "Energy: -0.9999939580167095\n",
      "Energy: -0.9999924725241424\n",
      "Energy: -0.9999982614459071\n",
      "Energy: -0.999993788973492\n",
      "Energy: -0.9999994131557828\n",
      "Energy: -0.9999997941393679\n",
      "Energy: -0.9999987682599502\n",
      "Energy: -0.9999998971131066\n",
      "Energy: -0.9999996130172635\n",
      "Energy: -0.9999998644324205\n",
      "Energy: -0.9999999672474916\n",
      "Energy: -0.999999968212612\n",
      "Energy: -0.9999999335693501\n",
      "Energy: -0.9999999923887313\n",
      "Energy: -0.9999999561931291\n",
      "Energy: -0.9999999847700436\n",
      "Energy: -0.9999999851103016\n",
      "Energy: -0.9999999992852842\n",
      "Energy: -0.9999999980156141\n",
      "Energy: -0.9999999942977512\n"
     ]
    }
   ],
   "source": [
    "#Run COBYLA optimizer\n",
    "cost_history_dict = {\n",
    "    \"prev_vector\": None,\n",
    "    \"iters\": 0,\n",
    "    \"cost_history\": [],\n",
    "}\n",
    "x0 = [0, 0]\n",
    "res = minimize(\n",
    "        estim,\n",
    "        x0,\n",
    "        args=(2 , hamiltonian),\n",
    "        method=\"cobyla\",\n",
    "    )"
   ]
  },
  {
   "cell_type": "code",
   "execution_count": 45,
   "id": "2aed32e2-1724-4400-95ac-1b4af9d476f2",
   "metadata": {},
   "outputs": [
    {
     "data": {
      "text/plain": [
       " message: Optimization terminated successfully.\n",
       " success: True\n",
       "  status: 1\n",
       "     fun: -0.9999999942977512\n",
       "       x: [ 3.142e+00 -4.663e-05]\n",
       "    nfev: 47\n",
       "   maxcv: 0.0"
      ]
     },
     "execution_count": 45,
     "metadata": {},
     "output_type": "execute_result"
    }
   ],
   "source": [
    "res"
   ]
  },
  {
   "cell_type": "code",
   "execution_count": 56,
   "id": "e4216df4-b084-4c4c-953c-ef5e9cd8f6ec",
   "metadata": {},
   "outputs": [
    {
     "data": {
      "image/png": "[encoded data removed]",
      "text/plain": [
       "<Figure size 640x480 with 1 Axes>"
      ]
     },
     "metadata": {},
     "output_type": "display_data"
    }
   ],
   "source": [
    "# Plotting Hamiltoniam energy as a function of iteration number\n",
    "import matplotlib.pyplot as plt\n",
    "fig, ax = plt.subplots()\n",
    "ax.plot(range(cost_history_dict[\"iters\"]), cost_history_dict[\"cost_history\"])\n",
    "ax.set_xlabel(\"Iterations\")\n",
    "ax.set_ylabel(\"Cost\")\n",
    "plt.draw()"
   ]
  },
  {
   "cell_type": "code",
   "execution_count": null,
   "id": "ce85905f-3baa-498b-8766-ac265ae84565",
   "metadata": {},
   "outputs": [],
   "source": []
  }
 ],
 "metadata": {
  "kernelspec": {
   "display_name": "Python 3 (ipykernel)",
   "language": "python",
   "name": "python3"
  },
  "language_info": {
   "codemirror_mode": {
    "name": "ipython",
    "version": 3
   },
   "file_extension": ".py",
   "mimetype": "text/x-python",
   "name": "python",
   "nbconvert_exporter": "python",
   "pygments_lexer": "ipython3",
   "version": "3.10.2"
  }
 },
 "nbformat": 4,
 "nbformat_minor": 5
}
