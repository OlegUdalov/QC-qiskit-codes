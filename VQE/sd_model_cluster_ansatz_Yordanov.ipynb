{
 "cells": [
  {
   "cell_type": "markdown",
   "id": "76fb9871-b5b3-43e0-95ba-06570e577c13",
   "metadata": {},
   "source": [
    "# s-d model + tight binding model, cluster ansatz by Yordanov\n",
    "\n",
    "## Calculation speed\n",
    "\n",
    "1. 3 nodes, 3 electrons\n",
    "\n",
    "   Single PC, Intel core i7\n",
    "\n",
    "   __Yordanov ansatz: 1000 iteration, 110 sec__\n",
    "\n",
    "   Even if I staart with correct solution, it takes 55 sec to finish simulations. In a first iteration it jumps of the solution and then slowly returns back.\n",
    "\n",
    "    __\"Classical\" cluster ansatz: 1000 iterations, 325 sec__\n",
    "\n",
    "   3 times longer than Yordanov ansatz, which is in agreement to 3 times longer quantum circuit for classical ansatz.\n",
    "\n",
    "   __Problem agnostic short anzatz (2 layers of rotations and entagling) with particle conservation in the cost function: 1000 iterations, 15 sec__\n",
    "\n",
    "   This ansatz is not reliable, does not give correct solution all the time. Depends on initial parameters values.\n",
    "\n",
    "   \n",
    "\n",
    "   "
   ]
  },
  {
   "cell_type": "code",
   "execution_count": 1,
   "id": "37e8e651-188a-45a5-a34d-39c85cbc4d0e",
   "metadata": {},
   "outputs": [],
   "source": [
    "#Qiskit modules\n",
    "import qiskit\n",
    "from qiskit import QuantumRegister as Q_R\n",
    "from qiskit import ClassicalRegister as C_R\n",
    "from qiskit_aer import Aer\n",
    "from qiskit import QuantumCircuit, transpile\n",
    "from qiskit_aer import AerSimulator\n",
    "from qiskit_ibm_runtime import EstimatorV2 as Estimator\n",
    "from qiskit.primitives import StatevectorSampler, StatevectorEstimator\n",
    "from qiskit.quantum_info import SparsePauliOp\n",
    "\n",
    "#math modules\n",
    "import math\n",
    "import numpy as np\n",
    "\n",
    "# SciPy minimizer routine\n",
    "from scipy.optimize import minimize\n",
    "\n",
    "import time\n",
    "\n",
    "#My libraries\n",
    "import vqe_funcs"
   ]
  },
  {
   "cell_type": "code",
   "execution_count": 2,
   "id": "5dcb86a6-1c56-4c70-a653-70ebff81f831",
   "metadata": {},
   "outputs": [],
   "source": [
    "PI = np.pi"
   ]
  },
  {
   "cell_type": "markdown",
   "id": "197d159f-ba6a-4fe9-a4ce-9d76603a8487",
   "metadata": {},
   "source": [
    "## Here are the functions performing Jordan-Wigner transformation for fermionc Pauli operators and kinetci energy of electrons \n",
    "\n",
    "Important notes:\n",
    "\n",
    "1) This is spin-depenedent version, so each node has spin-coordinate and is described by 2 qubits.\n",
    "\n",
    "   Spin-up state for node i is described by qubit i.\n",
    "\n",
    "   Spin-down state for node i is described by qubit i + N, where N is the nodes number."
   ]
  },
  {
   "cell_type": "code",
   "execution_count": 3,
   "id": "ab5a0621-c92d-4009-a410-3c6971d2152b",
   "metadata": {},
   "outputs": [],
   "source": [
    "from vqe_funcs import sigma_x, sigma_y, sigma_z, kinetic_energy, full_ham"
   ]
  },
  {
   "cell_type": "markdown",
   "id": "928288c0-b584-49be-8c65-b368ff4ea27d",
   "metadata": {},
   "source": [
    "## Magnetization distribution description"
   ]
  },
  {
   "cell_type": "code",
   "execution_count": 4,
   "id": "f7ecc2e0-2c40-4de3-8d4c-687686bfcdba",
   "metadata": {},
   "outputs": [],
   "source": [
    "#Uniform magnetization along z axis\n",
    "#nodes_number = 4\n",
    "#mag = []\n",
    "\n",
    "def uniform_z(nodes_number):\n",
    "    mag = []\n",
    "    for i in range(nodes_number):\n",
    "        mag.append([0, 0, 1])\n",
    "    return mag"
   ]
  },
  {
   "cell_type": "markdown",
   "id": "104d477c-845a-4a27-b73f-a9fbd11f9f6c",
   "metadata": {},
   "source": [
    "## Full Hamiltonian\n",
    "\n",
    "The Hamiltonian includes kinteic energy and s-d exchage energy"
   ]
  },
  {
   "cell_type": "code",
   "execution_count": 5,
   "id": "3641e5e1-de16-4b3a-b38e-7c2632faae1f",
   "metadata": {},
   "outputs": [],
   "source": [
    "#nodes_number = 2\n",
    "#mag = uniform_z(nodes_number)\n",
    "#full_ham(nodes_number, mag, 4, 1, periodic = True)"
   ]
  },
  {
   "cell_type": "code",
   "execution_count": 6,
   "id": "94cfe751-532b-4768-b395-5e98f389e129",
   "metadata": {},
   "outputs": [],
   "source": [
    "def anzatz_qc(theta, nodes_number, electrons_number):\n",
    "    qubits_number = 2 * nodes_number\n",
    "    q_r = Q_R(qubits_number)\n",
    "    v_qc = QuantumCircuit(q_r)\n",
    "    for i in range(electrons_number):\n",
    "        v_qc.x(i)\n",
    "    v_qc = vqe_funcs.exc_yordanov(qubits_number, theta, v_qc)\n",
    "    return v_qc"
   ]
  },
  {
   "cell_type": "code",
   "execution_count": 7,
   "id": "fe39c9cc-3ad9-4977-86cb-c1214ceee603",
   "metadata": {},
   "outputs": [],
   "source": [
    "\n",
    "#nodes_number = 6\n",
    "#electrons_number = 2\n",
    "#n_qubits = nodes_number * 2\n",
    "#len_se = n_qubits * (n_qubits - 1) / 2\n",
    "#len_de = n_qubits * (n_qubits - 1) * (n_qubits - 2) * (n_qubits - 3) / 4 / 2\n",
    "#len_tot = int(len_se + len_de)\n",
    "\n",
    "#theta = [0]\n",
    "#for i in range(len_tot):\n",
    "#    theta.append(0)\n",
    "\n",
    "#theta[8] = PI / 9\n",
    "\n",
    "#qc = anzatz_qc(theta, nodes_number, electrons_number)\n"
   ]
  },
  {
   "cell_type": "code",
   "execution_count": 8,
   "id": "88b39603-2354-4dd2-856f-808230298852",
   "metadata": {},
   "outputs": [],
   "source": [
    "#qc.decompose().count_ops()"
   ]
  },
  {
   "cell_type": "code",
   "execution_count": 9,
   "id": "72672e34-b069-421f-8b6e-f68d5379de46",
   "metadata": {},
   "outputs": [],
   "source": [
    "# defining a cost function\n",
    "cost_history_dict = {\n",
    "    \"prev_vector\": None,\n",
    "    \"iters\": 0,\n",
    "    \"cost_history\": [],\n",
    "}\n",
    "def estim(theta, nodes_number, hamiltonian, electrons_number):\n",
    "    v_qc = anzatz_qc(theta, nodes_number, electrons_number)\n",
    "    \n",
    "    estimator = StatevectorEstimator()\n",
    "    job = estimator.run([(v_qc, hamiltonian)])\n",
    "    estimator_expvals = job.result()[0].data.evs\n",
    "    \n",
    "      \n",
    "    #print \n",
    "    #print('iter: ' + str( cost_history_dict[\"iters\"]) + ', Energy: ' + str(estimator_expvals))\n",
    "    cost_history_dict[\"iters\"] += 1\n",
    "    cost_history_dict[\"prev_vector\"] = theta\n",
    "    cost_history_dict[\"cost_history\"].append(estimator_expvals)\n",
    "    return estimator_expvals"
   ]
  },
  {
   "cell_type": "code",
   "execution_count": 10,
   "id": "10282739-1564-499b-9c3a-3c56878aa6e5",
   "metadata": {},
   "outputs": [
    {
     "name": "stdout",
     "output_type": "stream",
     "text": [
      "['time elapsed: 76.63820552825928 sec']\n"
     ]
    }
   ],
   "source": [
    "# Hamiltonian parameters\n",
    "nodes_number = 3 #number of nodes\n",
    "n_qubits = nodes_number * 2\n",
    "J = -5 #s-d exchange constant\n",
    "t = 2 #hopping matrix element (kinetic energy coefficient)\n",
    "electrons_number = 3\n",
    "\n",
    "#Cost history initialization\n",
    "cost_history_dict = {\n",
    "    \"prev_vector\": None,\n",
    "    \"iters\": 0,\n",
    "    \"cost_history\": [],\n",
    "}\n",
    "\n",
    "import random\n",
    "num = random.random()\n",
    "#print(num)\n",
    "\n",
    "\n",
    "mag = []\n",
    "mag = uniform_z(nodes_number)\n",
    "\n",
    "#initialize the state\n",
    "len_se = n_qubits * (n_qubits - 1) / 2\n",
    "len_de = n_qubits * (n_qubits - 1) * (n_qubits - 2) * (n_qubits - 3) / 4 / 2\n",
    "len_tot = int(len_se + len_de)\n",
    "x0 = []\n",
    "for i in range(len_tot):\n",
    "    x0.append(0)\n",
    "    #x0.append(random.random())\n",
    "\n",
    "#define the Hamiltonian\n",
    "hamiltonian = full_ham(nodes_number, mag, J, t, periodic = True)\n",
    "#print(hamiltonian)\n",
    "#Optimization\n",
    "start = time.time()\n",
    "res = minimize(\n",
    "        estim,\n",
    "        x0,\n",
    "        args=(nodes_number , hamiltonian, electrons_number),\n",
    "        method=\"cobyla\",\n",
    "    )\n",
    "end = time.time()\n",
    "print(['time elapsed: ' + str(end - start) + ' sec'])\n",
    "#print(res)\n",
    "#print(cost_history_dict)"
   ]
  },
  {
   "cell_type": "code",
   "execution_count": 93,
   "id": "4cded1aa-8d5a-41e7-9d02-46652b67aae9",
   "metadata": {},
   "outputs": [
    {
     "name": "stdout",
     "output_type": "stream",
     "text": [
      " message: Optimization terminated successfully.\n",
      " success: True\n",
      "  status: 1\n",
      "     fun: -14.999999961112941\n",
      "       x: [ 1.000e+00  1.389e-05 ...  4.667e-11  4.217e-11]\n",
      "    nfev: 544\n",
      "   maxcv: 0.0\n",
      "{'prev_vector': array([ 9.99986111e-01,  1.38885356e-05,  2.93393659e-05, -1.38629451e-05,\n",
      "        6.69744359e-06,  4.88303147e-06,  9.96621513e-06,  8.75897339e-06,\n",
      "        1.13410222e-05, -8.95917976e-06,  4.15077680e-05, -3.28715203e-05,\n",
      "        3.37941523e-07,  3.37944855e-07,  1.00000034e+00,  4.15275771e-11,\n",
      "        4.45337655e-11,  6.09817730e-11,  1.11987619e-11,  5.36187682e-11,\n",
      "        4.85056644e-11,  2.13171898e-08,  2.89351069e-05, -2.78913944e-05,\n",
      "       -2.35560384e-05, -2.20917741e-05, -3.43130262e-05,  2.39891722e-11,\n",
      "       -2.04447623e-11,  4.70272239e-11,  4.06608782e-11, -7.38343606e-11,\n",
      "        3.06718943e-11,  3.73868384e-11, -4.65374632e-11,  7.00077203e-11,\n",
      "        4.82926297e-11,  4.40399586e-11,  4.64075826e-11,  4.82587011e-11,\n",
      "        4.78839189e-11,  2.97794561e-11,  4.67890590e-11,  2.96020118e-11,\n",
      "        5.16990340e-11,  8.54372874e-06,  6.53064437e-06, -3.67790610e-05,\n",
      "        3.74428286e-11,  6.46734877e-11,  5.51631117e-11,  4.27161521e-11,\n",
      "        7.00525005e-11,  4.43656362e-11,  3.94801940e-11,  2.77955908e-11,\n",
      "        2.73156855e-11,  4.66719296e-11,  4.66719296e-11,  4.21729340e-11]), 'iters': 544, 'cost_history': [array(-15.), array(-15.), array(-15.), array(-12.70151153), array(-12.70151153), array(-12.70151153), array(-15.), array(-12.70151153), array(-12.70151153), array(-12.70151153), array(-12.70151153), array(-12.70151153), array(-12.70151153), array(-15.), array(-15.), array(-15.), array(-15.), array(-15.), array(-15.), array(-15.), array(-15.), array(-15.), array(-11.55226729), array(-11.55226729), array(-11.55226729), array(-9.25377882), array(-9.25377882), array(-9.25377882), array(-15.), array(-15.), array(-15.), array(-15.), array(-15.), array(-15.), array(-15.), array(-15.), array(-15.), array(-15.), array(-15.), array(-15.), array(-15.), array(-15.), array(-15.), array(-15.), array(-15.), array(-15.), array(-10.40302306), array(-10.40302306), array(-10.40302306), array(-15.), array(-15.), array(-15.), array(-15.), array(-15.), array(-15.), array(-15.), array(-15.), array(-15.), array(-15.), array(-15.), array(-15.), array(-11.6844042), array(-14.68844108), array(-15.), array(-14.94532895), array(-14.81939047), array(-14.35088383), array(-14.89512403), array(-14.86187018), array(-14.84411366), array(-14.40261636), array(-14.85727026), array(-14.49182983), array(-14.82788669), array(-14.63571689), array(-15.), array(-14.07852776), array(-15.), array(-14.05106019), array(-14.76021896), array(-15.), array(-14.76271322), array(-15.), array(-14.6032423), array(-15.), array(-14.61350533), array(-15.), array(-14.63474543), array(-15.), array(-14.66949746), array(-15.), array(-14.67895776), array(-15.), array(-14.71428024), array(-15.), array(-14.84478394), array(-15.), array(-14.86919787), array(-15.), array(-14.92143505), array(-15.), array(-14.76458315), array(-15.), array(-14.75452319), array(-15.), array(-14.90813948), array(-15.), array(-14.96478267), array(-15.), array(-14.98611905), array(-15.), array(-14.82748579), array(-15.), array(-14.71632795), array(-15.), array(-14.71632795), array(-15.), array(-14.71632795), array(-15.), array(-14.71632795), array(-15.), array(-14.71632795), array(-15.), array(-14.71632795), array(-15.), array(-14.71632795), array(-15.), array(-14.71632795), array(-15.), array(-14.71632795), array(-15.), array(-14.71632795), array(-15.), array(-14.71632795), array(-15.), array(-14.71632795), array(-15.), array(-14.71632795), array(-15.), array(-14.71632795), array(-15.), array(-14.71632795), array(-15.), array(-14.71632795), array(-15.), array(-14.71632795), array(-15.), array(-14.71632795), array(-15.), array(-14.71632795), array(-15.), array(-14.71632795), array(-14.92879931), array(-14.99023837), array(-15.), array(-14.99348529), array(-14.99977486), array(-14.989124), array(-14.99756962), array(-14.98503422), array(-14.99878834), array(-14.98455505), array(-14.99566773), array(-14.97823491), array(-14.99914869), array(-14.98967005), array(-14.99812009), array(-14.99177846), array(-15.), array(-14.98899638), array(-15.), array(-14.98476726), array(-14.99341808), array(-14.97923834), array(-14.99464157), array(-14.98093449), array(-14.99103341), array(-14.99590694), array(-15.), array(-14.99753428), array(-15.), array(-14.9977744), array(-15.), array(-14.99624805), array(-15.), array(-14.99832663), array(-15.), array(-14.99629038), array(-15.), array(-14.9952134), array(-15.), array(-14.99453792), array(-15.), array(-14.9974098), array(-15.), array(-14.99717045), array(-15.), array(-14.99478931), array(-15.), array(-14.99722511), array(-15.), array(-14.99795115), array(-15.), array(-14.99608605), array(-15.), array(-14.99479061), array(-15.), array(-14.99479061), array(-15.), array(-14.99479061), array(-15.), array(-14.99479061), array(-15.), array(-14.99479061), array(-15.), array(-14.99479061), array(-15.), array(-14.99479061), array(-15.), array(-14.99479061), array(-15.), array(-14.99479061), array(-15.), array(-14.99479061), array(-15.), array(-14.99479061), array(-15.), array(-14.99479061), array(-15.), array(-14.99479061), array(-15.), array(-14.99479061), array(-15.), array(-14.99479061), array(-15.), array(-14.99479061), array(-15.), array(-14.99479061), array(-15.), array(-14.99479061), array(-15.), array(-14.99479061), array(-15.), array(-14.99479061), array(-15.), array(-14.99479061), array(-15.), array(-14.99479061), array(-15.), array(-14.99479061), array(-14.99869751), array(-14.99989571), array(-15.), array(-14.99994647), array(-14.99991698), array(-14.99969722), array(-14.9999682), array(-14.99977465), array(-15.), array(-14.99985673), array(-15.), array(-14.99983433), array(-14.99995342), array(-14.9996555), array(-14.99994648), array(-14.99977012), array(-14.9999337), array(-14.9997862), array(-14.99995591), array(-14.99976461), array(-14.99994548), array(-14.99971597), array(-14.99999353), array(-14.99993781), array(-14.99983506), array(-14.99992061), array(-15.), array(-14.99994403), array(-15.), array(-14.99994727), array(-15.), array(-14.99992841), array(-15.), array(-14.99994138), array(-15.), array(-14.99998464), array(-15.), array(-14.99998651), array(-15.), array(-14.99994514), array(-15.), array(-14.99992815), array(-15.), array(-14.9999581), array(-15.), array(-14.99996376), array(-15.), array(-14.99991006), array(-15.), array(-14.99995752), array(-15.), array(-14.99997317), array(-15.), array(-14.99990997), array(-15.), array(-14.99990997), array(-15.), array(-14.99990997), array(-15.), array(-14.99990997), array(-15.), array(-14.99990997), array(-15.), array(-14.99990997), array(-15.), array(-14.99990997), array(-15.), array(-14.99990997), array(-15.), array(-14.99990997), array(-15.), array(-14.99990997), array(-15.), array(-14.99990997), array(-15.), array(-14.99990997), array(-15.), array(-14.99990997), array(-15.), array(-14.99990997), array(-15.), array(-14.99990997), array(-15.), array(-14.99990997), array(-15.), array(-14.99990997), array(-15.), array(-14.99990997), array(-15.), array(-14.99990997), array(-15.), array(-14.99990997), array(-15.), array(-14.99990997), array(-15.), array(-14.99990997), array(-15.), array(-14.99990997), array(-14.99997749), array(-14.99999778), array(-15.), array(-14.99999677), array(-14.99999916), array(-14.99999657), array(-15.), array(-14.99999479), array(-15.), array(-14.99999633), array(-14.99999935), array(-14.99999651), array(-14.99999972), array(-14.99999663), array(-14.99999928), array(-14.99999668), array(-14.99999935), array(-14.99999607), array(-14.99999934), array(-14.99999516), array(-14.99999944), array(-14.99999701), array(-14.99999989), array(-14.99999533), array(-14.99999908), array(-14.99999864), array(-15.), array(-14.99999927), array(-15.), array(-14.99999918), array(-15.), array(-14.99999916), array(-15.), array(-14.99999869), array(-15.), array(-14.99999885), array(-15.), array(-14.99999909), array(-15.), array(-14.99999905), array(-15.), array(-14.99999885), array(-15.), array(-14.99999977), array(-15.), array(-14.99999943), array(-15.), array(-14.99999915), array(-15.), array(-14.99999917), array(-15.), array(-14.9999991), array(-15.), array(-14.9999991), array(-15.), array(-14.9999991), array(-15.), array(-14.9999991), array(-15.), array(-14.9999991), array(-15.), array(-14.9999991), array(-15.), array(-14.9999991), array(-15.), array(-14.9999991), array(-15.), array(-14.9999991), array(-15.), array(-14.9999991), array(-15.), array(-14.9999991), array(-15.), array(-14.9999991), array(-15.), array(-14.9999991), array(-15.), array(-14.9999991), array(-15.), array(-14.9999991), array(-15.), array(-14.9999991), array(-15.), array(-14.9999991), array(-15.), array(-14.9999991), array(-15.), array(-14.9999991), array(-15.), array(-14.9999991), array(-15.), array(-14.9999991), array(-15.), array(-14.9999991), array(-15.), array(-14.9999991), array(-15.), array(-14.9999991), array(-14.99999978), array(-14.99999997), array(-14.99999999), array(-14.99999995), array(-15.), array(-14.99999998), array(-15.), array(-14.99999997), array(-15.), array(-14.99999997), array(-15.), array(-14.99999995), array(-14.99999999), array(-14.99999996), array(-14.99999999), array(-14.99999996), array(-15.), array(-14.99999998), array(-14.99999999), array(-14.99999996), array(-14.99999999), array(-14.99999996), array(-15.), array(-14.99999997), array(-14.99999999), array(-14.99999996), array(-15.), array(-14.99999996), array(-15.), array(-14.99999996), array(-15.), array(-14.99999996), array(-15.), array(-14.99999996), array(-15.), array(-14.99999996), array(-15.), array(-14.99999996), array(-15.), array(-14.99999996), array(-15.), array(-14.99999996), array(-15.), array(-14.99999996), array(-15.), array(-14.99999996), array(-15.), array(-14.99999996), array(-15.), array(-14.99999996), array(-15.), array(-14.99999996), array(-15.), array(-14.99999996), array(-15.), array(-14.99999996), array(-15.), array(-14.99999996), array(-15.), array(-14.99999996), array(-15.), array(-14.99999996), array(-15.), array(-14.99999996), array(-15.), array(-14.99999996), array(-15.), array(-14.99999996), array(-15.), array(-14.99999996), array(-15.), array(-14.99999996), array(-15.), array(-14.99999996), array(-15.), array(-14.99999996), array(-15.), array(-14.99999996), array(-15.), array(-14.99999996), array(-15.), array(-14.99999996), array(-15.), array(-14.99999996), array(-15.), array(-14.99999996), array(-15.), array(-14.99999996), array(-15.), array(-14.99999996), array(-15.), array(-14.99999996), array(-15.), array(-14.99999996), array(-15.), array(-14.99999996), array(-15.), array(-14.99999996)]}\n"
     ]
    }
   ],
   "source": [
    "print(res)\n",
    "print(cost_history_dict)"
   ]
  },
  {
   "cell_type": "code",
   "execution_count": 94,
   "id": "6a932208-73df-46ac-9f95-e850a0e8a1e3",
   "metadata": {},
   "outputs": [
    {
     "data": {
      "text/plain": [
       "<qiskit.circuit.instructionset.InstructionSet at 0x1f2fa065510>"
      ]
     },
     "execution_count": 94,
     "metadata": {},
     "output_type": "execute_result"
    }
   ],
   "source": [
    "q_r = Q_R(nodes_number * 2)\n",
    "cl_r = C_R(nodes_number * 2)\n",
    "qc_f = QuantumCircuit(q_r,cl_r)\n",
    "qc_1 = anzatz_qc(res.x, nodes_number, electrons_number)\n",
    "qc_f.append(qc_1, q_r)\n",
    "\n",
    "#for i in range(bit_size):\n",
    "#    qc_f.measure(i,i)\n",
    "SimulatorAer = AerSimulator()\n",
    "\n",
    "qc_f.save_statevector()\n",
    "\n",
    "#qc_f.decompose().draw('mpl')"
   ]
  },
  {
   "cell_type": "code",
   "execution_count": 95,
   "id": "83280800-aeb6-463b-b093-75d74b2598ed",
   "metadata": {},
   "outputs": [],
   "source": [
    "#qc_f.decompose().count_ops()"
   ]
  },
  {
   "cell_type": "code",
   "execution_count": 96,
   "id": "173106b6-7a65-423e-ac30-9d55c0c29742",
   "metadata": {},
   "outputs": [],
   "source": [
    "from qiskit.quantum_info import partial_trace, DensityMatrix\n",
    "from qiskit.visualization import plot_state_city\n",
    "\n",
    "circ = transpile(qc_f, backend = SimulatorAer)\n",
    "result = SimulatorAer.run(circ,shots = 1).result()\n",
    "ground_state = result.get_statevector(circ)"
   ]
  },
  {
   "cell_type": "code",
   "execution_count": 97,
   "id": "adb8a270-5940-4ce6-a015-07dbc6821bad",
   "metadata": {},
   "outputs": [
    {
     "name": "stdout",
     "output_type": "stream",
     "text": [
      "state: 000111, prob: 0.9999999976025344, complex amplitude: (0.7071067803389157-0.7071067803389152j)\n",
      "Energy: -14.999999961112941\n"
     ]
    }
   ],
   "source": [
    "import sys\n",
    "sys.path.insert(0, 'C:/Users/Oleg/Google Диск/QC/Codes/QC-qiskit-codes/Library')\n",
    "import aux_func as af\n",
    "n_nonzero = 0\n",
    "n_states = pow(2, 2 * nodes_number)\n",
    "states = []\n",
    "prob = []\n",
    "for i in range(n_states):\n",
    "    pr = pow(abs(ground_state[i]), 2)\n",
    "    if pr>1/n_states:\n",
    "        n_nonzero = n_nonzero + 1\n",
    "        states.append(i)\n",
    "        prob.append(pr)\n",
    "        print('state: ' + str(af.int_2_bin_word(i, 2 * nodes_number)) + ', prob: ' + str(pr) + ', complex amplitude: ' + str(ground_state[i]))\n",
    "    \n",
    "print('Energy: ' + str(res.fun))"
   ]
  },
  {
   "cell_type": "code",
   "execution_count": null,
   "id": "d5ecd33b-3b78-4d17-a695-f218fa40c75d",
   "metadata": {},
   "outputs": [],
   "source": []
  },
  {
   "cell_type": "code",
   "execution_count": null,
   "id": "b1d36245-7cab-4cd5-9948-93771b5e3959",
   "metadata": {},
   "outputs": [],
   "source": []
  }
 ],
 "metadata": {
  "kernelspec": {
   "display_name": "Python 3 (ipykernel)",
   "language": "python",
   "name": "python3"
  },
  "language_info": {
   "codemirror_mode": {
    "name": "ipython",
    "version": 3
   },
   "file_extension": ".py",
   "mimetype": "text/x-python",
   "name": "python",
   "nbconvert_exporter": "python",
   "pygments_lexer": "ipython3",
   "version": "3.12.4"
  }
 },
 "nbformat": 4,
 "nbformat_minor": 5
}
