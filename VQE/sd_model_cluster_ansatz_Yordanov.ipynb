{
 "cells": [
  {
   "cell_type": "markdown",
   "id": "76fb9871-b5b3-43e0-95ba-06570e577c13",
   "metadata": {},
   "source": [
    "# s-d model + tight binding model, cluster ansatz by Yordanov\n",
    "\n",
    "## Calculation speed\n",
    "\n",
    "1. 3 nodes, 3 electrons\n",
    "\n",
    "   Single PC, Intel core i7\n",
    "\n",
    "   __Yordanov ansatz: 1000 iteration, 110 sec__\n",
    "\n",
    "   Even if I staart with correct solution, it takes 55 sec to finish simulations. In a first iteration it jumps of the solution and then slowly returns back. Requires 15k cx gates.\n",
    "\n",
    "    __\"Classical\" cluster ansatz: 1000 iterations, 325 sec__\n",
    "\n",
    "   3 times longer than Yordanov ansatz, which is in agreement to 3 times longer quantum circuit for classical ansatz.\n",
    "\n",
    "   __Problem agnostic short anzatz (2 layers of rotations and entagling) with particle conservation in the cost function: 1000 iterations, 15 sec__\n",
    "\n",
    "   This ansatz is not reliable, does not give correct solution all the time. Depends on initial parameters values.\n",
    "\n",
    "   __Using only single exciations in the anzats: 1000 iterations, 8 sec__\n",
    "\n",
    "   Looks like using single excitations is enough to get any wave function. This is because single excitations are performed one after another and act on superposition states. Not clear why we need double excitations. Circuit depth at that is much shorter. It requires about 750 cx gates only.\n",
    "\n",
    "\n",
    "## Dependence on the system size\n",
    "\n",
    "Comment: test is performed with U>> J,t. Initial state is one of the AFM states minimizing the Coulomb energy. There is degeracy of the Coulomb energy. There are several states with the same energy. Combination of these state allows to minimize the kinetic energy as well. This is what VQE is doing in this test.\n",
    "\n",
    "1. 2 nodes\n",
    "\n",
    "   Gets correct ground state withn 3 seconds. cx: 30, 600 interations to get convergence\n",
    "\n",
    "   2 nodes + 2 electrons, no periodic boundary conditions, J = 0. Exact solution: E_gs = -sqrt(U_c^2 + 2t^2).\n",
    "\n",
    "   For U_c = 10 and t = 1 we get E_gs = -10.198. VQE with 6000 iterations gives -10.1. So, we get 1% precision. At 30k iterations we get -10.1977, 0.003% precision\n",
    "\n",
    "3. 3 nodes\n",
    "\n",
    "   40 secs for 3000 iterations. cx: 84, do not get convergence. Looks like better ground state can be achieved.\n",
    "\n",
    "   Even with 12k iterations there is no convergence. However, the final state is very close to the ground state.\n",
    "\n",
    "4. 4 nodes\n",
    "\n",
    "   Cx: 170, 100 sec for 3000 iteration. No conversion. Even 12k  iteratoins (450 secs) is not enough to get the correct answer. Even 36k iteration is not enough for the convergence.\n",
    "   "
   ]
  },
  {
   "cell_type": "code",
   "execution_count": 1,
   "id": "37e8e651-188a-45a5-a34d-39c85cbc4d0e",
   "metadata": {},
   "outputs": [],
   "source": [
    "#Qiskit modules\n",
    "import qiskit\n",
    "from qiskit import QuantumRegister as Q_R\n",
    "from qiskit import ClassicalRegister as C_R\n",
    "from qiskit_aer import Aer\n",
    "from qiskit import QuantumCircuit, transpile\n",
    "from qiskit_aer import AerSimulator\n",
    "from qiskit_ibm_runtime import EstimatorV2 as Estimator\n",
    "from qiskit.primitives import StatevectorSampler, StatevectorEstimator\n",
    "from qiskit.quantum_info import SparsePauliOp\n",
    "\n",
    "#math modules\n",
    "import math\n",
    "import numpy as np\n",
    "\n",
    "# SciPy minimizer routine\n",
    "from scipy.optimize import minimize\n",
    "\n",
    "import time\n",
    "\n",
    "#My libraries\n",
    "import vqe_funcs"
   ]
  },
  {
   "cell_type": "code",
   "execution_count": 2,
   "id": "5dcb86a6-1c56-4c70-a653-70ebff81f831",
   "metadata": {},
   "outputs": [],
   "source": [
    "PI = np.pi"
   ]
  },
  {
   "cell_type": "markdown",
   "id": "197d159f-ba6a-4fe9-a4ce-9d76603a8487",
   "metadata": {},
   "source": [
    "## Here are the functions performing Jordan-Wigner transformation for fermionc Pauli operators and kinetci energy of electrons \n",
    "\n",
    "Important notes:\n",
    "\n",
    "1) This is spin-depenedent version, so each node has spin-coordinate and is described by 2 qubits.\n",
    "\n",
    "   Spin-up state for node i is described by qubit i.\n",
    "\n",
    "   Spin-down state for node i is described by qubit i + N, where N is the nodes number."
   ]
  },
  {
   "cell_type": "code",
   "execution_count": 3,
   "id": "ab5a0621-c92d-4009-a410-3c6971d2152b",
   "metadata": {},
   "outputs": [],
   "source": [
    "from vqe_funcs import sigma_x, sigma_y, sigma_z, kinetic_energy, full_ham"
   ]
  },
  {
   "cell_type": "markdown",
   "id": "928288c0-b584-49be-8c65-b368ff4ea27d",
   "metadata": {},
   "source": [
    "## Magnetization distribution description"
   ]
  },
  {
   "cell_type": "code",
   "execution_count": 4,
   "id": "f7ecc2e0-2c40-4de3-8d4c-687686bfcdba",
   "metadata": {},
   "outputs": [],
   "source": [
    "#Uniform magnetization along z axis\n",
    "#nodes_number = 4\n",
    "#mag = []\n",
    "\n",
    "def uniform_z(nodes_number):\n",
    "    mag = []\n",
    "    for i in range(nodes_number):\n",
    "        mag.append([0, 0, 1])\n",
    "    return mag"
   ]
  },
  {
   "cell_type": "markdown",
   "id": "104d477c-845a-4a27-b73f-a9fbd11f9f6c",
   "metadata": {},
   "source": [
    "## Full Hamiltonian\n",
    "\n",
    "The Hamiltonian includes kinteic energy and s-d exchage energy"
   ]
  },
  {
   "cell_type": "code",
   "execution_count": 5,
   "id": "3641e5e1-de16-4b3a-b38e-7c2632faae1f",
   "metadata": {},
   "outputs": [
    {
     "data": {
      "text/plain": [
       "SparsePauliOp(['IIIIZIIIIZ', 'IIIZIIIIZI', 'IIZIIIIZII', 'IZIIIIZIII', 'ZIIIIZIIII'],\n",
       "              coeffs=[1.+0.j, 1.+0.j, 1.+0.j, 1.+0.j, 1.+0.j])"
      ]
     },
     "execution_count": 5,
     "metadata": {},
     "output_type": "execute_result"
    }
   ],
   "source": [
    "#nodes_number = 2\n",
    "#mag = uniform_z(nodes_number)\n",
    "#full_ham(nodes_number, mag, 4, 1, periodic = True)\n",
    "\n",
    "vqe_funcs.Coulomb_on_site_ess(5, 2)"
   ]
  },
  {
   "cell_type": "code",
   "execution_count": 6,
   "id": "94cfe751-532b-4768-b395-5e98f389e129",
   "metadata": {},
   "outputs": [],
   "source": [
    "def anzatz_qc(theta, nodes_number, electrons_number):\n",
    "    qubits_number = 2 * nodes_number\n",
    "    q_r = Q_R(qubits_number)\n",
    "    v_qc = QuantumCircuit(q_r)\n",
    "    for i in range(electrons_number):\n",
    "        v_qc.x(i)\n",
    "    v_qc = vqe_funcs.exc_yordanov(qubits_number, theta, v_qc)\n",
    "    return v_qc"
   ]
  },
  {
   "cell_type": "code",
   "execution_count": 7,
   "id": "c3b626ba-3eea-466f-bf5e-7ce99e65cc11",
   "metadata": {},
   "outputs": [],
   "source": [
    "def anzatz_qc(theta, nodes_number, electrons_number):\n",
    "    qubits_number = 2 * nodes_number\n",
    "    q_r = Q_R(qubits_number)\n",
    "    v_qc = QuantumCircuit(q_r)\n",
    "    for i in range(electrons_number):\n",
    "        v_qc.x(i)\n",
    "    v_qc = vqe_funcs.exc_yordanov_no_stair(qubits_number, theta, v_qc)\n",
    "    return v_qc"
   ]
  },
  {
   "cell_type": "code",
   "execution_count": 68,
   "id": "f5a397e6-f4b0-463d-b47c-460818dbaa0a",
   "metadata": {},
   "outputs": [],
   "source": [
    "def anzatz_qc(theta, nodes_number, electrons_number, n_red, init_guess):\n",
    "    qubits_number = 2 * nodes_number\n",
    "    q_r = Q_R(qubits_number)\n",
    "    v_qc = QuantumCircuit(q_r)\n",
    "    for i in range(qubits_number):\n",
    "        if init_guess[i] == 1:\n",
    "            v_qc.x(i)\n",
    "    v_qc = vqe_funcs.exc_yordanov_single_only_no_ladder(qubits_number, theta, v_qc, n_red)\n",
    "    return v_qc"
   ]
  },
  {
   "cell_type": "code",
   "execution_count": 101,
   "id": "fe39c9cc-3ad9-4977-86cb-c1214ceee603",
   "metadata": {},
   "outputs": [],
   "source": [
    "nodes_number = 4\n",
    "electrons_number = 4\n",
    "n_qubits = nodes_number * 2\n",
    "len_se = n_qubits * (n_qubits - 1) / 2\n",
    "len_de = n_qubits * (n_qubits - 1) * (n_qubits - 2) * (n_qubits - 3) / 4 / 2\n",
    "len_tot = int(len_se + len_de)\n",
    "\n",
    "theta = [0]\n",
    "for i in range(len_tot):\n",
    "    theta.append(0)\n",
    "\n",
    "theta[8] = PI / 9\n",
    "theta[4] = PI / 9\n",
    "theta[8] = PI / 9\n",
    "\n",
    "init_guess = [1, 1, 1, 0, 0, 0, 0, 0, 0, 0, 0, 0]\n",
    "\n",
    "qc = anzatz_qc(theta, nodes_number, electrons_number, 0, init_guess)\n"
   ]
  },
  {
   "cell_type": "code",
   "execution_count": 102,
   "id": "88b39603-2354-4dd2-856f-808230298852",
   "metadata": {},
   "outputs": [
    {
     "data": {
      "text/plain": [
       "OrderedDict([('cx', 170),\n",
       "             ('r', 84),\n",
       "             ('u1', 84),\n",
       "             ('h', 60),\n",
       "             ('u2', 28),\n",
       "             ('u3', 3)])"
      ]
     },
     "execution_count": 102,
     "metadata": {},
     "output_type": "execute_result"
    }
   ],
   "source": [
    "qc.decompose().count_ops()"
   ]
  },
  {
   "cell_type": "code",
   "execution_count": 118,
   "id": "72672e34-b069-421f-8b6e-f68d5379de46",
   "metadata": {},
   "outputs": [],
   "source": [
    "# defining a cost function\n",
    "cost_history_dict = {\n",
    "    \"prev_vector\": None,\n",
    "    \"iters\": 0,\n",
    "    \"cost_history\": [],\n",
    "}\n",
    "def estim(theta, nodes_number, hamiltonian, electrons_number, n_red, init_guess):\n",
    "    v_qc = anzatz_qc(theta, nodes_number, electrons_number, n_red, init_guess)\n",
    "    \n",
    "    estimator = StatevectorEstimator()\n",
    "    job = estimator.run([(v_qc, hamiltonian)])\n",
    "    estimator_expvals = job.result()[0].data.evs\n",
    "    \n",
    "      \n",
    "    #print \n",
    "    #print('iter: ' + str( cost_history_dict[\"iters\"]) + ', Energy: ' + str(estimator_expvals))\n",
    "    cost_history_dict[\"iters\"] += 1\n",
    "    cost_history_dict[\"prev_vector\"] = theta\n",
    "    cost_history_dict[\"cost_history\"].append(estimator_expvals)\n",
    "    return estimator_expvals"
   ]
  },
  {
   "cell_type": "code",
   "execution_count": 127,
   "id": "fed8593c-5a54-4d07-8e48-379ee3742da9",
   "metadata": {},
   "outputs": [
    {
     "data": {
      "text/plain": [
       "array(-10.)"
      ]
     },
     "execution_count": 127,
     "metadata": {},
     "output_type": "execute_result"
    }
   ],
   "source": [
    "nodes_number = 2\n",
    "electrons_number = 2\n",
    "n_qubits = nodes_number * 2\n",
    "len_se = n_qubits * (n_qubits - 1) / 2\n",
    "len_de = n_qubits * (n_qubits - 1) * (n_qubits - 2) * (n_qubits - 3) / 4 / 2\n",
    "len_tot = int(len_se + len_de)\n",
    "\n",
    "theta = [0]\n",
    "for i in range(len_tot):\n",
    "    theta.append(0)\n",
    "\n",
    "#theta[0] = PI / 9\n",
    "#theta[4] = PI / 9\n",
    "\n",
    "init_guess = [1, 0, 0, 1]\n",
    "J = 0.00 #s-d exchange constant\n",
    "t = 2 #hopping matrix element (kinetic energy coefficient)\n",
    "electrons_number = 4\n",
    "n_red = 0\n",
    "U_c = 10\n",
    "hamiltonian = full_ham(nodes_number, mag, J, t, U_c, periodic = True)\n",
    "estim(theta, nodes_number, hamiltonian, electrons_number, 0, init_guess)"
   ]
  },
  {
   "cell_type": "code",
   "execution_count": 151,
   "id": "10282739-1564-499b-9c3a-3c56878aa6e5",
   "metadata": {},
   "outputs": [
    {
     "name": "stdout",
     "output_type": "stream",
     "text": [
      "['time elapsed: 203.29201006889343 sec']\n"
     ]
    }
   ],
   "source": [
    "# Hamiltonian parameters\n",
    "nodes_number = 2 #number of nodes\n",
    "n_qubits = nodes_number * 2\n",
    "J = 0.00 #s-d exchange constant\n",
    "t = 1 #hopping matrix element (kinetic energy coefficient)\n",
    "electrons_number = 2\n",
    "n_red = 0\n",
    "U_c = 10\n",
    "\n",
    "#Cost history initialization\n",
    "cost_history_dict = {\n",
    "    \"prev_vector\": None,\n",
    "    \"iters\": 0,\n",
    "    \"cost_history\": [],\n",
    "}\n",
    "\n",
    "import random\n",
    "num = random.random()\n",
    "#print(num)\n",
    "\n",
    "\n",
    "mag = []\n",
    "mag = uniform_z(nodes_number)\n",
    "\n",
    "#initialize the state\n",
    "len_se = n_qubits * (n_qubits - 1) / 2\n",
    "len_de = n_qubits * (n_qubits - 1) * (n_qubits - 2) * (n_qubits - 3) / 4 / 2\n",
    "len_tot = int(len_se + len_de)\n",
    "x0 = []\n",
    "for i in range(len_tot):\n",
    "    #x0.append(0)\n",
    "    x0.append(random.random())\n",
    "\n",
    "#initial guess for the solution\n",
    "init_guess = [1, 0, 0, 1]\n",
    "\n",
    "#define the Hamiltonian\n",
    "hamiltonian = full_ham(nodes_number, mag, J, t, U_c, periodic = False)\n",
    "#print(hamiltonian)\n",
    "#Optimization\n",
    "start = time.time()\n",
    "res = minimize(\n",
    "        estim,\n",
    "        x0,\n",
    "        args=(nodes_number , hamiltonian, electrons_number, n_red, init_guess),\n",
    "        method=\"cobyla\",\n",
    "        options={\"maxiter\":  36000}\n",
    "    )\n",
    "end = time.time()\n",
    "print(['time elapsed: ' + str(end - start) + ' sec'])\n",
    "#print(res)\n",
    "#print(cost_history_dict)"
   ]
  },
  {
   "cell_type": "code",
   "execution_count": 152,
   "id": "4cded1aa-8d5a-41e7-9d02-46652b67aae9",
   "metadata": {
    "scrolled": true
   },
   "outputs": [
    {
     "name": "stdout",
     "output_type": "stream",
     "text": [
      " message: Optimization terminated successfully.\n",
      " success: True\n",
      "  status: 1\n",
      "     fun: -10.197784691357581\n",
      "       x: [-9.513e-01  2.989e+00  1.568e+00 -1.752e+00 -2.670e+00\n",
      "            2.519e+00  8.223e-01  4.348e-01  1.953e-01]\n",
      "    nfev: 31029\n",
      "   maxcv: 0.0\n"
     ]
    }
   ],
   "source": [
    "print(res)\n",
    "#print(cost_history_dict)"
   ]
  },
  {
   "cell_type": "code",
   "execution_count": 146,
   "id": "6a932208-73df-46ac-9f95-e850a0e8a1e3",
   "metadata": {},
   "outputs": [
    {
     "name": "stdout",
     "output_type": "stream",
     "text": [
      "state: 0011, prob: 0.0013929969739959597, complex amplitude: (7.376598651721757e-17-0.03732287467486876j)\n",
      "state: 0101, prob: 0.017514705315525424, complex amplitude: (-5.711805542639874e-17-0.1323431347502598j)\n",
      "state: 0110, prob: 0.4016033775297241, complex amplitude: (-3.51741478293821e-16-0.6337218455519141j)\n",
      "state: 1001, prob: 0.5230644201935042, complex amplitude: (-4.998331553616212e-16-0.7232319269732941j)\n",
      "state: 1010, prob: 0.0174777073803289, complex amplitude: (-9.533768350582249e-17-0.13220328052029912j)\n",
      "state: 1100, prob: 0.03894679260692467, complex amplitude: (-8.077571169316327e-17-0.19734941754898763j)\n",
      "Energy: -10.73606077092056\n"
     ]
    }
   ],
   "source": [
    "q_r = Q_R(nodes_number * 2)\n",
    "cl_r = C_R(nodes_number * 2)\n",
    "qc_f = QuantumCircuit(q_r,cl_r)\n",
    "qc_1 = anzatz_qc(res.x, nodes_number, electrons_number, n_red, init_guess)\n",
    "qc_f.append(qc_1, q_r)\n",
    "\n",
    "#for i in range(bit_size):\n",
    "#    qc_f.measure(i,i)\n",
    "SimulatorAer = AerSimulator()\n",
    "\n",
    "qc_f.save_statevector()\n",
    "\n",
    "#qc_f.decompose().draw('mpl')\n",
    "\n",
    "from qiskit.quantum_info import partial_trace, DensityMatrix\n",
    "from qiskit.visualization import plot_state_city\n",
    "\n",
    "circ = transpile(qc_f, backend = SimulatorAer)\n",
    "result = SimulatorAer.run(circ,shots = 1).result()\n",
    "ground_state = result.get_statevector(circ)\n",
    "\n",
    "import sys\n",
    "sys.path.insert(0, 'C:/Users/Oleg/Google Диск/QC/Codes/QC-qiskit-codes/Library')\n",
    "import aux_func as af\n",
    "n_nonzero = 0\n",
    "n_states = pow(2, 2 * nodes_number)\n",
    "states = []\n",
    "prob = []\n",
    "for i in range(n_states):\n",
    "    pr = pow(abs(ground_state[i]), 2)\n",
    "    if pr>0.000001: #0/n_states/2:\n",
    "        n_nonzero = n_nonzero + 1\n",
    "        states.append(i)\n",
    "        prob.append(pr)\n",
    "        print('state: ' + str(af.int_2_bin_word(i, 2 * nodes_number)) + ', prob: ' + str(pr) + ', complex amplitude: ' + str(ground_state[i]))\n",
    "    \n",
    "print('Energy: ' + str(res.fun))"
   ]
  },
  {
   "cell_type": "code",
   "execution_count": 15,
   "id": "83280800-aeb6-463b-b093-75d74b2598ed",
   "metadata": {},
   "outputs": [],
   "source": [
    "#qc_f.decompose().count_ops()"
   ]
  },
  {
   "cell_type": "code",
   "execution_count": null,
   "id": "d5ecd33b-3b78-4d17-a695-f218fa40c75d",
   "metadata": {},
   "outputs": [],
   "source": []
  },
  {
   "cell_type": "code",
   "execution_count": null,
   "id": "b1d36245-7cab-4cd5-9948-93771b5e3959",
   "metadata": {},
   "outputs": [],
   "source": []
  }
 ],
 "metadata": {
  "kernelspec": {
   "display_name": "Python 3 (ipykernel)",
   "language": "python",
   "name": "python3"
  },
  "language_info": {
   "codemirror_mode": {
    "name": "ipython",
    "version": 3
   },
   "file_extension": ".py",
   "mimetype": "text/x-python",
   "name": "python",
   "nbconvert_exporter": "python",
   "pygments_lexer": "ipython3",
   "version": "3.10.2"
  }
 },
 "nbformat": 4,
 "nbformat_minor": 5
}
