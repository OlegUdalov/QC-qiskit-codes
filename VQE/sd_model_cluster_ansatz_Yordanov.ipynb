{
 "cells": [
  {
   "cell_type": "markdown",
   "id": "76fb9871-b5b3-43e0-95ba-06570e577c13",
   "metadata": {},
   "source": [
    "# s-d model + tight binding model, cluster ansatz by Yordanov"
   ]
  },
  {
   "cell_type": "code",
   "execution_count": 1,
   "id": "37e8e651-188a-45a5-a34d-39c85cbc4d0e",
   "metadata": {},
   "outputs": [],
   "source": [
    "#Qiskit modules\n",
    "import qiskit\n",
    "from qiskit import QuantumRegister as Q_R\n",
    "from qiskit import ClassicalRegister as C_R\n",
    "from qiskit_aer import Aer\n",
    "from qiskit import QuantumCircuit, transpile\n",
    "from qiskit_aer import AerSimulator\n",
    "from qiskit_ibm_runtime import EstimatorV2 as Estimator\n",
    "from qiskit.primitives import StatevectorSampler, StatevectorEstimator\n",
    "from qiskit.quantum_info import SparsePauliOp\n",
    "\n",
    "#math modules\n",
    "import math\n",
    "import numpy as np\n",
    "# SciPy minimizer routine\n",
    "from scipy.optimize import minimize\n",
    "\n",
    "#My libraries\n",
    "import vqe_funcs"
   ]
  },
  {
   "cell_type": "code",
   "execution_count": 2,
   "id": "5dcb86a6-1c56-4c70-a653-70ebff81f831",
   "metadata": {},
   "outputs": [],
   "source": [
    "PI = np.pi"
   ]
  },
  {
   "cell_type": "markdown",
   "id": "197d159f-ba6a-4fe9-a4ce-9d76603a8487",
   "metadata": {},
   "source": [
    "## Here are the functions performing Jordan-Wigner transformation for fermionc Pauli operators and kinetci energy of electrons \n",
    "\n",
    "Important notes:\n",
    "\n",
    "1) This is spin-depenedent version, so each node has spin-coordinate and is described by 2 qubits.\n",
    "\n",
    "   Spin-up state for node i is described by qubit i.\n",
    "\n",
    "   Spin-down state for node i is described by qubit i + N, where N is the nodes number."
   ]
  },
  {
   "cell_type": "code",
   "execution_count": 3,
   "id": "ab5a0621-c92d-4009-a410-3c6971d2152b",
   "metadata": {},
   "outputs": [],
   "source": [
    "from vqe_funcs import sigma_x, sigma_y, sigma_z, kinetic_energy, full_ham"
   ]
  },
  {
   "cell_type": "markdown",
   "id": "928288c0-b584-49be-8c65-b368ff4ea27d",
   "metadata": {},
   "source": [
    "## Magnetization distribution description"
   ]
  },
  {
   "cell_type": "code",
   "execution_count": 4,
   "id": "f7ecc2e0-2c40-4de3-8d4c-687686bfcdba",
   "metadata": {},
   "outputs": [],
   "source": [
    "#Uniform magnetization along z axis\n",
    "nodes_number = 4\n",
    "mag = []\n",
    "\n",
    "def uniform_z(nodes_number):\n",
    "    mag = []\n",
    "    for i in range(nodes_number):\n",
    "        mag.append([0, 0, 1])\n",
    "    return mag"
   ]
  },
  {
   "cell_type": "markdown",
   "id": "104d477c-845a-4a27-b73f-a9fbd11f9f6c",
   "metadata": {},
   "source": [
    "## Full Hamiltonian\n",
    "\n",
    "The Hamiltonian includes kinteic energy and s-d exchage energy"
   ]
  },
  {
   "cell_type": "code",
   "execution_count": 5,
   "id": "3641e5e1-de16-4b3a-b38e-7c2632faae1f",
   "metadata": {},
   "outputs": [
    {
     "data": {
      "text/plain": [
       "SparsePauliOp(['IIXX', 'IIYY', 'XXII', 'YYII', 'IIXX', 'IIYY', 'XXII', 'YYII', 'IIZI', 'ZIII', 'IIIZ', 'IZII'],\n",
       "              coeffs=[-0.5+0.j, -0.5+0.j, -0.5+0.j, -0.5+0.j, -0.5+0.j, -0.5+0.j, -0.5+0.j,\n",
       " -0.5+0.j, -2. +0.j,  2. +0.j, -2. +0.j,  2. +0.j])"
      ]
     },
     "execution_count": 5,
     "metadata": {},
     "output_type": "execute_result"
    }
   ],
   "source": [
    "nodes_number = 2\n",
    "mag = uniform_z(nodes_number)\n",
    "full_ham(nodes_number, mag, 4, 1, periodic = True)"
   ]
  },
  {
   "cell_type": "code",
   "execution_count": 6,
   "id": "94cfe751-532b-4768-b395-5e98f389e129",
   "metadata": {},
   "outputs": [],
   "source": [
    "def anzatz_qc(theta, nodes_number, electrons_number):\n",
    "    qubits_number = 2 * nodes_number\n",
    "    q_r = Q_R(qubits_number)\n",
    "    v_qc = QuantumCircuit(q_r)\n",
    "    for i in range(electrons_number):\n",
    "        v_qc.x(i)\n",
    "    v_qc = vqe_funcs.exc_yordanov(qubits_number, theta, v_qc)\n",
    "    return v_qc"
   ]
  },
  {
   "cell_type": "code",
   "execution_count": 19,
   "id": "fe39c9cc-3ad9-4977-86cb-c1214ceee603",
   "metadata": {},
   "outputs": [],
   "source": [
    "nodes_number = 6\n",
    "electrons_number = 2\n",
    "n_qubits = nodes_number * 2\n",
    "len_se = n_qubits * (n_qubits - 1) / 2\n",
    "len_de = n_qubits * (n_qubits - 1) * (n_qubits - 2) * (n_qubits - 3) / 4 / 2\n",
    "len_tot = int(len_se + len_de)\n",
    "\n",
    "theta = [0]\n",
    "for i in range(len_tot):\n",
    "    theta.append(0)\n",
    "\n",
    "theta[8] = PI / 9\n",
    "\n",
    "qc = anzatz_qc(theta, nodes_number, electrons_number)\n"
   ]
  },
  {
   "cell_type": "code",
   "execution_count": 20,
   "id": "88b39603-2354-4dd2-856f-808230298852",
   "metadata": {},
   "outputs": [
    {
     "data": {
      "text/plain": [
       "OrderedDict([('cx', 39162),\n",
       "             ('r', 12078),\n",
       "             ('u2', 8976),\n",
       "             ('h', 6120),\n",
       "             ('u3', 5942),\n",
       "             ('u1', 198)])"
      ]
     },
     "execution_count": 20,
     "metadata": {},
     "output_type": "execute_result"
    }
   ],
   "source": [
    "qc.decompose().count_ops()"
   ]
  },
  {
   "cell_type": "code",
   "execution_count": 9,
   "id": "72672e34-b069-421f-8b6e-f68d5379de46",
   "metadata": {},
   "outputs": [],
   "source": [
    "# defining a cost function\n",
    "cost_history_dict = {\n",
    "    \"prev_vector\": None,\n",
    "    \"iters\": 0,\n",
    "    \"cost_history\": [],\n",
    "}\n",
    "def estim(theta, nodes_number, hamiltonian, electrons_number):\n",
    "    v_qc = anzatz_qc(theta, nodes_number, electrons_number)\n",
    "    \n",
    "    estimator = StatevectorEstimator()\n",
    "    job = estimator.run([(v_qc, hamiltonian)])\n",
    "    estimator_expvals = job.result()[0].data.evs\n",
    "    \n",
    "      \n",
    "    #print \n",
    "    #print('Energy: ' + str(estimator_expvals))\n",
    "    cost_history_dict[\"iters\"] += 1\n",
    "    cost_history_dict[\"prev_vector\"] = theta\n",
    "    cost_history_dict[\"cost_history\"].append(estimator_expvals)\n",
    "    return estimator_expvals"
   ]
  },
  {
   "cell_type": "code",
   "execution_count": 10,
   "id": "10282739-1564-499b-9c3a-3c56878aa6e5",
   "metadata": {},
   "outputs": [],
   "source": [
    "# Hamiltonian parameters\n",
    "nodes_number = 3 #number of nodes\n",
    "n_qubits = nodes_number * 2\n",
    "J = -5 #s-d exchange constant\n",
    "t = 2 #hopping matrix element (kinetic energy coefficient)\n",
    "electrons_number = 3\n",
    "\n",
    "#Cost history initialization\n",
    "cost_history_dict = {\n",
    "    \"prev_vector\": None,\n",
    "    \"iters\": 0,\n",
    "    \"cost_history\": [],\n",
    "}\n",
    "\n",
    "import random\n",
    "num = random.random()\n",
    "#print(num)\n",
    "\n",
    "\n",
    "mag = []\n",
    "mag = uniform_z(nodes_number)\n",
    "\n",
    "#initialize the state\n",
    "len_se = n_qubits * (n_qubits - 1) / 2\n",
    "len_de = n_qubits * (n_qubits - 1) * (n_qubits - 2) * (n_qubits - 3) / 4 / 2\n",
    "len_tot = int(len_se + len_de)\n",
    "x0 = []\n",
    "for i in range(len_tot):\n",
    "    x0.append(random.random())\n",
    "\n",
    "#define the Hamiltonian\n",
    "hamiltonian = full_ham(nodes_number, mag, J, t, periodic = False)\n",
    "#print(hamiltonian)\n",
    "#Optimization\n",
    "res = minimize(\n",
    "        estim,\n",
    "        x0,\n",
    "        args=(nodes_number , hamiltonian, electrons_number),\n",
    "        method=\"cobyla\",\n",
    "    )\n"
   ]
  },
  {
   "cell_type": "code",
   "execution_count": 11,
   "id": "6a932208-73df-46ac-9f95-e850a0e8a1e3",
   "metadata": {},
   "outputs": [
    {
     "data": {
      "text/plain": [
       "<qiskit.circuit.instructionset.InstructionSet at 0x1f2f9446f80>"
      ]
     },
     "execution_count": 11,
     "metadata": {},
     "output_type": "execute_result"
    }
   ],
   "source": [
    "q_r = Q_R(nodes_number * 2)\n",
    "cl_r = C_R(nodes_number * 2)\n",
    "qc_f = QuantumCircuit(q_r,cl_r)\n",
    "qc_1 = anzatz_qc(res.x, nodes_number, electrons_number)\n",
    "qc_f.append(qc_1, q_r)\n",
    "\n",
    "#for i in range(bit_size):\n",
    "#    qc_f.measure(i,i)\n",
    "SimulatorAer = AerSimulator()\n",
    "\n",
    "qc_f.save_statevector()\n",
    "\n",
    "#qc_f.decompose().draw('mpl')"
   ]
  },
  {
   "cell_type": "code",
   "execution_count": 12,
   "id": "83280800-aeb6-463b-b093-75d74b2598ed",
   "metadata": {},
   "outputs": [
    {
     "data": {
      "text/plain": [
       "OrderedDict([('cx', 881),\n",
       "             ('ry', 405),\n",
       "             ('h', 285),\n",
       "             ('x', 183),\n",
       "             ('cz', 102),\n",
       "             ('rz', 45),\n",
       "             ('save_statevector', 1)])"
      ]
     },
     "execution_count": 12,
     "metadata": {},
     "output_type": "execute_result"
    }
   ],
   "source": [
    "qc_f.decompose().count_ops()"
   ]
  },
  {
   "cell_type": "code",
   "execution_count": 13,
   "id": "173106b6-7a65-423e-ac30-9d55c0c29742",
   "metadata": {},
   "outputs": [],
   "source": [
    "from qiskit.quantum_info import partial_trace, DensityMatrix\n",
    "from qiskit.visualization import plot_state_city\n",
    "\n",
    "circ = transpile(qc_f, backend = SimulatorAer)\n",
    "result = SimulatorAer.run(circ,shots = 1).result()\n",
    "ground_state = result.get_statevector(circ)"
   ]
  },
  {
   "cell_type": "code",
   "execution_count": 14,
   "id": "adb8a270-5940-4ce6-a015-07dbc6821bad",
   "metadata": {},
   "outputs": [
    {
     "name": "stdout",
     "output_type": "stream",
     "text": [
      "state: 000111, prob: 0.9995382753749635, complex amplitude: (0.7069435180320157-0.706943518032014j)\n",
      "Energy: -14.993953395543324\n"
     ]
    }
   ],
   "source": [
    "import sys\n",
    "sys.path.insert(0, 'C:/Users/Oleg/Google Диск/QC/Codes/QC-qiskit-codes/Library')\n",
    "import aux_func as af\n",
    "n_nonzero = 0\n",
    "n_states = pow(2, 2 * nodes_number)\n",
    "states = []\n",
    "prob = []\n",
    "for i in range(n_states):\n",
    "    pr = pow(abs(ground_state[i]), 2)\n",
    "    if pr>1/n_states:\n",
    "        n_nonzero = n_nonzero + 1\n",
    "        states.append(i)\n",
    "        prob.append(pr)\n",
    "        print('state: ' + str(af.int_2_bin_word(i, 2 * nodes_number)) + ', prob: ' + str(pr) + ', complex amplitude: ' + str(ground_state[i]))\n",
    "    \n",
    "print('Energy: ' + str(res.fun))"
   ]
  },
  {
   "cell_type": "code",
   "execution_count": null,
   "id": "d5ecd33b-3b78-4d17-a695-f218fa40c75d",
   "metadata": {},
   "outputs": [],
   "source": []
  }
 ],
 "metadata": {
  "kernelspec": {
   "display_name": "Python 3 (ipykernel)",
   "language": "python",
   "name": "python3"
  },
  "language_info": {
   "codemirror_mode": {
    "name": "ipython",
    "version": 3
   },
   "file_extension": ".py",
   "mimetype": "text/x-python",
   "name": "python",
   "nbconvert_exporter": "python",
   "pygments_lexer": "ipython3",
   "version": "3.10.2"
  }
 },
 "nbformat": 4,
 "nbformat_minor": 5
}
