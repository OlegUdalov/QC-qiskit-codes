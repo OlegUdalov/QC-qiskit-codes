{
 "cells": [
  {
   "cell_type": "code",
   "execution_count": null,
   "id": "36bdbf5f-538e-4c9b-9e79-bbe8fa764503",
   "metadata": {},
   "outputs": [],
   "source": []
  },
  {
   "cell_type": "code",
   "execution_count": 16,
   "id": "65268d85-54cb-4170-939e-46a56e9d9855",
   "metadata": {},
   "outputs": [],
   "source": [
    "#Qiskit modules\n",
    "import qiskit\n",
    "from qiskit import QuantumRegister as Q_R\n",
    "from qiskit import ClassicalRegister as C_R\n",
    "from qiskit_aer import Aer\n",
    "from qiskit import QuantumCircuit, transpile\n",
    "from qiskit_aer import AerSimulator\n",
    "from qiskit_ibm_runtime import EstimatorV2 as Estimator\n",
    "from qiskit.primitives import StatevectorSampler, StatevectorEstimator\n",
    "from qiskit.quantum_info import SparsePauliOp\n",
    "\n",
    "#math modules\n",
    "import math\n",
    "import numpy as np\n",
    "# SciPy minimizer routine\n",
    "from scipy.optimize import minimize\n",
    "\n",
    "#My libraries\n",
    "import vqe_funcs\n"
   ]
  },
  {
   "cell_type": "code",
   "execution_count": 17,
   "id": "9b687da1-cda3-4f7f-bc39-62f0dea0b86e",
   "metadata": {},
   "outputs": [],
   "source": [
    "PI = np.pi"
   ]
  },
  {
   "cell_type": "markdown",
   "id": "bdb6e470-a097-4e67-a68a-619d35881da0",
   "metadata": {},
   "source": [
    "## Here are the functions performing Jordan-Wigner transformation for fermionc Pauli operators and kinetci energy of electrons \n",
    "\n",
    "Important notes:\n",
    "\n",
    "1) This is spin-depenedent version, so each node has spin-coordinate and is described by 2 qubits.\n",
    "\n",
    "   Spin-up state for node i is described by qubit i.\n",
    "\n",
    "   Spin-down state for node i is described by qubit i + N, where N is the nodes number."
   ]
  },
  {
   "cell_type": "code",
   "execution_count": 7,
   "id": "d2e64c39-9ead-4143-aee6-dc4a8bec13b2",
   "metadata": {
    "jupyter": {
     "source_hidden": true
    }
   },
   "outputs": [],
   "source": [
    "\n",
    "\n",
    "def sigma_x(node, nodes_number):\n",
    "    if node > nodes_number - 1:\n",
    "        print('Error: node index (''node'') cannot be higher than the total number of nodes')\n",
    "        return -1\n",
    "    interaction_string_1 = ''\n",
    "    #term one\n",
    "    if node > 0:\n",
    "        for i in range(0, node):\n",
    "            interaction_string_1 = interaction_string_1 + 'I'\n",
    "    interaction_string_1 = interaction_string_1 + 'X'\n",
    "    for i in range(node + 1, node + nodes_number):\n",
    "        interaction_string_1 = interaction_string_1 + 'Z'\n",
    "    interaction_string_1 = interaction_string_1 + 'Y'\n",
    "    for i in range(node + nodes_number + 1, nodes_number * 2):\n",
    "        interaction_string_1 = interaction_string_1 + 'I'\n",
    "    #term two\n",
    "    interaction_string_2 = ''\n",
    "    if node > 0:\n",
    "        for i in range(0, node):\n",
    "            interaction_string_2 = interaction_string_2 + 'I'\n",
    "    interaction_string_2 = interaction_string_2 + 'Y'\n",
    "    for i in range(node + 1, node + nodes_number):\n",
    "        interaction_string_2 = interaction_string_2 + 'Z'\n",
    "    interaction_string_2 = interaction_string_2 + 'X'\n",
    "    for i in range(node + nodes_number + 1, nodes_number * 2):\n",
    "        interaction_string_2 = interaction_string_2 + 'I'\n",
    "    bits = range(nodes_number * 2)\n",
    "    interactions = [(interaction_string_1, bits, 1j/2)]\n",
    "    interactions.append((interaction_string_2, bits, 1j/2))\n",
    "    hamiltonian = SparsePauliOp.from_sparse_list(interactions, num_qubits = 2 * nodes_number)\n",
    "    return hamiltonian\n",
    "\n",
    "def sigma_y(node, nodes_number):\n",
    "    if node > nodes_number - 1:\n",
    "        print('Error: node index (''node'') cannot be higher than the total number of nodes')\n",
    "        return -1\n",
    "    interaction_string_1 = ''\n",
    "    #term one\n",
    "    if node > 0:\n",
    "        for i in range(0, node):\n",
    "            interaction_string_1 = interaction_string_1 + 'I'\n",
    "    interaction_string_1 = interaction_string_1 + 'X'\n",
    "    for i in range(node + 1, node + nodes_number):\n",
    "        interaction_string_1 = interaction_string_1 + 'Z'\n",
    "    interaction_string_1 = interaction_string_1 + 'X'\n",
    "    for i in range(node + nodes_number + 1, nodes_number * 2):\n",
    "        interaction_string_1 = interaction_string_1 + 'I'\n",
    "    #term two\n",
    "    interaction_string_2 = ''\n",
    "    if node > 0:\n",
    "        for i in range(0, node):\n",
    "            interaction_string_2 = interaction_string_2 + 'I'\n",
    "    interaction_string_2 = interaction_string_2 + 'Y'\n",
    "    for i in range(node + 1, node + nodes_number):\n",
    "        interaction_string_2 = interaction_string_2 + 'Z'\n",
    "    interaction_string_2 = interaction_string_2 + 'Y'\n",
    "    for i in range(node + nodes_number + 1, nodes_number * 2):\n",
    "        interaction_string_2 = interaction_string_2 + 'I'\n",
    "    bits = range(nodes_number * 2)\n",
    "    interactions = [(interaction_string_1, bits, -1j/2)]\n",
    "    interactions.append((interaction_string_2, bits, -1j/2))\n",
    "    hamiltonian = SparsePauliOp.from_sparse_list(interactions, num_qubits = 2 * nodes_number)\n",
    "    return hamiltonian\n",
    "\n",
    "def sigma_z(node, nodes_number):\n",
    "    if node > nodes_number - 1:\n",
    "        print('Error: node index (''node'') cannot be higher than the total number of nodes')\n",
    "        return -1\n",
    "\n",
    "    #term two\n",
    "    interaction_string_2 = ''\n",
    "    if node > 0:\n",
    "        for i in range(0, node):\n",
    "            interaction_string_2 = interaction_string_2 + 'I'\n",
    "    interaction_string_2 = interaction_string_2 + 'Z'\n",
    "    for i in range(node + 1, 2 * nodes_number):\n",
    "        interaction_string_2 = interaction_string_2 + 'I'\n",
    "\n",
    "    #term four\n",
    "    interaction_string_4 = ''\n",
    "    for i in range(0, node + nodes_number):\n",
    "        interaction_string_4 = interaction_string_4 + 'I'\n",
    "    interaction_string_4 = interaction_string_4 + 'Z'\n",
    "    for i in range(node + nodes_number + 1, 2 * nodes_number):\n",
    "        interaction_string_4 = interaction_string_4 + 'I'\n",
    "\n",
    "    \n",
    "    bits = range(nodes_number * 2)\n",
    "    interactions = [(interaction_string_2, bits, -1/2)]\n",
    "    interactions.append((interaction_string_4, bits, 1/2))\n",
    "    hamiltonian = SparsePauliOp.from_sparse_list(interactions, num_qubits = 2 * nodes_number)\n",
    "    return hamiltonian\n",
    "\n",
    "\n",
    "def kinetic_energy(t, nodes_number, periodic = True):\n",
    "    interactions = []\n",
    "    hamiltonian = []\n",
    "    bits = range(nodes_number * 2)\n",
    "    for i_node in range(0, nodes_number - 1):\n",
    "        interaction_string_1 = ''\n",
    "        for i in range(i_node):\n",
    "            interaction_string_1 = interaction_string_1 + 'I'\n",
    "        interaction_string_1 = interaction_string_1 + 'XX'\n",
    "        #print(interaction_string_1)\n",
    "        interaction_string_2 = ''\n",
    "        for i in range(i_node):\n",
    "            interaction_string_2 = interaction_string_2 + 'I'\n",
    "        interaction_string_2 = interaction_string_2 + 'YY'\n",
    "        \n",
    "        interaction_string_3 = ''\n",
    "        for i in range(i_node + nodes_number):\n",
    "            interaction_string_3 = interaction_string_3 + 'I'\n",
    "        interaction_string_3 = interaction_string_3 + 'XX'\n",
    "        \n",
    "        interaction_string_4 = ''\n",
    "        for i in range(i_node + nodes_number):\n",
    "            interaction_string_4 = interaction_string_4 + 'I'\n",
    "        interaction_string_4 = interaction_string_4 + 'YY'\n",
    "        interactions.append((interaction_string_1, bits, -t/2))\n",
    "        interactions.append((interaction_string_2, bits, -t/2))\n",
    "        interactions.append((interaction_string_3, bits, -t/2))\n",
    "        interactions.append((interaction_string_4, bits, -t/2))\n",
    "    \n",
    "    \n",
    "        \n",
    "    if periodic == True:\n",
    "        interaction_string_1 = ''\n",
    "        interaction_string_1 = interaction_string_1 + 'X'\n",
    "        for i in range(1, nodes_number - 1):\n",
    "            interaction_string_1 = interaction_string_1 + 'I'\n",
    "        interaction_string_1 = interaction_string_1 + 'X'\n",
    "        \n",
    "        interaction_string_2 = ''\n",
    "        interaction_string_2 = interaction_string_2 + 'Y'\n",
    "        for i in range(1, nodes_number - 1):\n",
    "            interaction_string_2 = interaction_string_2 + 'I'\n",
    "        interaction_string_2 = interaction_string_2 + 'Y'\n",
    "        \n",
    "        interaction_string_3 = ''\n",
    "        for i in range(0, nodes_number):\n",
    "            interaction_string_3 = interaction_string_3 + 'I'\n",
    "        interaction_string_3 = interaction_string_3 + 'X'\n",
    "        for i in range(nodes_number + 1, 2 * nodes_number - 1):\n",
    "            interaction_string_3 = interaction_string_3 + 'I'\n",
    "        interaction_string_3 = interaction_string_3 + 'X'\n",
    "        \n",
    "        interaction_string_4 = ''\n",
    "        for i in range(0, nodes_number):\n",
    "            interaction_string_4 = interaction_string_4 + 'I'\n",
    "        interaction_string_4 = interaction_string_4 + 'Y'\n",
    "        for i in range(nodes_number + 1, 2 * nodes_number - 1):\n",
    "            interaction_string_4 = interaction_string_4 + 'I'\n",
    "        interaction_string_4 = interaction_string_4 + 'Y'\n",
    "        \n",
    "        interactions.append((interaction_string_1, bits, -t/2))\n",
    "        interactions.append((interaction_string_2, bits, -t/2))\n",
    "        interactions.append((interaction_string_3, bits, -t/2))\n",
    "        interactions.append((interaction_string_4, bits, -t/2))\n",
    "\n",
    "    hamiltonian =  (SparsePauliOp.from_sparse_list(interactions, num_qubits = 2 * nodes_number))\n",
    "    return hamiltonian\n",
    "\n",
    "\n"
   ]
  },
  {
   "cell_type": "markdown",
   "id": "3429b1a3-4a00-4e6c-98b9-a784fb66b678",
   "metadata": {},
   "source": [
    "## Magnetization distribution description"
   ]
  },
  {
   "cell_type": "code",
   "execution_count": 5,
   "id": "a58ad86f-cb95-418a-8f21-1037e142e60f",
   "metadata": {},
   "outputs": [],
   "source": [
    "#Uniform magnetization along z axis\n",
    "nodes_number = 4\n",
    "mag = []\n",
    "\n",
    "def uniform_z(nodes_number):\n",
    "    mag = []\n",
    "    for i in range(nodes_number):\n",
    "        mag.append([0, 0, 1])\n",
    "    return mag"
   ]
  },
  {
   "cell_type": "markdown",
   "id": "10d5a0bb-d47a-45e8-8e8d-5568a47dfa38",
   "metadata": {},
   "source": [
    "## Full Hamiltonian\n",
    "\n",
    "The Hamiltonian includes kinteic energy and s-d exchage energy"
   ]
  },
  {
   "cell_type": "code",
   "execution_count": 9,
   "id": "61731f62-222e-4bce-8b2c-f07d174bbb0a",
   "metadata": {},
   "outputs": [
    {
     "data": {
      "text/plain": [
       "SparsePauliOp(['IIXX', 'IIYY', 'XXII', 'YYII', 'IIXX', 'IIYY', 'XXII', 'YYII', 'IIZI', 'ZIII', 'IIIZ', 'IZII'],\n",
       "              coeffs=[-0.5+0.j, -0.5+0.j, -0.5+0.j, -0.5+0.j, -0.5+0.j, -0.5+0.j, -0.5+0.j,\n",
       " -0.5+0.j, -2. +0.j,  2. +0.j, -2. +0.j,  2. +0.j])"
      ]
     },
     "execution_count": 9,
     "metadata": {},
     "output_type": "execute_result"
    }
   ],
   "source": [
    "def full_ham(nodes_number, magnetization, J, t, periodic = True):\n",
    "    hamiltonian = []\n",
    "    hamiltonian = kinetic_energy(t, nodes_number, periodic)\n",
    "    #mag_ham = SparsePauliOp.from_sparse_list([], num_qubits = 2 * nodes_number)\n",
    "    #mag_ham = sum([], J * magnetization[1][2] * sigma_x(1, nodes_number))\n",
    "    mag_ham = []\n",
    "    for node in range(nodes_number):\n",
    "        if magnetization[node][0] != 0:\n",
    "            #mag_ham.append(J*magnetization[node][0] * sigma_x(node, nodes_number))\n",
    "            mag_ham = sum(mag_ham, J * magnetization[node][0] * sigma_x(node, nodes_number))\n",
    "        if magnetization[node][1] != 0:\n",
    "            #mag_ham.append(J*magnetization[node][1] * sigma_y(node, nodes_number))\n",
    "            mag_ham = sum(mag_ham, J * magnetization[node][1] * sigma_y(node, nodes_number))\n",
    "        if magnetization[node][2] != 0:\n",
    "            #mag_ham.append(J*magnetization[node][2] * sigma_z(node, nodes_number))\n",
    "            mag_ham = sum(mag_ham, J * magnetization[node][2] * sigma_z(node, nodes_number))\n",
    "    hamiltonian = sum(mag_ham, hamiltonian)\n",
    "    return hamiltonian\n",
    "\n",
    "nodes_number = 2\n",
    "mag = uniform_z(nodes_number)\n",
    "full_ham(nodes_number, mag, 4, 1, periodic = True)"
   ]
  },
  {
   "cell_type": "markdown",
   "id": "262ee363-288b-4d91-a3ce-3fabde00e682",
   "metadata": {},
   "source": [
    "## Creating an anzatz"
   ]
  },
  {
   "cell_type": "code",
   "execution_count": 25,
   "id": "c3d37720-d3c2-42d8-9625-093759ee88ca",
   "metadata": {},
   "outputs": [],
   "source": [
    "def anzatz_qc(theta, nodes_number, electrons_number):\n",
    "    qubits_number = 2 * nodes_number\n",
    "    q_r = Q_R(qubits_number)\n",
    "    v_qc = QuantumCircuit(q_r)\n",
    "    for i in range(electrons_number):\n",
    "        v_qc.x(i)\n",
    "    v_qc = vqe_funcs.exc(qubits_number, theta, v_qc)\n",
    "    return v_qc"
   ]
  },
  {
   "cell_type": "code",
   "execution_count": 76,
   "id": "22590594-b2ff-4bd9-ae6f-9fa20c829260",
   "metadata": {},
   "outputs": [],
   "source": [
    "nodes_number = 2\n",
    "electrons_number = 2\n",
    "n_qubits = nodes_number * 2\n",
    "len_se = n_qubits * (n_qubits - 1) / 2\n",
    "len_de = n_qubits * (n_qubits - 1) * (n_qubits - 2) * (n_qubits - 3) / 4 / 2\n",
    "len_tot = int(len_se + len_de)\n",
    "\n",
    "theta = [0]\n",
    "for i in range(len_tot):\n",
    "    theta.append(0)\n",
    "\n",
    "theta[8] = PI / 9\n",
    "\n",
    "qc = anzatz_qc(theta, nodes_number, electrons_number)\n",
    "\n",
    "#qc.draw('mpl')\n"
   ]
  },
  {
   "cell_type": "code",
   "execution_count": 62,
   "id": "2e99b120-3230-49f8-9e46-7c14f2ccae1b",
   "metadata": {},
   "outputs": [
    {
     "data": {
      "text/plain": [
       "OrderedDict([('cx', 184), ('u2', 120), ('r', 120), ('u1', 36), ('u3', 2)])"
      ]
     },
     "execution_count": 62,
     "metadata": {},
     "output_type": "execute_result"
    }
   ],
   "source": [
    "qc.decompose().count_ops()"
   ]
  },
  {
   "cell_type": "code",
   "execution_count": 27,
   "id": "2b42ff33-740a-4326-8532-3df218129a9c",
   "metadata": {},
   "outputs": [],
   "source": [
    "# defining a cost function\n",
    "cost_history_dict = {\n",
    "    \"prev_vector\": None,\n",
    "    \"iters\": 0,\n",
    "    \"cost_history\": [],\n",
    "}\n",
    "def estim(theta, nodes_number, hamiltonian, electrons_number):\n",
    "    v_qc = anzatz_qc(theta, nodes_number, electrons_number)\n",
    "    \n",
    "    estimator = StatevectorEstimator()\n",
    "    job = estimator.run([(v_qc, hamiltonian)])\n",
    "    estimator_expvals = job.result()[0].data.evs\n",
    "    \n",
    "      \n",
    "    #print \n",
    "    #print('Energy: ' + str(estimator_expvals))\n",
    "    cost_history_dict[\"iters\"] += 1\n",
    "    cost_history_dict[\"prev_vector\"] = theta\n",
    "    cost_history_dict[\"cost_history\"].append(estimator_expvals)\n",
    "    return estimator_expvals"
   ]
  },
  {
   "cell_type": "code",
   "execution_count": 78,
   "id": "5bc5e3ee-cc85-4a54-8d58-21745d368820",
   "metadata": {},
   "outputs": [],
   "source": [
    "# Hamiltonian parameters\n",
    "nodes_number = 3 #number of nodes\n",
    "n_qubits = nodes_number * 2\n",
    "J = -5 #s-d exchange constant\n",
    "t = 2 #hopping matrix element (kinetic energy coefficient)\n",
    "electrons_number = 3\n",
    "\n",
    "#Cost history initialization\n",
    "cost_history_dict = {\n",
    "    \"prev_vector\": None,\n",
    "    \"iters\": 0,\n",
    "    \"cost_history\": [],\n",
    "}\n",
    "\n",
    "import random\n",
    "num = random.random()\n",
    "#print(num)\n",
    "\n",
    "\n",
    "mag = []\n",
    "mag = uniform_z(nodes_number)\n",
    "\n",
    "#initialize the state\n",
    "len_se = n_qubits * (n_qubits - 1) / 2\n",
    "len_de = n_qubits * (n_qubits - 1) * (n_qubits - 2) * (n_qubits - 3) / 4 / 2\n",
    "len_tot = int(len_se + len_de)\n",
    "x0 = []\n",
    "for i in range(len_tot):\n",
    "    x0.append(random.random())\n",
    "\n",
    "#define the Hamiltonian\n",
    "hamiltonian = full_ham(nodes_number, mag, J, t, periodic = False)\n",
    "#print(hamiltonian)\n",
    "#Optimization\n",
    "res = minimize(\n",
    "        estim,\n",
    "        x0,\n",
    "        args=(nodes_number , hamiltonian, electrons_number),\n",
    "        method=\"cobyla\",\n",
    "    )\n"
   ]
  },
  {
   "cell_type": "code",
   "execution_count": 69,
   "id": "e8782ac5-24ce-4102-a110-f07b13bcfb95",
   "metadata": {},
   "outputs": [
    {
     "data": {
      "text/plain": [
       "<qiskit.circuit.instructionset.InstructionSet at 0x229d3d9f4f0>"
      ]
     },
     "execution_count": 69,
     "metadata": {},
     "output_type": "execute_result"
    }
   ],
   "source": [
    "q_r = Q_R(nodes_number * 2)\n",
    "cl_r = C_R(nodes_number * 2)\n",
    "qc_f = QuantumCircuit(q_r,cl_r)\n",
    "qc_1 = anzatz_qc(res.x, nodes_number, electrons_number)\n",
    "qc_f.append(qc_1, q_r)\n",
    "\n",
    "#for i in range(bit_size):\n",
    "#    qc_f.measure(i,i)\n",
    "SimulatorAer = AerSimulator()\n",
    "\n",
    "qc_f.save_statevector()\n",
    "\n",
    "#qc_f.decompose().draw('mpl')"
   ]
  },
  {
   "cell_type": "code",
   "execution_count": 70,
   "id": "85657f7c-958f-4ffd-8c40-cdd0e9358bd7",
   "metadata": {},
   "outputs": [
    {
     "data": {
      "text/plain": [
       "OrderedDict([('cx', 184),\n",
       "             ('h', 120),\n",
       "             ('rx', 120),\n",
       "             ('rz', 36),\n",
       "             ('x', 2),\n",
       "             ('save_statevector', 1)])"
      ]
     },
     "execution_count": 70,
     "metadata": {},
     "output_type": "execute_result"
    }
   ],
   "source": [
    "qc_f.decompose().count_ops()"
   ]
  },
  {
   "cell_type": "code",
   "execution_count": 71,
   "id": "f01196b1-6ac1-4a4f-8b02-bd5f92cef5f3",
   "metadata": {},
   "outputs": [],
   "source": [
    "from qiskit.quantum_info import partial_trace, DensityMatrix\n",
    "from qiskit.visualization import plot_state_city\n",
    "\n",
    "circ = transpile(qc_f, backend = SimulatorAer)\n",
    "result = SimulatorAer.run(circ,shots = 1).result()\n",
    "ground_state = result.get_statevector(circ)"
   ]
  },
  {
   "cell_type": "code",
   "execution_count": 72,
   "id": "09bc43e9-2924-4341-b295-ad02318668d8",
   "metadata": {},
   "outputs": [
    {
     "name": "stdout",
     "output_type": "stream",
     "text": [
      "state: 0011, prob: 0.9999969422162966, complex amplitude: (0.9999984711069796+3.4771682655859982e-15j)\n",
      "Energy: -9.999980905051217\n"
     ]
    }
   ],
   "source": [
    "import sys\n",
    "sys.path.insert(0, 'C:/Users/Oleg/Google Диск/QC/Codes/QC-qiskit-codes/Library')\n",
    "import aux_func as af\n",
    "n_nonzero = 0\n",
    "n_states = pow(2, 2 * nodes_number)\n",
    "states = []\n",
    "prob = []\n",
    "for i in range(n_states):\n",
    "    pr = pow(abs(ground_state[i]), 2)\n",
    "    if pr>1/n_states:\n",
    "        n_nonzero = n_nonzero + 1\n",
    "        states.append(i)\n",
    "        prob.append(pr)\n",
    "        print('state: ' + str(af.int_2_bin_word(i, 2 * nodes_number)) + ', prob: ' + str(pr) + ', complex amplitude: ' + str(ground_state[i]))\n",
    "    \n",
    "print('Energy: ' + str(res.fun))"
   ]
  },
  {
   "cell_type": "code",
   "execution_count": null,
   "id": "57a7bafc-9edf-408a-b576-a3aecbe67382",
   "metadata": {},
   "outputs": [],
   "source": []
  }
 ],
 "metadata": {
  "kernelspec": {
   "display_name": "Python 3 (ipykernel)",
   "language": "python",
   "name": "python3"
  },
  "language_info": {
   "codemirror_mode": {
    "name": "ipython",
    "version": 3
   },
   "file_extension": ".py",
   "mimetype": "text/x-python",
   "name": "python",
   "nbconvert_exporter": "python",
   "pygments_lexer": "ipython3",
   "version": "3.10.2"
  }
 },
 "nbformat": 4,
 "nbformat_minor": 5
}
